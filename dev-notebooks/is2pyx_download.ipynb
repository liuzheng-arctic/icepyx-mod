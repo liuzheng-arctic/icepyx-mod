{
 "cells": [
  {
   "cell_type": "code",
   "execution_count": 1,
   "metadata": {},
   "outputs": [],
   "source": [
    "import numpy as np\n",
    "import xarray as xr\n",
    "import pandas as pd\n",
    "import shutil\n",
    "import h5py\n",
    "import os,json\n",
    "from pprint import pprint"
   ]
  },
  {
   "cell_type": "code",
   "execution_count": 2,
   "metadata": {},
   "outputs": [
    {
     "name": "stdout",
     "output_type": "stream",
     "text": [
      "/home/jovyan/icepyx\n"
     ]
    }
   ],
   "source": [
    "#change working directory\n",
    "%cd ../"
   ]
  },
  {
   "cell_type": "code",
   "execution_count": 11,
   "metadata": {},
   "outputs": [
    {
     "name": "stdout",
     "output_type": "stream",
     "text": [
      "The autoreload extension is already loaded. To reload it, use:\n",
      "  %reload_ext autoreload\n"
     ]
    }
   ],
   "source": [
    "%load_ext autoreload\n",
    "%autoreload 2\n",
    "\n",
    "from icepyx import is2class as ipd"
   ]
  },
  {
   "cell_type": "code",
   "execution_count": null,
   "metadata": {},
   "outputs": [],
   "source": []
  },
  {
   "cell_type": "markdown",
   "metadata": {},
   "source": [
    "### Choose a region for subsetting as well. Use the same region as in the core demo."
   ]
  },
  {
   "cell_type": "code",
   "execution_count": 12,
   "metadata": {},
   "outputs": [],
   "source": [
    "region_a = ipd.Icesat2Data('ATL09',[-180, 60, 180, 90],['2018-10-18','2018-10-18'], \\\n",
    "                           start_time='00:00:00', end_time='23:59:59', version='2')"
   ]
  },
  {
   "cell_type": "code",
   "execution_count": 13,
   "metadata": {},
   "outputs": [],
   "source": [
    "region_07 = ipd.Icesat2Data('ATL07',[-55, 68, -48, 71],['2019-02-22','2019-02-28'], \\\n",
    "                           start_time='00:00:00', end_time='23:59:59', version='2')"
   ]
  },
  {
   "cell_type": "code",
   "execution_count": 14,
   "metadata": {},
   "outputs": [
    {
     "name": "stdin",
     "output_type": "stream",
     "text": [
      "Earthdata Login password:  ········\n"
     ]
    }
   ],
   "source": [
    "session=region_a.earthdata_login('liuzheng','liuzheng@apl.uw.edu')"
   ]
  },
  {
   "cell_type": "markdown",
   "metadata": {},
   "source": [
    "### Now, generate variable dictionary. \n",
    "Get the variable dictionary by parsing the dataset xml information from NSIDC, by calling ```show_custom_options(session)```. \n",
    "\n",
    "The data variables are stored in ```region_a._cust_options['variables']```. "
   ]
  },
  {
   "cell_type": "code",
   "execution_count": 7,
   "metadata": {
    "collapsed": true,
    "jupyter": {
     "outputs_hidden": true
    },
    "scrolled": true
   },
   "outputs": [
    {
     "name": "stdout",
     "output_type": "stream",
     "text": [
      "Subsetting options\n",
      "[{'id': 'ICESAT2',\n",
      "  'maxGransAsyncRequest': '2000',\n",
      "  'maxGransSyncRequest': '100',\n",
      "  'spatialSubsetting': 'true',\n",
      "  'spatialSubsettingShapefile': 'true',\n",
      "  'temporalSubsetting': 'true',\n",
      "  'type': 'both'}]\n",
      "Data File Formats (Reformatting Options)\n",
      "['TABULAR_ASCII', 'NetCDF4-CF', 'Shapefile', 'NetCDF-3']\n",
      "Reprojection Options\n",
      "[]\n",
      "Data File (Reformatting) Options Supporting Reprojection\n",
      "['TABULAR_ASCII', 'NetCDF4-CF', 'Shapefile', 'NetCDF-3', 'No reformatting']\n",
      "Data File (Reformatting) Options NOT Supporting Reprojection\n",
      "[]\n",
      "Data Variables (also Subsettable)\n",
      "{'a_m1': ['ancillary_data/atmosphere/a_m1'],\n",
      " 'a_m2': ['ancillary_data/atmosphere/a_m2'],\n",
      " 'aclr_true': ['profile_1/high_rate/aclr_true',\n",
      "               'profile_2/high_rate/aclr_true',\n",
      "               'profile_3/high_rate/aclr_true'],\n",
      " 'aclr_use_atlas': ['ancillary_data/atmosphere/aclr_use_atlas'],\n",
      " 'alpha': ['ancillary_data/atmosphere/alpha'],\n",
      " 'apparent_surf_reflec': ['profile_1/high_rate/apparent_surf_reflec',\n",
      "                          'profile_2/high_rate/apparent_surf_reflec',\n",
      "                          'profile_3/high_rate/apparent_surf_reflec'],\n",
      " 'asr_avg': ['quality_assessment/profile_1/asr_avg',\n",
      "             'quality_assessment/profile_2/asr_avg',\n",
      "             'quality_assessment/profile_3/asr_avg'],\n",
      " 'asr_cal_factor': ['ancillary_data/atmosphere/asr_cal_factor'],\n",
      " 'asr_max': ['quality_assessment/profile_1/asr_max',\n",
      "             'quality_assessment/profile_2/asr_max',\n",
      "             'quality_assessment/profile_3/asr_max'],\n",
      " 'asr_min': ['quality_assessment/profile_1/asr_min',\n",
      "             'quality_assessment/profile_2/asr_min',\n",
      "             'quality_assessment/profile_3/asr_min'],\n",
      " 'asr_std': ['quality_assessment/profile_1/asr_std',\n",
      "             'quality_assessment/profile_2/asr_std',\n",
      "             'quality_assessment/profile_3/asr_std'],\n",
      " 'atlas_bandpass_fw': ['ancillary_data/atmosphere/atlas_bandpass_fw'],\n",
      " 'atlas_sdp_gps_epoch': ['ancillary_data/atlas_sdp_gps_epoch'],\n",
      " 'atlas_tele_fov': ['ancillary_data/atmosphere/atlas_tele_fov'],\n",
      " 'backg_c': ['profile_1/high_rate/backg_c',\n",
      "             'profile_2/high_rate/backg_c',\n",
      "             'profile_3/high_rate/backg_c'],\n",
      " 'backg_max_solar_elev': ['ancillary_data/atmosphere/backg_max_solar_elev'],\n",
      " 'backg_min_solar_elev': ['ancillary_data/atmosphere/backg_min_solar_elev'],\n",
      " 'backg_select': ['ancillary_data/atmosphere/backg_select'],\n",
      " 'backg_theoret': ['profile_1/high_rate/backg_theoret',\n",
      "                   'profile_2/high_rate/backg_theoret',\n",
      "                   'profile_3/high_rate/backg_theoret'],\n",
      " 'bckgrd_counts': ['profile_1/bckgrd_atlas/bckgrd_counts',\n",
      "                   'profile_2/bckgrd_atlas/bckgrd_counts',\n",
      "                   'profile_3/bckgrd_atlas/bckgrd_counts'],\n",
      " 'bckgrd_counts_reduced': ['profile_1/bckgrd_atlas/bckgrd_counts_reduced',\n",
      "                           'profile_2/bckgrd_atlas/bckgrd_counts_reduced',\n",
      "                           'profile_3/bckgrd_atlas/bckgrd_counts_reduced'],\n",
      " 'bckgrd_hist_top': ['profile_1/bckgrd_atlas/bckgrd_hist_top',\n",
      "                     'profile_2/bckgrd_atlas/bckgrd_hist_top',\n",
      "                     'profile_3/bckgrd_atlas/bckgrd_hist_top'],\n",
      " 'bckgrd_int_height': ['profile_1/bckgrd_atlas/bckgrd_int_height',\n",
      "                       'profile_2/bckgrd_atlas/bckgrd_int_height',\n",
      "                       'profile_3/bckgrd_atlas/bckgrd_int_height'],\n",
      " 'bckgrd_int_height_reduced': ['profile_1/bckgrd_atlas/bckgrd_int_height_reduced',\n",
      "                               'profile_2/bckgrd_atlas/bckgrd_int_height_reduced',\n",
      "                               'profile_3/bckgrd_atlas/bckgrd_int_height_reduced'],\n",
      " 'bckgrd_rate': ['profile_1/bckgrd_atlas/bckgrd_rate',\n",
      "                 'profile_2/bckgrd_atlas/bckgrd_rate',\n",
      "                 'profile_3/bckgrd_atlas/bckgrd_rate'],\n",
      " 'beam_azimuth': ['profile_1/high_rate/beam_azimuth',\n",
      "                  'profile_2/high_rate/beam_azimuth',\n",
      "                  'profile_3/high_rate/beam_azimuth'],\n",
      " 'beam_elevation': ['profile_1/high_rate/beam_elevation',\n",
      "                    'profile_2/high_rate/beam_elevation',\n",
      "                    'profile_3/high_rate/beam_elevation'],\n",
      " 'bs_extinc_backs': ['ancillary_data/atmosphere/bs_extinc_backs'],\n",
      " 'bs_lay_max_size': ['ancillary_data/atmosphere/bs_lay_max_size'],\n",
      " 'bs_thresh_scale': ['ancillary_data/atmosphere/bs_thresh_scale'],\n",
      " 'bs_top_scale': ['ancillary_data/atmosphere/bs_top_scale'],\n",
      " 'bs_wind_thres': ['ancillary_data/atmosphere/bs_wind_thres'],\n",
      " 'bsnow_con': ['profile_1/high_rate/bsnow_con',\n",
      "               'profile_1/low_rate/bsnow_con',\n",
      "               'profile_2/high_rate/bsnow_con',\n",
      "               'profile_2/low_rate/bsnow_con',\n",
      "               'profile_3/high_rate/bsnow_con',\n",
      "               'profile_3/low_rate/bsnow_con'],\n",
      " 'bsnow_dens': ['profile_1/high_rate/bsnow_dens',\n",
      "                'profile_2/high_rate/bsnow_dens',\n",
      "                'profile_3/high_rate/bsnow_dens'],\n",
      " 'bsnow_h': ['profile_1/high_rate/bsnow_h',\n",
      "             'profile_1/low_rate/bsnow_h',\n",
      "             'profile_2/high_rate/bsnow_h',\n",
      "             'profile_2/low_rate/bsnow_h',\n",
      "             'profile_3/high_rate/bsnow_h',\n",
      "             'profile_3/low_rate/bsnow_h'],\n",
      " 'bsnow_h_dens': ['profile_1/high_rate/bsnow_h_dens',\n",
      "                  'profile_2/high_rate/bsnow_h_dens',\n",
      "                  'profile_3/high_rate/bsnow_h_dens'],\n",
      " 'bsnow_od': ['profile_1/high_rate/bsnow_od',\n",
      "              'profile_1/low_rate/bsnow_od',\n",
      "              'profile_2/high_rate/bsnow_od',\n",
      "              'profile_2/low_rate/bsnow_od',\n",
      "              'profile_3/high_rate/bsnow_od',\n",
      "              'profile_3/low_rate/bsnow_od'],\n",
      " 'bsnow_prob': ['profile_1/low_rate/bsnow_prob',\n",
      "                'profile_2/low_rate/bsnow_prob',\n",
      "                'profile_3/low_rate/bsnow_prob'],\n",
      " 'bsnow_psc': ['profile_1/high_rate/bsnow_psc',\n",
      "               'profile_1/low_rate/bsnow_psc',\n",
      "               'profile_2/high_rate/bsnow_psc',\n",
      "               'profile_2/low_rate/bsnow_psc',\n",
      "               'profile_3/high_rate/bsnow_psc',\n",
      "               'profile_3/low_rate/bsnow_psc'],\n",
      " 'cab_mol_avg': ['quality_assessment/profile_1/cab_mol_avg',\n",
      "                 'quality_assessment/profile_2/cab_mol_avg',\n",
      "                 'quality_assessment/profile_3/cab_mol_avg'],\n",
      " 'cab_prof': ['profile_1/high_rate/cab_prof',\n",
      "              'profile_2/high_rate/cab_prof',\n",
      "              'profile_3/high_rate/cab_prof'],\n",
      " 'cal_bot_ht': ['ancillary_data/atmosphere/cal_bot_ht'],\n",
      " 'cal_c': ['profile_1/low_rate/cal_c',\n",
      "           'profile_2/low_rate/cal_c',\n",
      "           'profile_3/low_rate/cal_c'],\n",
      " 'cal_default': ['ancillary_data/atmosphere/cal_default'],\n",
      " 'cal_lat_bound': ['ancillary_data/atmosphere/cal_lat_bound'],\n",
      " 'cal_select': ['ancillary_data/atmosphere/cal_select'],\n",
      " 'cal_top_ht': ['ancillary_data/atmosphere/cal_top_ht'],\n",
      " 'cld_asr_pct': ['quality_assessment/profile_1/cld_asr_pct',\n",
      "                 'quality_assessment/profile_2/cld_asr_pct',\n",
      "                 'quality_assessment/profile_3/cld_asr_pct'],\n",
      " 'cld_avg': ['quality_assessment/profile_1/cld_avg',\n",
      "             'quality_assessment/profile_2/cld_avg',\n",
      "             'quality_assessment/profile_3/cld_avg'],\n",
      " 'cld_max': ['quality_assessment/profile_1/cld_max',\n",
      "             'quality_assessment/profile_2/cld_max',\n",
      "             'quality_assessment/profile_3/cld_max'],\n",
      " 'cld_min': ['quality_assessment/profile_1/cld_min',\n",
      "             'quality_assessment/profile_2/cld_min',\n",
      "             'quality_assessment/profile_3/cld_min'],\n",
      " 'cld_pct': ['quality_assessment/profile_1/cld_pct',\n",
      "             'quality_assessment/profile_2/cld_pct',\n",
      "             'quality_assessment/profile_3/cld_pct'],\n",
      " 'cloud_det_layer_thick': ['ancillary_data/atmosphere/cloud_det_layer_thick'],\n",
      " 'cloud_flag_asr': ['profile_1/high_rate/cloud_flag_asr',\n",
      "                    'profile_2/high_rate/cloud_flag_asr',\n",
      "                    'profile_3/high_rate/cloud_flag_asr'],\n",
      " 'cloud_flag_atm': ['profile_1/high_rate/cloud_flag_atm',\n",
      "                    'profile_2/high_rate/cloud_flag_atm',\n",
      "                    'profile_3/high_rate/cloud_flag_atm'],\n",
      " 'cloud_fold_flag': ['profile_1/high_rate/cloud_fold_flag',\n",
      "                     'profile_2/high_rate/cloud_fold_flag',\n",
      "                     'profile_3/high_rate/cloud_fold_flag'],\n",
      " 'cod_avg': ['quality_assessment/profile_1/cod_avg',\n",
      "             'quality_assessment/profile_2/cod_avg',\n",
      "             'quality_assessment/profile_3/cod_avg'],\n",
      " 'cod_max': ['quality_assessment/profile_1/cod_max',\n",
      "             'quality_assessment/profile_2/cod_max',\n",
      "             'quality_assessment/profile_3/cod_max'],\n",
      " 'cod_min': ['quality_assessment/profile_1/cod_min',\n",
      "             'quality_assessment/profile_2/cod_min',\n",
      "             'quality_assessment/profile_3/cod_min'],\n",
      " 'column_od_asr': ['profile_1/high_rate/column_od_asr',\n",
      "                   'profile_2/high_rate/column_od_asr',\n",
      "                   'profile_3/high_rate/column_od_asr'],\n",
      " 'column_od_asr_qf': ['profile_1/high_rate/column_od_asr_qf',\n",
      "                      'profile_2/high_rate/column_od_asr_qf',\n",
      "                      'profile_3/high_rate/column_od_asr_qf'],\n",
      " 'control': ['ancillary_data/control'],\n",
      " 'crossing_time': ['orbit_info/crossing_time'],\n",
      " 'cutoff1': ['ancillary_data/atmosphere/cutoff1'],\n",
      " 'cutoff2': ['ancillary_data/atmosphere/cutoff2'],\n",
      " 'cycle_number': ['orbit_info/cycle_number'],\n",
      " 'data_end_utc': ['ancillary_data/data_end_utc'],\n",
      " 'data_start_utc': ['ancillary_data/data_start_utc'],\n",
      " 'delta_time': ['profile_1/bckgrd_atlas/delta_time',\n",
      "                'profile_1/high_rate/delta_time',\n",
      "                'profile_1/low_rate/delta_time',\n",
      "                'profile_2/bckgrd_atlas/delta_time',\n",
      "                'profile_2/high_rate/delta_time',\n",
      "                'profile_2/low_rate/delta_time',\n",
      "                'profile_3/bckgrd_atlas/delta_time',\n",
      "                'profile_3/high_rate/delta_time',\n",
      "                'profile_3/low_rate/delta_time',\n",
      "                'quality_assessment/profile_1/delta_time',\n",
      "                'quality_assessment/profile_2/delta_time',\n",
      "                'quality_assessment/profile_3/delta_time'],\n",
      " 'dem_flag': ['profile_1/high_rate/dem_flag',\n",
      "              'profile_2/high_rate/dem_flag',\n",
      "              'profile_3/high_rate/dem_flag'],\n",
      " 'dem_h': ['profile_1/high_rate/dem_h',\n",
      "           'profile_2/high_rate/dem_h',\n",
      "           'profile_3/high_rate/dem_h'],\n",
      " 'density_pass1': ['profile_1/high_rate/density_pass1',\n",
      "                   'profile_2/high_rate/density_pass1',\n",
      "                   'profile_3/high_rate/density_pass1'],\n",
      " 'density_pass2': ['profile_1/high_rate/density_pass2',\n",
      "                   'profile_2/high_rate/density_pass2',\n",
      "                   'profile_3/high_rate/density_pass2'],\n",
      " 'detector_efficiency': ['ancillary_data/atmosphere/detector_efficiency'],\n",
      " 'downsample1': ['ancillary_data/atmosphere/downsample1'],\n",
      " 'downsample2': ['ancillary_data/atmosphere/downsample2'],\n",
      " 'ds_layers': ['profile_1/high_rate/ds_layers',\n",
      "               'profile_2/high_rate/ds_layers',\n",
      "               'profile_3/high_rate/ds_layers'],\n",
      " 'ds_surf_type': ['ds_surf_type'],\n",
      " 'ds_va_bin_h': ['profile_1/high_rate/ds_va_bin_h',\n",
      "                 'profile_1/low_rate/ds_va_bin_h',\n",
      "                 'profile_2/high_rate/ds_va_bin_h',\n",
      "                 'profile_2/low_rate/ds_va_bin_h',\n",
      "                 'profile_3/high_rate/ds_va_bin_h',\n",
      "                 'profile_3/low_rate/ds_va_bin_h'],\n",
      " 'dtime_fac1': ['profile_1/high_rate/dtime_fac1',\n",
      "                'profile_2/high_rate/dtime_fac1',\n",
      "                'profile_3/high_rate/dtime_fac1'],\n",
      " 'dtime_fac2': ['profile_1/high_rate/dtime_fac2',\n",
      "                'profile_2/high_rate/dtime_fac2',\n",
      "                'profile_3/high_rate/dtime_fac2'],\n",
      " 'dtime_select': ['ancillary_data/atmosphere/dtime_select'],\n",
      " 'end_cycle': ['ancillary_data/end_cycle'],\n",
      " 'end_delta_time': ['ancillary_data/end_delta_time'],\n",
      " 'end_geoseg': ['ancillary_data/end_geoseg'],\n",
      " 'end_gpssow': ['ancillary_data/end_gpssow'],\n",
      " 'end_gpsweek': ['ancillary_data/end_gpsweek'],\n",
      " 'end_orbit': ['ancillary_data/end_orbit'],\n",
      " 'end_region': ['ancillary_data/end_region'],\n",
      " 'end_rgt': ['ancillary_data/end_rgt'],\n",
      " 'granule_end_utc': ['ancillary_data/granule_end_utc'],\n",
      " 'granule_start_utc': ['ancillary_data/granule_start_utc'],\n",
      " 'grd_search_width': ['ancillary_data/atmosphere/grd_search_width'],\n",
      " 'lan': ['orbit_info/lan'],\n",
      " 'latitude': ['profile_1/high_rate/latitude',\n",
      "              'profile_1/low_rate/latitude',\n",
      "              'profile_2/high_rate/latitude',\n",
      "              'profile_2/low_rate/latitude',\n",
      "              'profile_3/high_rate/latitude',\n",
      "              'profile_3/low_rate/latitude'],\n",
      " 'layer_attr': ['profile_1/high_rate/layer_attr',\n",
      "                'profile_2/high_rate/layer_attr',\n",
      "                'profile_3/high_rate/layer_attr'],\n",
      " 'layer_bot': ['profile_1/high_rate/layer_bot',\n",
      "               'profile_2/high_rate/layer_bot',\n",
      "               'profile_3/high_rate/layer_bot'],\n",
      " 'layer_con': ['profile_1/high_rate/layer_con',\n",
      "               'profile_2/high_rate/layer_con',\n",
      "               'profile_3/high_rate/layer_con'],\n",
      " 'layer_conf_dens': ['profile_1/high_rate/layer_conf_dens',\n",
      "                     'profile_2/high_rate/layer_conf_dens',\n",
      "                     'profile_3/high_rate/layer_conf_dens'],\n",
      " 'layer_dens': ['profile_1/high_rate/layer_dens',\n",
      "                'profile_2/high_rate/layer_dens',\n",
      "                'profile_3/high_rate/layer_dens'],\n",
      " 'layer_flag': ['profile_1/high_rate/layer_flag',\n",
      "                'profile_2/high_rate/layer_flag',\n",
      "                'profile_3/high_rate/layer_flag'],\n",
      " 'layer_flag_cp1': ['ancillary_data/atmosphere/layer_flag_cp1'],\n",
      " 'layer_flag_cp2': ['ancillary_data/atmosphere/layer_flag_cp2'],\n",
      " 'layer_ib': ['profile_1/high_rate/layer_ib',\n",
      "              'profile_2/high_rate/layer_ib',\n",
      "              'profile_3/high_rate/layer_ib'],\n",
      " 'layer_sep': ['ancillary_data/atmosphere/layer_sep'],\n",
      " 'layer_thick': ['ancillary_data/atmosphere/layer_thick'],\n",
      " 'layer_top': ['profile_1/high_rate/layer_top',\n",
      "               'profile_2/high_rate/layer_top',\n",
      "               'profile_3/high_rate/layer_top'],\n",
      " 'longitude': ['profile_1/high_rate/longitude',\n",
      "               'profile_1/low_rate/longitude',\n",
      "               'profile_2/high_rate/longitude',\n",
      "               'profile_2/low_rate/longitude',\n",
      "               'profile_3/high_rate/longitude',\n",
      "               'profile_3/low_rate/longitude'],\n",
      " 'max_layers': ['ancillary_data/atmosphere/max_layers'],\n",
      " 'met_cldprs': ['profile_1/low_rate/met_cldprs',\n",
      "                'profile_2/low_rate/met_cldprs',\n",
      "                'profile_3/low_rate/met_cldprs'],\n",
      " 'met_ps': ['profile_1/low_rate/met_ps',\n",
      "            'profile_2/low_rate/met_ps',\n",
      "            'profile_3/low_rate/met_ps'],\n",
      " 'met_qv10m': ['profile_1/low_rate/met_qv10m',\n",
      "               'profile_2/low_rate/met_qv10m',\n",
      "               'profile_3/low_rate/met_qv10m'],\n",
      " 'met_qv2m': ['profile_1/low_rate/met_qv2m',\n",
      "              'profile_2/low_rate/met_qv2m',\n",
      "              'profile_3/low_rate/met_qv2m'],\n",
      " 'met_slp': ['profile_1/low_rate/met_slp',\n",
      "             'profile_2/low_rate/met_slp',\n",
      "             'profile_3/low_rate/met_slp'],\n",
      " 'met_t10m': ['profile_1/low_rate/met_t10m',\n",
      "              'profile_2/low_rate/met_t10m',\n",
      "              'profile_3/low_rate/met_t10m'],\n",
      " 'met_t2m': ['profile_1/low_rate/met_t2m',\n",
      "             'profile_2/low_rate/met_t2m',\n",
      "             'profile_3/low_rate/met_t2m'],\n",
      " 'met_tqi': ['profile_1/low_rate/met_tqi',\n",
      "             'profile_2/low_rate/met_tqi',\n",
      "             'profile_3/low_rate/met_tqi'],\n",
      " 'met_tql': ['profile_1/low_rate/met_tql',\n",
      "             'profile_2/low_rate/met_tql',\n",
      "             'profile_3/low_rate/met_tql'],\n",
      " 'met_troppb': ['profile_1/low_rate/met_troppb',\n",
      "                'profile_2/low_rate/met_troppb',\n",
      "                'profile_3/low_rate/met_troppb'],\n",
      " 'met_tropt': ['profile_1/low_rate/met_tropt',\n",
      "               'profile_2/low_rate/met_tropt',\n",
      "               'profile_3/low_rate/met_tropt'],\n",
      " 'met_ts': ['profile_1/low_rate/met_ts',\n",
      "            'profile_2/low_rate/met_ts',\n",
      "            'profile_3/low_rate/met_ts'],\n",
      " 'met_u10m': ['profile_1/low_rate/met_u10m',\n",
      "              'profile_2/low_rate/met_u10m',\n",
      "              'profile_3/low_rate/met_u10m'],\n",
      " 'met_u2m': ['profile_1/low_rate/met_u2m',\n",
      "             'profile_2/low_rate/met_u2m',\n",
      "             'profile_3/low_rate/met_u2m'],\n",
      " 'met_u50m': ['profile_1/low_rate/met_u50m',\n",
      "              'profile_2/low_rate/met_u50m',\n",
      "              'profile_3/low_rate/met_u50m'],\n",
      " 'met_v10m': ['profile_1/low_rate/met_v10m',\n",
      "              'profile_2/low_rate/met_v10m',\n",
      "              'profile_3/low_rate/met_v10m'],\n",
      " 'met_v2m': ['profile_1/low_rate/met_v2m',\n",
      "             'profile_2/low_rate/met_v2m',\n",
      "             'profile_3/low_rate/met_v2m'],\n",
      " 'met_v50m': ['profile_1/low_rate/met_v50m',\n",
      "              'profile_2/low_rate/met_v50m',\n",
      "              'profile_3/low_rate/met_v50m'],\n",
      " 'mol_backs_folded': ['profile_1/low_rate/mol_backs_folded',\n",
      "                      'profile_2/low_rate/mol_backs_folded',\n",
      "                      'profile_3/low_rate/mol_backs_folded'],\n",
      " 'mol_backscatter': ['profile_1/low_rate/mol_backscatter',\n",
      "                     'profile_2/low_rate/mol_backscatter',\n",
      "                     'profile_3/low_rate/mol_backscatter'],\n",
      " 'molec_bkscat_p': ['profile_1/low_rate/molec_bkscat_p',\n",
      "                    'profile_2/low_rate/molec_bkscat_p',\n",
      "                    'profile_3/low_rate/molec_bkscat_p'],\n",
      " 'molec_bkscat_rh': ['profile_1/low_rate/molec_bkscat_rh',\n",
      "                     'profile_2/low_rate/molec_bkscat_rh',\n",
      "                     'profile_3/low_rate/molec_bkscat_rh'],\n",
      " 'molec_bkscat_t': ['profile_1/low_rate/molec_bkscat_t',\n",
      "                    'profile_2/low_rate/molec_bkscat_t',\n",
      "                    'profile_3/low_rate/molec_bkscat_t'],\n",
      " 'molec_trans': ['profile_1/low_rate/molec_trans',\n",
      "                 'profile_2/low_rate/molec_trans',\n",
      "                 'profile_3/low_rate/molec_trans'],\n",
      " 'msw_flag': ['profile_1/high_rate/msw_flag',\n",
      "              'profile_2/high_rate/msw_flag',\n",
      "              'profile_3/high_rate/msw_flag'],\n",
      " 'neighborhood1': ['ancillary_data/atmosphere/neighborhood1'],\n",
      " 'neighborhood2': ['ancillary_data/atmosphere/neighborhood2'],\n",
      " 'normalization1': ['ancillary_data/atmosphere/normalization1'],\n",
      " 'normalization2': ['ancillary_data/atmosphere/normalization2'],\n",
      " 'num_passes': ['ancillary_data/atmosphere/num_passes'],\n",
      " 'ocean_surf_reflec': ['profile_1/high_rate/ocean_surf_reflec',\n",
      "                       'profile_2/high_rate/ocean_surf_reflec',\n",
      "                       'profile_3/high_rate/ocean_surf_reflec'],\n",
      " 'orbit_number': ['orbit_info/orbit_number'],\n",
      " 'osr_avg': ['quality_assessment/profile_1/osr_avg',\n",
      "             'quality_assessment/profile_2/osr_avg',\n",
      "             'quality_assessment/profile_3/osr_avg'],\n",
      " 'osr_max': ['quality_assessment/profile_1/osr_max',\n",
      "             'quality_assessment/profile_2/osr_max',\n",
      "             'quality_assessment/profile_3/osr_max'],\n",
      " 'osr_min': ['quality_assessment/profile_1/osr_min',\n",
      "             'quality_assessment/profile_2/osr_min',\n",
      "             'quality_assessment/profile_3/osr_min'],\n",
      " 'pce_mframe_cnt': ['profile_1/bckgrd_atlas/pce_mframe_cnt',\n",
      "                    'profile_1/high_rate/pce_mframe_cnt',\n",
      "                    'profile_2/bckgrd_atlas/pce_mframe_cnt',\n",
      "                    'profile_2/high_rate/pce_mframe_cnt',\n",
      "                    'profile_3/bckgrd_atlas/pce_mframe_cnt',\n",
      "                    'profile_3/high_rate/pce_mframe_cnt'],\n",
      " 'phi_land': ['ancillary_data/atmosphere/phi_land'],\n",
      " 'phi_ocean': ['ancillary_data/atmosphere/phi_ocean'],\n",
      " 'planck_const': ['ancillary_data/atmosphere/planck_const'],\n",
      " 'proc_interval': ['ancillary_data/atmosphere/proc_interval'],\n",
      " 'prof_dist_x': ['profile_1/high_rate/prof_dist_x',\n",
      "                 'profile_2/high_rate/prof_dist_x',\n",
      "                 'profile_3/high_rate/prof_dist_x'],\n",
      " 'prof_dist_y': ['profile_1/high_rate/prof_dist_y',\n",
      "                 'profile_2/high_rate/prof_dist_y',\n",
      "                 'profile_3/high_rate/prof_dist_y'],\n",
      " 'qa_at_interval': ['ancillary_data/qa_at_interval'],\n",
      " 'qa_granule_fail_reason': ['quality_assessment/qa_granule_fail_reason'],\n",
      " 'qa_granule_pass_fail': ['quality_assessment/qa_granule_pass_fail'],\n",
      " 'quantile1': ['ancillary_data/atmosphere/quantile1'],\n",
      " 'quantile2': ['ancillary_data/atmosphere/quantile2'],\n",
      " 'range_to_top': ['profile_1/high_rate/range_to_top',\n",
      "                  'profile_2/high_rate/range_to_top',\n",
      "                  'profile_3/high_rate/range_to_top'],\n",
      " 'receiver_optical_throughput': ['ancillary_data/atmosphere/receiver_optical_throughput'],\n",
      " 'release': ['ancillary_data/release'],\n",
      " 'rgt': ['orbit_info/rgt'],\n",
      " 'sc_orient': ['orbit_info/sc_orient'],\n",
      " 'sc_orient_time': ['orbit_info/sc_orient_time'],\n",
      " 'segment_id': ['profile_1/high_rate/segment_id',\n",
      "                'profile_2/high_rate/segment_id',\n",
      "                'profile_3/high_rate/segment_id'],\n",
      " 'sig_count_hi': ['profile_1/high_rate/sig_count_hi',\n",
      "                  'profile_2/high_rate/sig_count_hi',\n",
      "                  'profile_3/high_rate/sig_count_hi'],\n",
      " 'sig_count_low': ['profile_1/high_rate/sig_count_low',\n",
      "                   'profile_2/high_rate/sig_count_low',\n",
      "                   'profile_3/high_rate/sig_count_low'],\n",
      " 'sig_count_med': ['profile_1/high_rate/sig_count_med',\n",
      "                   'profile_2/high_rate/sig_count_med',\n",
      "                   'profile_3/high_rate/sig_count_med'],\n",
      " 'sig_h_mean_hi': ['profile_1/high_rate/sig_h_mean_hi',\n",
      "                   'profile_2/high_rate/sig_h_mean_hi',\n",
      "                   'profile_3/high_rate/sig_h_mean_hi'],\n",
      " 'sig_h_mean_low': ['profile_1/high_rate/sig_h_mean_low',\n",
      "                    'profile_2/high_rate/sig_h_mean_low',\n",
      "                    'profile_3/high_rate/sig_h_mean_low'],\n",
      " 'sig_h_mean_med': ['profile_1/high_rate/sig_h_mean_med',\n",
      "                    'profile_2/high_rate/sig_h_mean_med',\n",
      "                    'profile_3/high_rate/sig_h_mean_med'],\n",
      " 'sig_h_sdev_hi': ['profile_1/high_rate/sig_h_sdev_hi',\n",
      "                   'profile_2/high_rate/sig_h_sdev_hi',\n",
      "                   'profile_3/high_rate/sig_h_sdev_hi'],\n",
      " 'sig_h_sdev_low': ['profile_1/high_rate/sig_h_sdev_low',\n",
      "                    'profile_2/high_rate/sig_h_sdev_low',\n",
      "                    'profile_3/high_rate/sig_h_sdev_low'],\n",
      " 'sig_h_sdev_med': ['profile_1/high_rate/sig_h_sdev_med',\n",
      "                    'profile_2/high_rate/sig_h_sdev_med',\n",
      "                    'profile_3/high_rate/sig_h_sdev_med'],\n",
      " 'sigma1': ['ancillary_data/atmosphere/sigma1'],\n",
      " 'sigma2': ['ancillary_data/atmosphere/sigma2'],\n",
      " 'size_threshold1': ['ancillary_data/atmosphere/size_threshold1'],\n",
      " 'size_threshold2': ['ancillary_data/atmosphere/size_threshold2'],\n",
      " 'snow_age': ['ancillary_data/atmosphere/snow_age'],\n",
      " 'snow_ice': ['profile_1/high_rate/snow_ice',\n",
      "              'profile_2/high_rate/snow_ice',\n",
      "              'profile_3/high_rate/snow_ice'],\n",
      " 'solar_azimuth': ['profile_1/high_rate/solar_azimuth',\n",
      "                   'profile_2/high_rate/solar_azimuth',\n",
      "                   'profile_3/high_rate/solar_azimuth'],\n",
      " 'solar_elevation': ['profile_1/high_rate/solar_elevation',\n",
      "                     'profile_2/high_rate/solar_elevation',\n",
      "                     'profile_3/high_rate/solar_elevation'],\n",
      " 'solar_flux': ['ancillary_data/atmosphere/solar_flux'],\n",
      " 'start_cycle': ['ancillary_data/start_cycle'],\n",
      " 'start_delta_time': ['ancillary_data/start_delta_time'],\n",
      " 'start_geoseg': ['ancillary_data/start_geoseg'],\n",
      " 'start_gpssow': ['ancillary_data/start_gpssow'],\n",
      " 'start_gpsweek': ['ancillary_data/start_gpsweek'],\n",
      " 'start_orbit': ['ancillary_data/start_orbit'],\n",
      " 'start_region': ['ancillary_data/start_region'],\n",
      " 'start_rgt': ['ancillary_data/start_rgt'],\n",
      " 'surf_min': ['ancillary_data/atmosphere/surf_min'],\n",
      " 'surf_pct': ['quality_assessment/profile_1/surf_pct',\n",
      "              'quality_assessment/profile_2/surf_pct',\n",
      "              'quality_assessment/profile_3/surf_pct'],\n",
      " 'surf_refl_true': ['profile_1/high_rate/surf_refl_true',\n",
      "                    'profile_2/high_rate/surf_refl_true',\n",
      "                    'profile_3/high_rate/surf_refl_true'],\n",
      " 'surf_type': ['profile_1/high_rate/surf_type',\n",
      "               'profile_1/low_rate/surf_type',\n",
      "               'profile_2/high_rate/surf_type',\n",
      "               'profile_2/low_rate/surf_type',\n",
      "               'profile_3/high_rate/surf_type',\n",
      "               'profile_3/low_rate/surf_type'],\n",
      " 'surf_type_igbp': ['profile_1/high_rate/surf_type_igbp',\n",
      "                    'profile_2/high_rate/surf_type_igbp',\n",
      "                    'profile_3/high_rate/surf_type_igbp'],\n",
      " 'surface_bin': ['profile_1/high_rate/surface_bin',\n",
      "                 'profile_2/high_rate/surface_bin',\n",
      "                 'profile_3/high_rate/surface_bin'],\n",
      " 'surface_h_dens': ['profile_1/high_rate/surface_h_dens',\n",
      "                    'profile_2/high_rate/surface_h_dens',\n",
      "                    'profile_3/high_rate/surface_h_dens'],\n",
      " 'surface_height': ['profile_1/high_rate/surface_height',\n",
      "                    'profile_2/high_rate/surface_height',\n",
      "                    'profile_3/high_rate/surface_height'],\n",
      " 'surface_sig': ['profile_1/high_rate/surface_sig',\n",
      "                 'profile_2/high_rate/surface_sig',\n",
      "                 'profile_3/high_rate/surface_sig'],\n",
      " 'surface_signal_source': ['ancillary_data/atmosphere/surface_signal_source'],\n",
      " 'telescope_area': ['ancillary_data/atmosphere/telescope_area'],\n",
      " 'thresh_bias1': ['ancillary_data/atmosphere/thresh_bias1'],\n",
      " 'thresh_bias2': ['ancillary_data/atmosphere/thresh_bias2'],\n",
      " 'thresh_sensitivity1': ['ancillary_data/atmosphere/thresh_sensitivity1'],\n",
      " 'thresh_sensitivity2': ['ancillary_data/atmosphere/thresh_sensitivity2'],\n",
      " 'threshold_segment_length1': ['ancillary_data/atmosphere/threshold_segment_length1'],\n",
      " 'threshold_segment_length2': ['ancillary_data/atmosphere/threshold_segment_length2'],\n",
      " 'tx_pulse_energy': ['profile_1/high_rate/tx_pulse_energy',\n",
      "                     'profile_2/high_rate/tx_pulse_energy',\n",
      "                     'profile_3/high_rate/tx_pulse_energy'],\n",
      " 'version': ['ancillary_data/version']}\n"
     ]
    }
   ],
   "source": [
    "opts = region_a.show_custom_options(session,dictview=True)"
   ]
  },
  {
   "cell_type": "markdown",
   "metadata": {},
   "source": [
    "#### TESTING SECTION:\n",
    "##### Setup the user provided variable list to subset variables: Please TRY OUT the tests below. "
   ]
  },
  {
   "cell_type": "markdown",
   "metadata": {},
   "source": [
    "Options for inputting variables:\n",
    "1. Use a default list for the dataset (not yet fully implemented across all datasets)\n",
    "2. Provide a list of variable names, which will return all path-variable combinations (e.g. longitude will return longitude for both beams for all profiles)\n",
    "3. Provide a list of variable names and/or specific profiles/beams (not yet implemented).\n",
    "\n",
    "An example of each type of input is below."
   ]
  },
  {
   "cell_type": "markdown",
   "metadata": {},
   "source": [
    "#### Test 1:\n",
    "Add ```latitude``` for profile 1 and 2"
   ]
  },
  {
   "cell_type": "code",
   "execution_count": 15,
   "metadata": {
    "collapsed": true,
    "jupyter": {
     "outputs_hidden": true
    }
   },
   "outputs": [
    {
     "data": {
      "text/plain": [
       "{'sc_orient': ['orbit_info/sc_orient'],\n",
       " 'atlas_sdp_gps_epoch': ['ancillary_data/atlas_sdp_gps_epoch'],\n",
       " 'data_start_utc': ['ancillary_data/data_start_utc'],\n",
       " 'data_end_utc': ['ancillary_data/data_end_utc'],\n",
       " 'granule_start_utc': ['ancillary_data/granule_start_utc'],\n",
       " 'granule_end_utc': ['ancillary_data/granule_end_utc'],\n",
       " 'start_delta_time': ['ancillary_data/start_delta_time'],\n",
       " 'end_delta_time': ['ancillary_data/end_delta_time'],\n",
       " 'delta_time': ['profile_2/bckgrd_atlas/delta_time',\n",
       "  'profile_2/high_rate/delta_time',\n",
       "  'profile_2/low_rate/delta_time',\n",
       "  'quality_assessment/profile_2/delta_time'],\n",
       " 'latitude': ['profile_2/high_rate/latitude', 'profile_2/low_rate/latitude'],\n",
       " 'longitude': ['profile_2/high_rate/longitude',\n",
       "  'profile_2/low_rate/longitude'],\n",
       " 'bsnow_h': ['profile_2/high_rate/bsnow_h', 'profile_2/low_rate/bsnow_h'],\n",
       " 'bsnow_dens': ['profile_2/high_rate/bsnow_dens'],\n",
       " 'bsnow_con': ['profile_2/high_rate/bsnow_con',\n",
       "  'profile_2/low_rate/bsnow_con'],\n",
       " 'bsnow_psc': ['profile_2/high_rate/bsnow_psc',\n",
       "  'profile_2/low_rate/bsnow_psc'],\n",
       " 'bsnow_od': ['profile_2/high_rate/bsnow_od', 'profile_2/low_rate/bsnow_od'],\n",
       " 'cloud_flag_asr': ['profile_2/high_rate/cloud_flag_asr'],\n",
       " 'cloud_fold_flag': ['profile_2/high_rate/cloud_fold_flag'],\n",
       " 'cloud_flag_atm': ['profile_2/high_rate/cloud_flag_atm'],\n",
       " 'column_od_asr': ['profile_2/high_rate/column_od_asr'],\n",
       " 'column_od_asr_qf': ['profile_2/high_rate/column_od_asr_qf'],\n",
       " 'layer_attr': ['profile_2/high_rate/layer_attr'],\n",
       " 'layer_bot': ['profile_2/high_rate/layer_bot'],\n",
       " 'layer_top': ['profile_2/high_rate/layer_top'],\n",
       " 'layer_flag': ['profile_2/high_rate/layer_flag'],\n",
       " 'layer_dens': ['profile_2/high_rate/layer_dens'],\n",
       " 'layer_ib': ['profile_2/high_rate/layer_ib'],\n",
       " 'msw_flag': ['profile_2/high_rate/msw_flag'],\n",
       " 'prof_dist_x': ['profile_2/high_rate/prof_dist_x'],\n",
       " 'prof_dist_y': ['profile_2/high_rate/prof_dist_y'],\n",
       " 'apparent_surf_reflec': ['profile_2/high_rate/apparent_surf_reflec']}"
      ]
     },
     "execution_count": 15,
     "metadata": {},
     "output_type": "execute_result"
    }
   ],
   "source": [
    "#default variables\n",
    "region_a.build_wanted_var_list(beam_list=['profile_2'],clear=True)\n",
    "region_a.variables"
   ]
  },
  {
   "cell_type": "code",
   "execution_count": 16,
   "metadata": {
    "collapsed": true,
    "jupyter": {
     "outputs_hidden": true
    }
   },
   "outputs": [
    {
     "data": {
      "text/plain": [
       "{'sc_orient': ['orbit_info/sc_orient'],\n",
       " 'atlas_sdp_gps_epoch': ['ancillary_data/atlas_sdp_gps_epoch'],\n",
       " 'data_start_utc': ['ancillary_data/data_start_utc'],\n",
       " 'data_end_utc': ['ancillary_data/data_end_utc'],\n",
       " 'granule_start_utc': ['ancillary_data/granule_start_utc'],\n",
       " 'granule_end_utc': ['ancillary_data/granule_end_utc'],\n",
       " 'start_delta_time': ['ancillary_data/start_delta_time'],\n",
       " 'end_delta_time': ['ancillary_data/end_delta_time'],\n",
       " 'delta_time': ['profile_2/high_rate/delta_time'],\n",
       " 'latitude': ['profile_2/high_rate/latitude'],\n",
       " 'longitude': ['profile_2/high_rate/longitude'],\n",
       " 'bsnow_h': ['profile_2/high_rate/bsnow_h'],\n",
       " 'bsnow_dens': ['profile_2/high_rate/bsnow_dens'],\n",
       " 'bsnow_con': ['profile_2/high_rate/bsnow_con'],\n",
       " 'bsnow_psc': ['profile_2/high_rate/bsnow_psc'],\n",
       " 'bsnow_od': ['profile_2/high_rate/bsnow_od'],\n",
       " 'cloud_flag_asr': ['profile_2/high_rate/cloud_flag_asr'],\n",
       " 'cloud_fold_flag': ['profile_2/high_rate/cloud_fold_flag'],\n",
       " 'cloud_flag_atm': ['profile_2/high_rate/cloud_flag_atm'],\n",
       " 'column_od_asr': ['profile_2/high_rate/column_od_asr'],\n",
       " 'column_od_asr_qf': ['profile_2/high_rate/column_od_asr_qf'],\n",
       " 'layer_attr': ['profile_2/high_rate/layer_attr'],\n",
       " 'layer_bot': ['profile_2/high_rate/layer_bot'],\n",
       " 'layer_top': ['profile_2/high_rate/layer_top'],\n",
       " 'layer_flag': ['profile_2/high_rate/layer_flag'],\n",
       " 'layer_dens': ['profile_2/high_rate/layer_dens'],\n",
       " 'layer_ib': ['profile_2/high_rate/layer_ib'],\n",
       " 'msw_flag': ['profile_2/high_rate/msw_flag'],\n",
       " 'prof_dist_x': ['profile_2/high_rate/prof_dist_x'],\n",
       " 'prof_dist_y': ['profile_2/high_rate/prof_dist_y'],\n",
       " 'apparent_surf_reflec': ['profile_2/high_rate/apparent_surf_reflec']}"
      ]
     },
     "execution_count": 16,
     "metadata": {},
     "output_type": "execute_result"
    }
   ],
   "source": [
    "region_a.build_wanted_var_list(beam_list=['profile_2'],keyword_list=['high_rate'],append=False)\n",
    "region_a.variables"
   ]
  },
  {
   "cell_type": "code",
   "execution_count": 17,
   "metadata": {
    "collapsed": true,
    "jupyter": {
     "outputs_hidden": true
    }
   },
   "outputs": [
    {
     "data": {
      "text/plain": [
       "{'sc_orient': ['orbit_info/sc_orient'],\n",
       " 'atlas_sdp_gps_epoch': ['ancillary_data/atlas_sdp_gps_epoch'],\n",
       " 'data_start_utc': ['ancillary_data/data_start_utc'],\n",
       " 'data_end_utc': ['ancillary_data/data_end_utc'],\n",
       " 'granule_start_utc': ['ancillary_data/granule_start_utc'],\n",
       " 'granule_end_utc': ['ancillary_data/granule_end_utc'],\n",
       " 'start_delta_time': ['ancillary_data/start_delta_time'],\n",
       " 'end_delta_time': ['ancillary_data/end_delta_time'],\n",
       " 'delta_time': ['profile_2/high_rate/delta_time'],\n",
       " 'latitude': ['profile_2/high_rate/latitude'],\n",
       " 'longitude': ['profile_2/high_rate/longitude'],\n",
       " 'bsnow_h': ['profile_2/high_rate/bsnow_h'],\n",
       " 'bsnow_dens': ['profile_2/high_rate/bsnow_dens'],\n",
       " 'bsnow_con': ['profile_2/high_rate/bsnow_con'],\n",
       " 'bsnow_psc': ['profile_2/high_rate/bsnow_psc'],\n",
       " 'bsnow_od': ['profile_2/high_rate/bsnow_od'],\n",
       " 'cloud_flag_asr': ['profile_2/high_rate/cloud_flag_asr'],\n",
       " 'cloud_fold_flag': ['profile_2/high_rate/cloud_fold_flag'],\n",
       " 'cloud_flag_atm': ['profile_2/high_rate/cloud_flag_atm'],\n",
       " 'column_od_asr': ['profile_2/high_rate/column_od_asr'],\n",
       " 'column_od_asr_qf': ['profile_2/high_rate/column_od_asr_qf'],\n",
       " 'layer_attr': ['profile_2/high_rate/layer_attr'],\n",
       " 'layer_bot': ['profile_2/high_rate/layer_bot'],\n",
       " 'layer_top': ['profile_2/high_rate/layer_top'],\n",
       " 'layer_flag': ['profile_2/high_rate/layer_flag'],\n",
       " 'layer_dens': ['profile_2/high_rate/layer_dens'],\n",
       " 'layer_ib': ['profile_2/high_rate/layer_ib'],\n",
       " 'msw_flag': ['profile_2/high_rate/msw_flag'],\n",
       " 'prof_dist_x': ['profile_2/high_rate/prof_dist_x'],\n",
       " 'prof_dist_y': ['profile_2/high_rate/prof_dist_y'],\n",
       " 'apparent_surf_reflec': ['profile_2/high_rate/apparent_surf_reflec'],\n",
       " 'orbit_number': ['orbit_info/orbit_number'],\n",
       " 'cycle_number': ['orbit_info/cycle_number'],\n",
       " 'rgt': ['orbit_info/rgt']}"
      ]
     },
     "execution_count": 17,
     "metadata": {},
     "output_type": "execute_result"
    }
   ],
   "source": [
    "var_list = ['orbit_number','cycle_number','rgt'] # add sc_orient_time for transition granules/day\n",
    "region_a.build_wanted_var_list(var_list=var_list,defaults=False)\n",
    "region_a.variables"
   ]
  },
  {
   "cell_type": "code",
   "execution_count": 18,
   "metadata": {},
   "outputs": [],
   "source": [
    "region_a.build_CMR_params()\n",
    "region_a.build_reqconfig_params('download')"
   ]
  },
  {
   "cell_type": "code",
   "execution_count": 19,
   "metadata": {},
   "outputs": [
    {
     "data": {
      "text/plain": [
       "{'time': '2018-10-18T00:00:00,2018-10-18T23:59:59',\n",
       " 'bbox': '-180,60,180,90',\n",
       " 'Coverage': '/orbit_info/sc_orient,/ancillary_data/atlas_sdp_gps_epoch,/ancillary_data/data_start_utc,/ancillary_data/data_end_utc,/ancillary_data/granule_start_utc,/ancillary_data/granule_end_utc,/ancillary_data/start_delta_time,/ancillary_data/end_delta_time,/profile_2/high_rate/delta_time,/profile_2/high_rate/latitude,/profile_2/high_rate/longitude,/profile_2/high_rate/bsnow_h,/profile_2/high_rate/bsnow_dens,/profile_2/high_rate/bsnow_con,/profile_2/high_rate/bsnow_psc,/profile_2/high_rate/bsnow_od,/profile_2/high_rate/cloud_flag_asr,/profile_2/high_rate/cloud_fold_flag,/profile_2/high_rate/cloud_flag_atm,/profile_2/high_rate/column_od_asr,/profile_2/high_rate/column_od_asr_qf,/profile_2/high_rate/layer_attr,/profile_2/high_rate/layer_bot,/profile_2/high_rate/layer_top,/profile_2/high_rate/layer_flag,/profile_2/high_rate/layer_dens,/profile_2/high_rate/layer_ib,/profile_2/high_rate/msw_flag,/profile_2/high_rate/prof_dist_x,/profile_2/high_rate/prof_dist_y,/profile_2/high_rate/apparent_surf_reflec,/orbit_info/orbit_number,/orbit_info/cycle_number,/orbit_info/rgt'}"
      ]
     },
     "execution_count": 19,
     "metadata": {},
     "output_type": "execute_result"
    }
   ],
   "source": [
    "region_a.build_subset_params(**{'Coverage':region_a.variables})\n",
    "region_a.subsetparams"
   ]
  },
  {
   "cell_type": "code",
   "execution_count": 21,
   "metadata": {
    "collapsed": true,
    "jupyter": {
     "outputs_hidden": true
    }
   },
   "outputs": [
    {
     "name": "stdout",
     "output_type": "stream",
     "text": [
      "{'feed': {'updated': '2020-04-15T00:42:26.160Z', 'id': 'https://cmr.earthdata.nasa.gov:443/search/granules.json?short_name=ATL09&version=002&temporal=2018-10-18T00%3A00%3A00Z%2C2018-10-18T23%3A59%3A59Z&bounding_box=-180%2C60%2C180%2C90&page_size=10&page_num=1', 'title': 'ECHO granule metadata', 'entry': [{'producer_granule_id': 'ATL09_20181017235527_02960101_002_01.h5', 'time_start': '2018-10-17T23:55:26.000Z', 'orbit': {'ascending_crossing': '-127.82682215638665', 'start_lat': '0', 'start_direction': 'A', 'end_lat': '0', 'end_direction': 'A'}, 'updated': '2019-12-15T08:32:26.279Z', 'orbit_calculated_spatial_domains': [{'equator_crossing_date_time': '2018-10-17T23:55:26.339Z', 'equator_crossing_longitude': '-127.82682215638665', 'orbit_number': '497'}], 'dataset_id': 'ATLAS/ICESat-2 L3A Calibrated Backscatter Profiles and Atmospheric Layer Characteristics V002', 'data_center': 'NSIDC_ECS', 'title': 'SC:ATL09.002:166040943', 'coordinate_system': 'ORBIT', 'time_end': '2018-10-18T01:29:44.000Z', 'id': 'G1706542706-NSIDC_ECS', 'original_format': 'ISO-SMAP', 'granule_size': '2359.2127885818', 'browse_flag': True, 'polygons': [['-0.00565261235455362 -127.98869201133535 19.071902141078052 -129.9400793463458 38.145273816730395 -132.1045744491035 57.205066144013514 -134.98330402597495 76.1924296491052 -141.68230889406715 84.13760392372362 67.50303784885354 65.3693516469824 49.43149785331239 46.32468382826406 45.75404388777663 27.255194724795338 43.38629189442252 8.17886095546597 41.374482935248025 -10.899404505724597 39.45294738980802 -29.97670680684987 37.45614146645686 -49.04860713219981 35.11438818819416 -68.09814833379474 31.376168628641448 -86.70159564447627 0.8406144909650907 -73.55000389447426 -140.3606067002739 -54.519744606720806 -145.298142299089 -35.45120858798975 -147.8510825109263 -16.37482121901807 -149.90782124078703 -0.0056526123546185025 -151.56119201133535 0.005652612354488738 -151.23745230143803 -16.363038400632124 -149.57042273039673 -35.43733169743005 -147.4538223484805 -54.50027166626624 -144.74117719143916 -73.51012826867472 -139.22669257527218 -86.5106285511061 -3.582195458190449 -68.06786077457512 30.512111028439037 -49.031361259468405 34.62092924493978 -29.963656577207285 37.082506899833454 -10.88789181859205 39.123274154644115 8.190282513295823 41.04741599254662 27.267912588890816 43.022158268506345 46.341057117658906 45.28548679005567 65.39649166892605 48.65656372518664 84.24934925017939 64.49717860170814 76.23987883068152 -140.33734544838984 57.22594449552825 -134.3863029586154 38.15965029200101 -131.6930401149451 19.08386439053343 -129.59754981316473 0.00565261235455362 -127.66495230143799 -0.00565261235455362 -127.98869201133535'], ['-0.0056526123546185025 -151.56119201133535 0.0325040585621419 -151.56502450241945 0.04380928577819535 -151.24128472081983 0.005652612354488738 -151.23745230143803 -0.0056526123546185025 -151.56119201133535']], 'collection_concept_id': 'C1631076797-NSIDC_ECS', 'online_access_flag': True, 'links': [{'rel': 'http://esipfed.org/ns/fedsearch/1.1/data#', 'type': 'application/x-hdfeos', 'hreflang': 'en-US', 'href': 'https://n5eil01u.ecs.nsidc.org/DP7/ATLAS/ATL09.002/2018.10.17/ATL09_20181017235527_02960101_002_01.h5'}, {'rel': 'http://esipfed.org/ns/fedsearch/1.1/browse#', 'type': 'image/jpeg', 'hreflang': 'en-US', 'href': 'https://n5eil01u.ecs.nsidc.org/DP0/BRWS/Browse.001/2019.10.09/ATL09_20181017235527_02960101_002_01_BRW.default.default1.jpg'}, {'rel': 'http://esipfed.org/ns/fedsearch/1.1/browse#', 'type': 'image/jpeg', 'hreflang': 'en-US', 'href': 'https://n5eil01u.ecs.nsidc.org/DP0/BRWS/Browse.001/2019.10.09/ATL09_20181017235527_02960101_002_01_BRW.default.default2.jpg'}, {'rel': 'http://esipfed.org/ns/fedsearch/1.1/browse#', 'type': 'image/jpeg', 'hreflang': 'en-US', 'href': 'https://n5eil01u.ecs.nsidc.org/DP0/BRWS/Browse.001/2019.10.09/ATL09_20181017235527_02960101_002_01_BRW.profile_1.apparent_surf_reflec.jpg'}, {'rel': 'http://esipfed.org/ns/fedsearch/1.1/browse#', 'type': 'image/jpeg', 'hreflang': 'en-US', 'href': 'https://n5eil01u.ecs.nsidc.org/DP0/BRWS/Browse.001/2019.10.09/ATL09_20181017235527_02960101_002_01_BRW.profile_1.cab_profile.jpg'}, {'rel': 'http://esipfed.org/ns/fedsearch/1.1/browse#', 'type': 'image/jpeg', 'hreflang': 'en-US', 'href': 'https://n5eil01u.ecs.nsidc.org/DP0/BRWS/Browse.001/2019.10.09/ATL09_20181017235527_02960101_002_01_BRW.profile_1.cloud_flag_asr_on_cab.jpg'}, {'rel': 'http://esipfed.org/ns/fedsearch/1.1/browse#', 'type': 'image/jpeg', 'hreflang': 'en-US', 'href': 'https://n5eil01u.ecs.nsidc.org/DP0/BRWS/Browse.001/2019.10.09/ATL09_20181017235527_02960101_002_01_BRW.profile_1.cloud_flag_asr_on_map.jpg'}, {'rel': 'http://esipfed.org/ns/fedsearch/1.1/browse#', 'type': 'image/jpeg', 'hreflang': 'en-US', 'href': 'https://n5eil01u.ecs.nsidc.org/DP0/BRWS/Browse.001/2019.10.09/ATL09_20181017235527_02960101_002_01_BRW.profile_1.cloud_flag_atm_on_map.jpg'}, {'rel': 'http://esipfed.org/ns/fedsearch/1.1/browse#', 'type': 'image/jpeg', 'hreflang': 'en-US', 'href': 'https://n5eil01u.ecs.nsidc.org/DP0/BRWS/Browse.001/2019.10.09/ATL09_20181017235527_02960101_002_01_BRW.profile_1.column_od_asr.jpg'}, {'rel': 'http://esipfed.org/ns/fedsearch/1.1/browse#', 'type': 'image/jpeg', 'hreflang': 'en-US', 'href': 'https://n5eil01u.ecs.nsidc.org/DP0/BRWS/Browse.001/2019.10.09/ATL09_20181017235527_02960101_002_01_BRW.profile_1.layer_flag_on_cab.jpg'}, {'rel': 'http://esipfed.org/ns/fedsearch/1.1/browse#', 'type': 'image/jpeg', 'hreflang': 'en-US', 'href': 'https://n5eil01u.ecs.nsidc.org/DP0/BRWS/Browse.001/2019.10.09/ATL09_20181017235527_02960101_002_01_BRW.profile_1.layer_flag_on_map.jpg'}, {'rel': 'http://esipfed.org/ns/fedsearch/1.1/browse#', 'type': 'image/jpeg', 'hreflang': 'en-US', 'href': 'https://n5eil01u.ecs.nsidc.org/DP0/BRWS/Browse.001/2019.10.09/ATL09_20181017235527_02960101_002_01_BRW.profile_1.layer_heights.jpg'}, {'rel': 'http://esipfed.org/ns/fedsearch/1.1/browse#', 'type': 'image/jpeg', 'hreflang': 'en-US', 'href': 'https://n5eil01u.ecs.nsidc.org/DP0/BRWS/Browse.001/2019.10.09/ATL09_20181017235527_02960101_002_01_BRW.profile_1.layer_heights_on_cab.jpg'}, {'rel': 'http://esipfed.org/ns/fedsearch/1.1/browse#', 'type': 'image/jpeg', 'hreflang': 'en-US', 'href': 'https://n5eil01u.ecs.nsidc.org/DP0/BRWS/Browse.001/2019.10.09/ATL09_20181017235527_02960101_002_01_BRW.profile_1.msw_flag_on_map.jpg'}, {'rel': 'http://esipfed.org/ns/fedsearch/1.1/browse#', 'type': 'image/jpeg', 'hreflang': 'en-US', 'href': 'https://n5eil01u.ecs.nsidc.org/DP0/BRWS/Browse.001/2019.10.09/ATL09_20181017235527_02960101_002_01_BRW.profile_1.ocean_surf_reflec.jpg'}, {'rel': 'http://esipfed.org/ns/fedsearch/1.1/browse#', 'type': 'image/jpeg', 'hreflang': 'en-US', 'href': 'https://n5eil01u.ecs.nsidc.org/DP0/BRWS/Browse.001/2019.10.09/ATL09_20181017235527_02960101_002_01_BRW.profile_2.apparent_surf_reflec.jpg'}, {'rel': 'http://esipfed.org/ns/fedsearch/1.1/browse#', 'type': 'image/jpeg', 'hreflang': 'en-US', 'href': 'https://n5eil01u.ecs.nsidc.org/DP0/BRWS/Browse.001/2019.10.09/ATL09_20181017235527_02960101_002_01_BRW.profile_2.cab_profile.jpg'}, {'rel': 'http://esipfed.org/ns/fedsearch/1.1/browse#', 'type': 'image/jpeg', 'hreflang': 'en-US', 'href': 'https://n5eil01u.ecs.nsidc.org/DP0/BRWS/Browse.001/2019.10.09/ATL09_20181017235527_02960101_002_01_BRW.profile_2.cloud_flag_asr_on_cab.jpg'}, {'rel': 'http://esipfed.org/ns/fedsearch/1.1/browse#', 'type': 'image/jpeg', 'hreflang': 'en-US', 'href': 'https://n5eil01u.ecs.nsidc.org/DP0/BRWS/Browse.001/2019.10.09/ATL09_20181017235527_02960101_002_01_BRW.profile_2.cloud_flag_asr_on_map.jpg'}, {'rel': 'http://esipfed.org/ns/fedsearch/1.1/browse#', 'type': 'image/jpeg', 'hreflang': 'en-US', 'href': 'https://n5eil01u.ecs.nsidc.org/DP0/BRWS/Browse.001/2019.10.09/ATL09_20181017235527_02960101_002_01_BRW.profile_2.cloud_flag_atm_on_map.jpg'}, {'rel': 'http://esipfed.org/ns/fedsearch/1.1/browse#', 'type': 'image/jpeg', 'hreflang': 'en-US', 'href': 'https://n5eil01u.ecs.nsidc.org/DP0/BRWS/Browse.001/2019.10.09/ATL09_20181017235527_02960101_002_01_BRW.profile_2.column_od_asr.jpg'}, {'rel': 'http://esipfed.org/ns/fedsearch/1.1/browse#', 'type': 'image/jpeg', 'hreflang': 'en-US', 'href': 'https://n5eil01u.ecs.nsidc.org/DP0/BRWS/Browse.001/2019.10.09/ATL09_20181017235527_02960101_002_01_BRW.profile_2.layer_flag_on_cab.jpg'}, {'rel': 'http://esipfed.org/ns/fedsearch/1.1/browse#', 'type': 'image/jpeg', 'hreflang': 'en-US', 'href': 'https://n5eil01u.ecs.nsidc.org/DP0/BRWS/Browse.001/2019.10.09/ATL09_20181017235527_02960101_002_01_BRW.profile_2.layer_flag_on_map.jpg'}, {'rel': 'http://esipfed.org/ns/fedsearch/1.1/browse#', 'type': 'image/jpeg', 'hreflang': 'en-US', 'href': 'https://n5eil01u.ecs.nsidc.org/DP0/BRWS/Browse.001/2019.10.09/ATL09_20181017235527_02960101_002_01_BRW.profile_2.layer_heights.jpg'}, {'rel': 'http://esipfed.org/ns/fedsearch/1.1/browse#', 'type': 'image/jpeg', 'hreflang': 'en-US', 'href': 'https://n5eil01u.ecs.nsidc.org/DP0/BRWS/Browse.001/2019.10.09/ATL09_20181017235527_02960101_002_01_BRW.profile_2.layer_heights_on_cab.jpg'}, {'rel': 'http://esipfed.org/ns/fedsearch/1.1/browse#', 'type': 'image/jpeg', 'hreflang': 'en-US', 'href': 'https://n5eil01u.ecs.nsidc.org/DP0/BRWS/Browse.001/2019.10.09/ATL09_20181017235527_02960101_002_01_BRW.profile_2.msw_flag_on_map.jpg'}, {'rel': 'http://esipfed.org/ns/fedsearch/1.1/browse#', 'type': 'image/jpeg', 'hreflang': 'en-US', 'href': 'https://n5eil01u.ecs.nsidc.org/DP0/BRWS/Browse.001/2019.10.09/ATL09_20181017235527_02960101_002_01_BRW.profile_2.ocean_surf_reflec.jpg'}, {'rel': 'http://esipfed.org/ns/fedsearch/1.1/browse#', 'type': 'image/jpeg', 'hreflang': 'en-US', 'href': 'https://n5eil01u.ecs.nsidc.org/DP0/BRWS/Browse.001/2019.10.09/ATL09_20181017235527_02960101_002_01_BRW.profile_3.apparent_surf_reflec.jpg'}, {'rel': 'http://esipfed.org/ns/fedsearch/1.1/browse#', 'type': 'image/jpeg', 'hreflang': 'en-US', 'href': 'https://n5eil01u.ecs.nsidc.org/DP0/BRWS/Browse.001/2019.10.09/ATL09_20181017235527_02960101_002_01_BRW.profile_3.cab_profile.jpg'}, {'rel': 'http://esipfed.org/ns/fedsearch/1.1/browse#', 'type': 'image/jpeg', 'hreflang': 'en-US', 'href': 'https://n5eil01u.ecs.nsidc.org/DP0/BRWS/Browse.001/2019.10.09/ATL09_20181017235527_02960101_002_01_BRW.profile_3.cloud_flag_asr_on_cab.jpg'}, {'rel': 'http://esipfed.org/ns/fedsearch/1.1/browse#', 'type': 'image/jpeg', 'hreflang': 'en-US', 'href': 'https://n5eil01u.ecs.nsidc.org/DP0/BRWS/Browse.001/2019.10.09/ATL09_20181017235527_02960101_002_01_BRW.profile_3.cloud_flag_asr_on_map.jpg'}, {'rel': 'http://esipfed.org/ns/fedsearch/1.1/browse#', 'type': 'image/jpeg', 'hreflang': 'en-US', 'href': 'https://n5eil01u.ecs.nsidc.org/DP0/BRWS/Browse.001/2019.10.09/ATL09_20181017235527_02960101_002_01_BRW.profile_3.cloud_flag_atm_on_map.jpg'}, {'rel': 'http://esipfed.org/ns/fedsearch/1.1/browse#', 'type': 'image/jpeg', 'hreflang': 'en-US', 'href': 'https://n5eil01u.ecs.nsidc.org/DP0/BRWS/Browse.001/2019.10.09/ATL09_20181017235527_02960101_002_01_BRW.profile_3.column_od_asr.jpg'}, {'rel': 'http://esipfed.org/ns/fedsearch/1.1/browse#', 'type': 'image/jpeg', 'hreflang': 'en-US', 'href': 'https://n5eil01u.ecs.nsidc.org/DP0/BRWS/Browse.001/2019.10.09/ATL09_20181017235527_02960101_002_01_BRW.profile_3.layer_flag_on_cab.jpg'}, {'rel': 'http://esipfed.org/ns/fedsearch/1.1/browse#', 'type': 'image/jpeg', 'hreflang': 'en-US', 'href': 'https://n5eil01u.ecs.nsidc.org/DP0/BRWS/Browse.001/2019.10.09/ATL09_20181017235527_02960101_002_01_BRW.profile_3.layer_flag_on_map.jpg'}, {'rel': 'http://esipfed.org/ns/fedsearch/1.1/browse#', 'type': 'image/jpeg', 'hreflang': 'en-US', 'href': 'https://n5eil01u.ecs.nsidc.org/DP0/BRWS/Browse.001/2019.10.09/ATL09_20181017235527_02960101_002_01_BRW.profile_3.layer_heights.jpg'}, {'rel': 'http://esipfed.org/ns/fedsearch/1.1/browse#', 'type': 'image/jpeg', 'hreflang': 'en-US', 'href': 'https://n5eil01u.ecs.nsidc.org/DP0/BRWS/Browse.001/2019.10.09/ATL09_20181017235527_02960101_002_01_BRW.profile_3.layer_heights_on_cab.jpg'}, {'rel': 'http://esipfed.org/ns/fedsearch/1.1/browse#', 'type': 'image/jpeg', 'hreflang': 'en-US', 'href': 'https://n5eil01u.ecs.nsidc.org/DP0/BRWS/Browse.001/2019.10.09/ATL09_20181017235527_02960101_002_01_BRW.profile_3.msw_flag_on_map.jpg'}, {'rel': 'http://esipfed.org/ns/fedsearch/1.1/browse#', 'type': 'image/jpeg', 'hreflang': 'en-US', 'href': 'https://n5eil01u.ecs.nsidc.org/DP0/BRWS/Browse.001/2019.10.09/ATL09_20181017235527_02960101_002_01_BRW.profile_3.ocean_surf_reflec.jpg'}, {'rel': 'http://esipfed.org/ns/fedsearch/1.1/metadata#', 'type': 'text/xml', 'hreflang': 'en-US', 'href': 'https://n5eil01u.ecs.nsidc.org/DP7/ATLAS/ATL09.002/2018.10.17/ATL09_20181017235527_02960101_002_01.iso.xml'}, {'inherited': True, 'length': '0.0KB', 'rel': 'http://esipfed.org/ns/fedsearch/1.1/data#', 'hreflang': 'en-US', 'href': 'https://n5eil01u.ecs.nsidc.org/ATLAS/ATL09.002/'}, {'inherited': True, 'length': '0.0KB', 'rel': 'http://esipfed.org/ns/fedsearch/1.1/data#', 'hreflang': 'en-US', 'href': 'https://search.earthdata.nasa.gov/search/granules?p=C1631076797-NSIDC_ECS&q=atl09&m=-87.46352300590473!-3.4486083984375004!1!1!0!0%2C2&tl=1555860221!4!!'}, {'inherited': True, 'rel': 'http://esipfed.org/ns/fedsearch/1.1/metadata#', 'hreflang': 'en-US', 'href': 'https://doi.org/10.5067/ATLAS/ATL09.002'}, {'inherited': True, 'rel': 'http://esipfed.org/ns/fedsearch/1.1/documentation#', 'hreflang': 'en-US', 'href': 'https://doi.org/10.5067/ATLAS/ATL09.002'}]}, {'producer_granule_id': 'ATL09_20181018012943_02970101_002_01.h5', 'time_start': '2018-10-18T01:29:44.000Z', 'orbit': {'ascending_crossing': '-151.44669308921317', 'start_lat': '0', 'start_direction': 'A', 'end_lat': '0', 'end_direction': 'A'}, 'updated': '2019-12-18T06:31:11.381Z', 'orbit_calculated_spatial_domains': [{'equator_crossing_date_time': '2018-10-18T01:29:43.760Z', 'equator_crossing_longitude': '-151.44669308921317', 'orbit_number': '498'}], 'dataset_id': 'ATLAS/ICESat-2 L3A Calibrated Backscatter Profiles and Atmospheric Layer Characteristics V002', 'data_center': 'NSIDC_ECS', 'title': 'SC:ATL09.002:166040819', 'coordinate_system': 'ORBIT', 'time_end': '2018-10-18T03:04:01.000Z', 'id': 'G1706541832-NSIDC_ECS', 'original_format': 'ISO-SMAP', 'granule_size': '3415.3524103165', 'browse_flag': True, 'polygons': [['0.057941837770383794 -151.61495046972036 19.135489609110305 -153.56667006261222 38.20883784985154 -155.73238569282708 57.26854821957185 -158.61544113261633 76.25526268312738 -165.3485910081025 84.07842035233796 43.65126837634414 65.30597549049786 25.793766612624292 46.26114162606862 22.125082524153516 27.19161423704892 19.759341709359603 8.115268210851323 17.748153030895907 -10.962998738498452 15.826641560800365 -30.040292429864152 13.8292622983966 -49.112160691769134 11.485491071789005 -68.16154223351249 7.737329581036253 -86.75422812743926 -23.410017583538842 -73.48678157208434 -164.01009207514068 -54.456211673381866 -168.92832769018463 -35.38762839486189 -171.4783071022812 -16.311228202544413 -173.53421560549234 0.0325040585621419 -175.18489543524598 0.04380928577819535 -174.86115565364636 -16.299449216850046 -173.19692669840813 -35.37376244756542 -171.08135964367762 -54.436768949888645 -168.37222372791112 -73.4470540249682 -162.8803244775581 -86.56034097743358 -27.863577118440276 -68.13117119099505 6.870911374217315 -49.09489274709803 10.991402375149406 -30.027233835740763 13.455388641350497 -10.951483584558067 15.496897776168435 8.12668795270631 17.421138025754928 27.204324840501627 19.395415647792024 46.27749592132593 21.65706759802945 65.33305013496643 25.020686100862044 84.18903142022057 40.67187548942275 76.30292531550062 -163.99771047767956 57.28946257218784 -158.017414936045 38.22322687558885 -155.3204928031947 19.14745645929776 -153.2240089707148 0.06924706944323258 -151.29121056064992 0.057941837770383794 -151.61495046972036']], 'collection_concept_id': 'C1631076797-NSIDC_ECS', 'online_access_flag': True, 'links': [{'rel': 'http://esipfed.org/ns/fedsearch/1.1/data#', 'type': 'application/x-hdfeos', 'hreflang': 'en-US', 'href': 'https://n5eil01u.ecs.nsidc.org/DP7/ATLAS/ATL09.002/2018.10.18/ATL09_20181018012943_02970101_002_01.h5'}, {'rel': 'http://esipfed.org/ns/fedsearch/1.1/browse#', 'type': 'image/jpeg', 'hreflang': 'en-US', 'href': 'https://n5eil01u.ecs.nsidc.org/DP0/BRWS/Browse.001/2019.10.09/ATL09_20181018012943_02970101_002_01_BRW.default.default1.jpg'}, {'rel': 'http://esipfed.org/ns/fedsearch/1.1/browse#', 'type': 'image/jpeg', 'hreflang': 'en-US', 'href': 'https://n5eil01u.ecs.nsidc.org/DP0/BRWS/Browse.001/2019.10.09/ATL09_20181018012943_02970101_002_01_BRW.default.default2.jpg'}, {'rel': 'http://esipfed.org/ns/fedsearch/1.1/browse#', 'type': 'image/jpeg', 'hreflang': 'en-US', 'href': 'https://n5eil01u.ecs.nsidc.org/DP0/BRWS/Browse.001/2019.10.09/ATL09_20181018012943_02970101_002_01_BRW.profile_1.apparent_surf_reflec.jpg'}, {'rel': 'http://esipfed.org/ns/fedsearch/1.1/browse#', 'type': 'image/jpeg', 'hreflang': 'en-US', 'href': 'https://n5eil01u.ecs.nsidc.org/DP0/BRWS/Browse.001/2019.10.09/ATL09_20181018012943_02970101_002_01_BRW.profile_1.cab_profile.jpg'}, {'rel': 'http://esipfed.org/ns/fedsearch/1.1/browse#', 'type': 'image/jpeg', 'hreflang': 'en-US', 'href': 'https://n5eil01u.ecs.nsidc.org/DP0/BRWS/Browse.001/2019.10.09/ATL09_20181018012943_02970101_002_01_BRW.profile_1.cloud_flag_asr_on_cab.jpg'}, {'rel': 'http://esipfed.org/ns/fedsearch/1.1/browse#', 'type': 'image/jpeg', 'hreflang': 'en-US', 'href': 'https://n5eil01u.ecs.nsidc.org/DP0/BRWS/Browse.001/2019.10.09/ATL09_20181018012943_02970101_002_01_BRW.profile_1.cloud_flag_asr_on_map.jpg'}, {'rel': 'http://esipfed.org/ns/fedsearch/1.1/browse#', 'type': 'image/jpeg', 'hreflang': 'en-US', 'href': 'https://n5eil01u.ecs.nsidc.org/DP0/BRWS/Browse.001/2019.10.09/ATL09_20181018012943_02970101_002_01_BRW.profile_1.cloud_flag_atm_on_map.jpg'}, {'rel': 'http://esipfed.org/ns/fedsearch/1.1/browse#', 'type': 'image/jpeg', 'hreflang': 'en-US', 'href': 'https://n5eil01u.ecs.nsidc.org/DP0/BRWS/Browse.001/2019.10.09/ATL09_20181018012943_02970101_002_01_BRW.profile_1.column_od_asr.jpg'}, {'rel': 'http://esipfed.org/ns/fedsearch/1.1/browse#', 'type': 'image/jpeg', 'hreflang': 'en-US', 'href': 'https://n5eil01u.ecs.nsidc.org/DP0/BRWS/Browse.001/2019.10.09/ATL09_20181018012943_02970101_002_01_BRW.profile_1.layer_flag_on_cab.jpg'}, {'rel': 'http://esipfed.org/ns/fedsearch/1.1/browse#', 'type': 'image/jpeg', 'hreflang': 'en-US', 'href': 'https://n5eil01u.ecs.nsidc.org/DP0/BRWS/Browse.001/2019.10.09/ATL09_20181018012943_02970101_002_01_BRW.profile_1.layer_flag_on_map.jpg'}, {'rel': 'http://esipfed.org/ns/fedsearch/1.1/browse#', 'type': 'image/jpeg', 'hreflang': 'en-US', 'href': 'https://n5eil01u.ecs.nsidc.org/DP0/BRWS/Browse.001/2019.10.09/ATL09_20181018012943_02970101_002_01_BRW.profile_1.layer_heights.jpg'}, {'rel': 'http://esipfed.org/ns/fedsearch/1.1/browse#', 'type': 'image/jpeg', 'hreflang': 'en-US', 'href': 'https://n5eil01u.ecs.nsidc.org/DP0/BRWS/Browse.001/2019.10.09/ATL09_20181018012943_02970101_002_01_BRW.profile_1.layer_heights_on_cab.jpg'}, {'rel': 'http://esipfed.org/ns/fedsearch/1.1/browse#', 'type': 'image/jpeg', 'hreflang': 'en-US', 'href': 'https://n5eil01u.ecs.nsidc.org/DP0/BRWS/Browse.001/2019.10.09/ATL09_20181018012943_02970101_002_01_BRW.profile_1.msw_flag_on_map.jpg'}, {'rel': 'http://esipfed.org/ns/fedsearch/1.1/browse#', 'type': 'image/jpeg', 'hreflang': 'en-US', 'href': 'https://n5eil01u.ecs.nsidc.org/DP0/BRWS/Browse.001/2019.10.09/ATL09_20181018012943_02970101_002_01_BRW.profile_1.ocean_surf_reflec.jpg'}, {'rel': 'http://esipfed.org/ns/fedsearch/1.1/browse#', 'type': 'image/jpeg', 'hreflang': 'en-US', 'href': 'https://n5eil01u.ecs.nsidc.org/DP0/BRWS/Browse.001/2019.10.09/ATL09_20181018012943_02970101_002_01_BRW.profile_2.apparent_surf_reflec.jpg'}, {'rel': 'http://esipfed.org/ns/fedsearch/1.1/browse#', 'type': 'image/jpeg', 'hreflang': 'en-US', 'href': 'https://n5eil01u.ecs.nsidc.org/DP0/BRWS/Browse.001/2019.10.09/ATL09_20181018012943_02970101_002_01_BRW.profile_2.cab_profile.jpg'}, {'rel': 'http://esipfed.org/ns/fedsearch/1.1/browse#', 'type': 'image/jpeg', 'hreflang': 'en-US', 'href': 'https://n5eil01u.ecs.nsidc.org/DP0/BRWS/Browse.001/2019.10.09/ATL09_20181018012943_02970101_002_01_BRW.profile_2.cloud_flag_asr_on_cab.jpg'}, {'rel': 'http://esipfed.org/ns/fedsearch/1.1/browse#', 'type': 'image/jpeg', 'hreflang': 'en-US', 'href': 'https://n5eil01u.ecs.nsidc.org/DP0/BRWS/Browse.001/2019.10.09/ATL09_20181018012943_02970101_002_01_BRW.profile_2.cloud_flag_asr_on_map.jpg'}, {'rel': 'http://esipfed.org/ns/fedsearch/1.1/browse#', 'type': 'image/jpeg', 'hreflang': 'en-US', 'href': 'https://n5eil01u.ecs.nsidc.org/DP0/BRWS/Browse.001/2019.10.09/ATL09_20181018012943_02970101_002_01_BRW.profile_2.cloud_flag_atm_on_map.jpg'}, {'rel': 'http://esipfed.org/ns/fedsearch/1.1/browse#', 'type': 'image/jpeg', 'hreflang': 'en-US', 'href': 'https://n5eil01u.ecs.nsidc.org/DP0/BRWS/Browse.001/2019.10.09/ATL09_20181018012943_02970101_002_01_BRW.profile_2.column_od_asr.jpg'}, {'rel': 'http://esipfed.org/ns/fedsearch/1.1/browse#', 'type': 'image/jpeg', 'hreflang': 'en-US', 'href': 'https://n5eil01u.ecs.nsidc.org/DP0/BRWS/Browse.001/2019.10.09/ATL09_20181018012943_02970101_002_01_BRW.profile_2.layer_flag_on_cab.jpg'}, {'rel': 'http://esipfed.org/ns/fedsearch/1.1/browse#', 'type': 'image/jpeg', 'hreflang': 'en-US', 'href': 'https://n5eil01u.ecs.nsidc.org/DP0/BRWS/Browse.001/2019.10.09/ATL09_20181018012943_02970101_002_01_BRW.profile_2.layer_flag_on_map.jpg'}, {'rel': 'http://esipfed.org/ns/fedsearch/1.1/browse#', 'type': 'image/jpeg', 'hreflang': 'en-US', 'href': 'https://n5eil01u.ecs.nsidc.org/DP0/BRWS/Browse.001/2019.10.09/ATL09_20181018012943_02970101_002_01_BRW.profile_2.layer_heights.jpg'}, {'rel': 'http://esipfed.org/ns/fedsearch/1.1/browse#', 'type': 'image/jpeg', 'hreflang': 'en-US', 'href': 'https://n5eil01u.ecs.nsidc.org/DP0/BRWS/Browse.001/2019.10.09/ATL09_20181018012943_02970101_002_01_BRW.profile_2.layer_heights_on_cab.jpg'}, {'rel': 'http://esipfed.org/ns/fedsearch/1.1/browse#', 'type': 'image/jpeg', 'hreflang': 'en-US', 'href': 'https://n5eil01u.ecs.nsidc.org/DP0/BRWS/Browse.001/2019.10.09/ATL09_20181018012943_02970101_002_01_BRW.profile_2.msw_flag_on_map.jpg'}, {'rel': 'http://esipfed.org/ns/fedsearch/1.1/browse#', 'type': 'image/jpeg', 'hreflang': 'en-US', 'href': 'https://n5eil01u.ecs.nsidc.org/DP0/BRWS/Browse.001/2019.10.09/ATL09_20181018012943_02970101_002_01_BRW.profile_2.ocean_surf_reflec.jpg'}, {'rel': 'http://esipfed.org/ns/fedsearch/1.1/browse#', 'type': 'image/jpeg', 'hreflang': 'en-US', 'href': 'https://n5eil01u.ecs.nsidc.org/DP0/BRWS/Browse.001/2019.10.09/ATL09_20181018012943_02970101_002_01_BRW.profile_3.apparent_surf_reflec.jpg'}, {'rel': 'http://esipfed.org/ns/fedsearch/1.1/browse#', 'type': 'image/jpeg', 'hreflang': 'en-US', 'href': 'https://n5eil01u.ecs.nsidc.org/DP0/BRWS/Browse.001/2019.10.09/ATL09_20181018012943_02970101_002_01_BRW.profile_3.cab_profile.jpg'}, {'rel': 'http://esipfed.org/ns/fedsearch/1.1/browse#', 'type': 'image/jpeg', 'hreflang': 'en-US', 'href': 'https://n5eil01u.ecs.nsidc.org/DP0/BRWS/Browse.001/2019.10.09/ATL09_20181018012943_02970101_002_01_BRW.profile_3.cloud_flag_asr_on_cab.jpg'}, {'rel': 'http://esipfed.org/ns/fedsearch/1.1/browse#', 'type': 'image/jpeg', 'hreflang': 'en-US', 'href': 'https://n5eil01u.ecs.nsidc.org/DP0/BRWS/Browse.001/2019.10.09/ATL09_20181018012943_02970101_002_01_BRW.profile_3.cloud_flag_asr_on_map.jpg'}, {'rel': 'http://esipfed.org/ns/fedsearch/1.1/browse#', 'type': 'image/jpeg', 'hreflang': 'en-US', 'href': 'https://n5eil01u.ecs.nsidc.org/DP0/BRWS/Browse.001/2019.10.09/ATL09_20181018012943_02970101_002_01_BRW.profile_3.cloud_flag_atm_on_map.jpg'}, {'rel': 'http://esipfed.org/ns/fedsearch/1.1/browse#', 'type': 'image/jpeg', 'hreflang': 'en-US', 'href': 'https://n5eil01u.ecs.nsidc.org/DP0/BRWS/Browse.001/2019.10.09/ATL09_20181018012943_02970101_002_01_BRW.profile_3.column_od_asr.jpg'}, {'rel': 'http://esipfed.org/ns/fedsearch/1.1/browse#', 'type': 'image/jpeg', 'hreflang': 'en-US', 'href': 'https://n5eil01u.ecs.nsidc.org/DP0/BRWS/Browse.001/2019.10.09/ATL09_20181018012943_02970101_002_01_BRW.profile_3.layer_flag_on_cab.jpg'}, {'rel': 'http://esipfed.org/ns/fedsearch/1.1/browse#', 'type': 'image/jpeg', 'hreflang': 'en-US', 'href': 'https://n5eil01u.ecs.nsidc.org/DP0/BRWS/Browse.001/2019.10.09/ATL09_20181018012943_02970101_002_01_BRW.profile_3.layer_flag_on_map.jpg'}, {'rel': 'http://esipfed.org/ns/fedsearch/1.1/browse#', 'type': 'image/jpeg', 'hreflang': 'en-US', 'href': 'https://n5eil01u.ecs.nsidc.org/DP0/BRWS/Browse.001/2019.10.09/ATL09_20181018012943_02970101_002_01_BRW.profile_3.layer_heights.jpg'}, {'rel': 'http://esipfed.org/ns/fedsearch/1.1/browse#', 'type': 'image/jpeg', 'hreflang': 'en-US', 'href': 'https://n5eil01u.ecs.nsidc.org/DP0/BRWS/Browse.001/2019.10.09/ATL09_20181018012943_02970101_002_01_BRW.profile_3.layer_heights_on_cab.jpg'}, {'rel': 'http://esipfed.org/ns/fedsearch/1.1/browse#', 'type': 'image/jpeg', 'hreflang': 'en-US', 'href': 'https://n5eil01u.ecs.nsidc.org/DP0/BRWS/Browse.001/2019.10.09/ATL09_20181018012943_02970101_002_01_BRW.profile_3.msw_flag_on_map.jpg'}, {'rel': 'http://esipfed.org/ns/fedsearch/1.1/browse#', 'type': 'image/jpeg', 'hreflang': 'en-US', 'href': 'https://n5eil01u.ecs.nsidc.org/DP0/BRWS/Browse.001/2019.10.09/ATL09_20181018012943_02970101_002_01_BRW.profile_3.ocean_surf_reflec.jpg'}, {'rel': 'http://esipfed.org/ns/fedsearch/1.1/metadata#', 'type': 'text/xml', 'hreflang': 'en-US', 'href': 'https://n5eil01u.ecs.nsidc.org/DP7/ATLAS/ATL09.002/2018.10.18/ATL09_20181018012943_02970101_002_01.iso.xml'}, {'inherited': True, 'length': '0.0KB', 'rel': 'http://esipfed.org/ns/fedsearch/1.1/data#', 'hreflang': 'en-US', 'href': 'https://n5eil01u.ecs.nsidc.org/ATLAS/ATL09.002/'}, {'inherited': True, 'length': '0.0KB', 'rel': 'http://esipfed.org/ns/fedsearch/1.1/data#', 'hreflang': 'en-US', 'href': 'https://search.earthdata.nasa.gov/search/granules?p=C1631076797-NSIDC_ECS&q=atl09&m=-87.46352300590473!-3.4486083984375004!1!1!0!0%2C2&tl=1555860221!4!!'}, {'inherited': True, 'rel': 'http://esipfed.org/ns/fedsearch/1.1/metadata#', 'hreflang': 'en-US', 'href': 'https://doi.org/10.5067/ATLAS/ATL09.002'}, {'inherited': True, 'rel': 'http://esipfed.org/ns/fedsearch/1.1/documentation#', 'hreflang': 'en-US', 'href': 'https://doi.org/10.5067/ATLAS/ATL09.002'}]}, {'producer_granule_id': 'ATL09_20181018043818_02990101_002_01.h5', 'time_start': '2018-10-18T05:50:46.000Z', 'orbit': {'ascending_crossing': '161.31350010321302', 'start_lat': '0', 'start_direction': 'A', 'end_lat': '0', 'end_direction': 'A'}, 'updated': '2019-12-18T06:31:11.497Z', 'orbit_calculated_spatial_domains': [{'equator_crossing_date_time': '2018-10-18T04:38:18.485Z', 'equator_crossing_longitude': '161.31350010321302', 'orbit_number': '500'}], 'dataset_id': 'ATLAS/ICESat-2 L3A Calibrated Backscatter Profiles and Atmospheric Layer Characteristics V002', 'data_center': 'NSIDC_ECS', 'title': 'SC:ATL09.002:166040795', 'coordinate_system': 'ORBIT', 'time_end': '2018-10-18T06:12:36.000Z', 'id': 'G1706552514-NSIDC_ECS', 'original_format': 'ISO-SMAP', 'granule_size': '595.9189271927', 'browse_flag': True, 'polygons': [['-83.07477303314249 158.50727069966769 -64.17191655494989 145.71125615657854 -45.11429893577264 142.47627498026768 -26.040661407069344 140.24410046508353 -6.962906658860655 138.27791643826075 0.0325040585621419 137.5752977571802 0.04380928577819535 137.89903753877985 -6.9515175750241065 138.60405460795923 -26.02807950864166 140.6043470681924 -45.09828119138926 142.93468254997242 -64.14597976716007 146.4520605266445 -82.98163449180274 161.06361410572546 -83.07477303314249 158.50727069966769']], 'collection_concept_id': 'C1631076797-NSIDC_ECS', 'online_access_flag': True, 'links': [{'rel': 'http://esipfed.org/ns/fedsearch/1.1/data#', 'type': 'application/x-hdfeos', 'hreflang': 'en-US', 'href': 'https://n5eil01u.ecs.nsidc.org/DP7/ATLAS/ATL09.002/2018.10.18/ATL09_20181018043818_02990101_002_01.h5'}, {'rel': 'http://esipfed.org/ns/fedsearch/1.1/browse#', 'type': 'image/jpeg', 'hreflang': 'en-US', 'href': 'https://n5eil01u.ecs.nsidc.org/DP0/BRWS/Browse.001/2019.10.09/ATL09_20181018043818_02990101_002_01_BRW.default.default1.jpg'}, {'rel': 'http://esipfed.org/ns/fedsearch/1.1/browse#', 'type': 'image/jpeg', 'hreflang': 'en-US', 'href': 'https://n5eil01u.ecs.nsidc.org/DP0/BRWS/Browse.001/2019.10.09/ATL09_20181018043818_02990101_002_01_BRW.default.default2.jpg'}, {'rel': 'http://esipfed.org/ns/fedsearch/1.1/browse#', 'type': 'image/jpeg', 'hreflang': 'en-US', 'href': 'https://n5eil01u.ecs.nsidc.org/DP0/BRWS/Browse.001/2019.10.09/ATL09_20181018043818_02990101_002_01_BRW.profile_1.apparent_surf_reflec.jpg'}, {'rel': 'http://esipfed.org/ns/fedsearch/1.1/browse#', 'type': 'image/jpeg', 'hreflang': 'en-US', 'href': 'https://n5eil01u.ecs.nsidc.org/DP0/BRWS/Browse.001/2019.10.09/ATL09_20181018043818_02990101_002_01_BRW.profile_1.cab_profile.jpg'}, {'rel': 'http://esipfed.org/ns/fedsearch/1.1/browse#', 'type': 'image/jpeg', 'hreflang': 'en-US', 'href': 'https://n5eil01u.ecs.nsidc.org/DP0/BRWS/Browse.001/2019.10.09/ATL09_20181018043818_02990101_002_01_BRW.profile_1.cloud_flag_asr_on_cab.jpg'}, {'rel': 'http://esipfed.org/ns/fedsearch/1.1/browse#', 'type': 'image/jpeg', 'hreflang': 'en-US', 'href': 'https://n5eil01u.ecs.nsidc.org/DP0/BRWS/Browse.001/2019.10.09/ATL09_20181018043818_02990101_002_01_BRW.profile_1.cloud_flag_asr_on_map.jpg'}, {'rel': 'http://esipfed.org/ns/fedsearch/1.1/browse#', 'type': 'image/jpeg', 'hreflang': 'en-US', 'href': 'https://n5eil01u.ecs.nsidc.org/DP0/BRWS/Browse.001/2019.10.09/ATL09_20181018043818_02990101_002_01_BRW.profile_1.cloud_flag_atm_on_map.jpg'}, {'rel': 'http://esipfed.org/ns/fedsearch/1.1/browse#', 'type': 'image/jpeg', 'hreflang': 'en-US', 'href': 'https://n5eil01u.ecs.nsidc.org/DP0/BRWS/Browse.001/2019.10.09/ATL09_20181018043818_02990101_002_01_BRW.profile_1.column_od_asr.jpg'}, {'rel': 'http://esipfed.org/ns/fedsearch/1.1/browse#', 'type': 'image/jpeg', 'hreflang': 'en-US', 'href': 'https://n5eil01u.ecs.nsidc.org/DP0/BRWS/Browse.001/2019.10.09/ATL09_20181018043818_02990101_002_01_BRW.profile_1.layer_flag_on_cab.jpg'}, {'rel': 'http://esipfed.org/ns/fedsearch/1.1/browse#', 'type': 'image/jpeg', 'hreflang': 'en-US', 'href': 'https://n5eil01u.ecs.nsidc.org/DP0/BRWS/Browse.001/2019.10.09/ATL09_20181018043818_02990101_002_01_BRW.profile_1.layer_flag_on_map.jpg'}, {'rel': 'http://esipfed.org/ns/fedsearch/1.1/browse#', 'type': 'image/jpeg', 'hreflang': 'en-US', 'href': 'https://n5eil01u.ecs.nsidc.org/DP0/BRWS/Browse.001/2019.10.09/ATL09_20181018043818_02990101_002_01_BRW.profile_1.layer_heights.jpg'}, {'rel': 'http://esipfed.org/ns/fedsearch/1.1/browse#', 'type': 'image/jpeg', 'hreflang': 'en-US', 'href': 'https://n5eil01u.ecs.nsidc.org/DP0/BRWS/Browse.001/2019.10.09/ATL09_20181018043818_02990101_002_01_BRW.profile_1.layer_heights_on_cab.jpg'}, {'rel': 'http://esipfed.org/ns/fedsearch/1.1/browse#', 'type': 'image/jpeg', 'hreflang': 'en-US', 'href': 'https://n5eil01u.ecs.nsidc.org/DP0/BRWS/Browse.001/2019.10.09/ATL09_20181018043818_02990101_002_01_BRW.profile_1.msw_flag_on_map.jpg'}, {'rel': 'http://esipfed.org/ns/fedsearch/1.1/browse#', 'type': 'image/jpeg', 'hreflang': 'en-US', 'href': 'https://n5eil01u.ecs.nsidc.org/DP0/BRWS/Browse.001/2019.10.09/ATL09_20181018043818_02990101_002_01_BRW.profile_1.ocean_surf_reflec.jpg'}, {'rel': 'http://esipfed.org/ns/fedsearch/1.1/browse#', 'type': 'image/jpeg', 'hreflang': 'en-US', 'href': 'https://n5eil01u.ecs.nsidc.org/DP0/BRWS/Browse.001/2019.10.09/ATL09_20181018043818_02990101_002_01_BRW.profile_2.apparent_surf_reflec.jpg'}, {'rel': 'http://esipfed.org/ns/fedsearch/1.1/browse#', 'type': 'image/jpeg', 'hreflang': 'en-US', 'href': 'https://n5eil01u.ecs.nsidc.org/DP0/BRWS/Browse.001/2019.10.09/ATL09_20181018043818_02990101_002_01_BRW.profile_2.cab_profile.jpg'}, {'rel': 'http://esipfed.org/ns/fedsearch/1.1/browse#', 'type': 'image/jpeg', 'hreflang': 'en-US', 'href': 'https://n5eil01u.ecs.nsidc.org/DP0/BRWS/Browse.001/2019.10.09/ATL09_20181018043818_02990101_002_01_BRW.profile_2.cloud_flag_asr_on_cab.jpg'}, {'rel': 'http://esipfed.org/ns/fedsearch/1.1/browse#', 'type': 'image/jpeg', 'hreflang': 'en-US', 'href': 'https://n5eil01u.ecs.nsidc.org/DP0/BRWS/Browse.001/2019.10.09/ATL09_20181018043818_02990101_002_01_BRW.profile_2.cloud_flag_asr_on_map.jpg'}, {'rel': 'http://esipfed.org/ns/fedsearch/1.1/browse#', 'type': 'image/jpeg', 'hreflang': 'en-US', 'href': 'https://n5eil01u.ecs.nsidc.org/DP0/BRWS/Browse.001/2019.10.09/ATL09_20181018043818_02990101_002_01_BRW.profile_2.cloud_flag_atm_on_map.jpg'}, {'rel': 'http://esipfed.org/ns/fedsearch/1.1/browse#', 'type': 'image/jpeg', 'hreflang': 'en-US', 'href': 'https://n5eil01u.ecs.nsidc.org/DP0/BRWS/Browse.001/2019.10.09/ATL09_20181018043818_02990101_002_01_BRW.profile_2.column_od_asr.jpg'}, {'rel': 'http://esipfed.org/ns/fedsearch/1.1/browse#', 'type': 'image/jpeg', 'hreflang': 'en-US', 'href': 'https://n5eil01u.ecs.nsidc.org/DP0/BRWS/Browse.001/2019.10.09/ATL09_20181018043818_02990101_002_01_BRW.profile_2.layer_flag_on_cab.jpg'}, {'rel': 'http://esipfed.org/ns/fedsearch/1.1/browse#', 'type': 'image/jpeg', 'hreflang': 'en-US', 'href': 'https://n5eil01u.ecs.nsidc.org/DP0/BRWS/Browse.001/2019.10.09/ATL09_20181018043818_02990101_002_01_BRW.profile_2.layer_flag_on_map.jpg'}, {'rel': 'http://esipfed.org/ns/fedsearch/1.1/browse#', 'type': 'image/jpeg', 'hreflang': 'en-US', 'href': 'https://n5eil01u.ecs.nsidc.org/DP0/BRWS/Browse.001/2019.10.09/ATL09_20181018043818_02990101_002_01_BRW.profile_2.layer_heights.jpg'}, {'rel': 'http://esipfed.org/ns/fedsearch/1.1/browse#', 'type': 'image/jpeg', 'hreflang': 'en-US', 'href': 'https://n5eil01u.ecs.nsidc.org/DP0/BRWS/Browse.001/2019.10.09/ATL09_20181018043818_02990101_002_01_BRW.profile_2.layer_heights_on_cab.jpg'}, {'rel': 'http://esipfed.org/ns/fedsearch/1.1/browse#', 'type': 'image/jpeg', 'hreflang': 'en-US', 'href': 'https://n5eil01u.ecs.nsidc.org/DP0/BRWS/Browse.001/2019.10.09/ATL09_20181018043818_02990101_002_01_BRW.profile_2.msw_flag_on_map.jpg'}, {'rel': 'http://esipfed.org/ns/fedsearch/1.1/browse#', 'type': 'image/jpeg', 'hreflang': 'en-US', 'href': 'https://n5eil01u.ecs.nsidc.org/DP0/BRWS/Browse.001/2019.10.09/ATL09_20181018043818_02990101_002_01_BRW.profile_2.ocean_surf_reflec.jpg'}, {'rel': 'http://esipfed.org/ns/fedsearch/1.1/browse#', 'type': 'image/jpeg', 'hreflang': 'en-US', 'href': 'https://n5eil01u.ecs.nsidc.org/DP0/BRWS/Browse.001/2019.10.09/ATL09_20181018043818_02990101_002_01_BRW.profile_3.apparent_surf_reflec.jpg'}, {'rel': 'http://esipfed.org/ns/fedsearch/1.1/browse#', 'type': 'image/jpeg', 'hreflang': 'en-US', 'href': 'https://n5eil01u.ecs.nsidc.org/DP0/BRWS/Browse.001/2019.10.09/ATL09_20181018043818_02990101_002_01_BRW.profile_3.cab_profile.jpg'}, {'rel': 'http://esipfed.org/ns/fedsearch/1.1/browse#', 'type': 'image/jpeg', 'hreflang': 'en-US', 'href': 'https://n5eil01u.ecs.nsidc.org/DP0/BRWS/Browse.001/2019.10.09/ATL09_20181018043818_02990101_002_01_BRW.profile_3.cloud_flag_asr_on_cab.jpg'}, {'rel': 'http://esipfed.org/ns/fedsearch/1.1/browse#', 'type': 'image/jpeg', 'hreflang': 'en-US', 'href': 'https://n5eil01u.ecs.nsidc.org/DP0/BRWS/Browse.001/2019.10.09/ATL09_20181018043818_02990101_002_01_BRW.profile_3.cloud_flag_asr_on_map.jpg'}, {'rel': 'http://esipfed.org/ns/fedsearch/1.1/browse#', 'type': 'image/jpeg', 'hreflang': 'en-US', 'href': 'https://n5eil01u.ecs.nsidc.org/DP0/BRWS/Browse.001/2019.10.09/ATL09_20181018043818_02990101_002_01_BRW.profile_3.cloud_flag_atm_on_map.jpg'}, {'rel': 'http://esipfed.org/ns/fedsearch/1.1/browse#', 'type': 'image/jpeg', 'hreflang': 'en-US', 'href': 'https://n5eil01u.ecs.nsidc.org/DP0/BRWS/Browse.001/2019.10.09/ATL09_20181018043818_02990101_002_01_BRW.profile_3.column_od_asr.jpg'}, {'rel': 'http://esipfed.org/ns/fedsearch/1.1/browse#', 'type': 'image/jpeg', 'hreflang': 'en-US', 'href': 'https://n5eil01u.ecs.nsidc.org/DP0/BRWS/Browse.001/2019.10.09/ATL09_20181018043818_02990101_002_01_BRW.profile_3.layer_flag_on_cab.jpg'}, {'rel': 'http://esipfed.org/ns/fedsearch/1.1/browse#', 'type': 'image/jpeg', 'hreflang': 'en-US', 'href': 'https://n5eil01u.ecs.nsidc.org/DP0/BRWS/Browse.001/2019.10.09/ATL09_20181018043818_02990101_002_01_BRW.profile_3.layer_flag_on_map.jpg'}, {'rel': 'http://esipfed.org/ns/fedsearch/1.1/browse#', 'type': 'image/jpeg', 'hreflang': 'en-US', 'href': 'https://n5eil01u.ecs.nsidc.org/DP0/BRWS/Browse.001/2019.10.09/ATL09_20181018043818_02990101_002_01_BRW.profile_3.layer_heights.jpg'}, {'rel': 'http://esipfed.org/ns/fedsearch/1.1/browse#', 'type': 'image/jpeg', 'hreflang': 'en-US', 'href': 'https://n5eil01u.ecs.nsidc.org/DP0/BRWS/Browse.001/2019.10.09/ATL09_20181018043818_02990101_002_01_BRW.profile_3.layer_heights_on_cab.jpg'}, {'rel': 'http://esipfed.org/ns/fedsearch/1.1/browse#', 'type': 'image/jpeg', 'hreflang': 'en-US', 'href': 'https://n5eil01u.ecs.nsidc.org/DP0/BRWS/Browse.001/2019.10.09/ATL09_20181018043818_02990101_002_01_BRW.profile_3.msw_flag_on_map.jpg'}, {'rel': 'http://esipfed.org/ns/fedsearch/1.1/browse#', 'type': 'image/jpeg', 'hreflang': 'en-US', 'href': 'https://n5eil01u.ecs.nsidc.org/DP0/BRWS/Browse.001/2019.10.09/ATL09_20181018043818_02990101_002_01_BRW.profile_3.ocean_surf_reflec.jpg'}, {'rel': 'http://esipfed.org/ns/fedsearch/1.1/metadata#', 'type': 'text/xml', 'hreflang': 'en-US', 'href': 'https://n5eil01u.ecs.nsidc.org/DP7/ATLAS/ATL09.002/2018.10.18/ATL09_20181018043818_02990101_002_01.iso.xml'}, {'inherited': True, 'length': '0.0KB', 'rel': 'http://esipfed.org/ns/fedsearch/1.1/data#', 'hreflang': 'en-US', 'href': 'https://n5eil01u.ecs.nsidc.org/ATLAS/ATL09.002/'}, {'inherited': True, 'length': '0.0KB', 'rel': 'http://esipfed.org/ns/fedsearch/1.1/data#', 'hreflang': 'en-US', 'href': 'https://search.earthdata.nasa.gov/search/granules?p=C1631076797-NSIDC_ECS&q=atl09&m=-87.46352300590473!-3.4486083984375004!1!1!0!0%2C2&tl=1555860221!4!!'}, {'inherited': True, 'rel': 'http://esipfed.org/ns/fedsearch/1.1/metadata#', 'hreflang': 'en-US', 'href': 'https://doi.org/10.5067/ATLAS/ATL09.002'}, {'inherited': True, 'rel': 'http://esipfed.org/ns/fedsearch/1.1/documentation#', 'hreflang': 'en-US', 'href': 'https://doi.org/10.5067/ATLAS/ATL09.002'}]}, {'producer_granule_id': 'ATL09_20181018061236_03000101_002_01.h5', 'time_start': '2018-10-18T06:12:36.000Z', 'orbit': {'ascending_crossing': '137.694600669907', 'start_lat': '0', 'start_direction': 'A', 'end_lat': '0', 'end_direction': 'A'}, 'updated': '2019-12-18T06:31:11.439Z', 'orbit_calculated_spatial_domains': [{'equator_crossing_date_time': '2018-10-18T06:12:35.830Z', 'equator_crossing_longitude': '137.694600669907', 'orbit_number': '501'}], 'dataset_id': 'ATLAS/ICESat-2 L3A Calibrated Backscatter Profiles and Atmospheric Layer Characteristics V002', 'data_center': 'NSIDC_ECS', 'title': 'SC:ATL09.002:166040841', 'coordinate_system': 'ORBIT', 'time_end': '2018-10-18T07:46:53.000Z', 'id': 'G1706541473-NSIDC_ECS', 'original_format': 'ISO-SMAP', 'granule_size': '2438.5368585587', 'browse_flag': True, 'polygons': [['0.057941837770383794 137.52634328939982 19.135489609110305 135.57462369650796 38.20883784985154 133.40890806629312 57.26854821957185 130.52585262650388 76.25526268312738 123.79270275101769 84.07842035233796 -27.20743786453567 65.30597549049786 -45.06493962825553 46.26114162606862 -48.73362371672629 27.19161423704892 -51.099364531520216 8.115268210851323 -53.11055320998392 -10.962998738498452 -55.032064680079465 -30.040292429864152 -57.029443942483226 -49.112160691769134 -59.37321516909082 -68.16154223351249 -63.12137665984358 -86.75422812743926 -94.26872382441867 -73.48678157208434 125.1312016839795 -54.456211673381866 120.21296606893551 -35.38762839486189 117.66298665683898 -16.311228202544413 115.60707815362785 0.0325040585621419 113.95639832387423 0.04380928577819535 114.28013810547384 -16.299449216850046 115.94436706071207 -35.37376244756542 118.05993411544256 -54.436768949888645 120.76907003120904 -73.4470540249682 126.26096928156208 -86.56034097743358 -98.7222833593201 -68.13117119099505 -63.987794866662504 -49.09489274709803 -59.86730386573042 -30.027233835740763 -57.403317599529316 -10.951483584558067 -55.3618084647114 8.12668795270631 -53.4375682151249 27.204324840501627 -51.4632905930878 46.27749592132593 -49.201638642850355 65.33305013496643 -45.838020140017775 84.18903142022057 -30.186830751457055 76.30292531550062 125.14358328144064 57.28946257218784 131.12387882307522 38.22322687558885 133.8208009559255 19.14745645929776 135.9172847884054 0.06924706944323258 137.85008319847026 0.057941837770383794 137.52634328939982']], 'collection_concept_id': 'C1631076797-NSIDC_ECS', 'online_access_flag': True, 'links': [{'rel': 'http://esipfed.org/ns/fedsearch/1.1/data#', 'type': 'application/x-hdfeos', 'hreflang': 'en-US', 'href': 'https://n5eil01u.ecs.nsidc.org/DP7/ATLAS/ATL09.002/2018.10.18/ATL09_20181018061236_03000101_002_01.h5'}, {'rel': 'http://esipfed.org/ns/fedsearch/1.1/browse#', 'type': 'image/jpeg', 'hreflang': 'en-US', 'href': 'https://n5eil01u.ecs.nsidc.org/DP0/BRWS/Browse.001/2019.10.09/ATL09_20181018061236_03000101_002_01_BRW.default.default1.jpg'}, {'rel': 'http://esipfed.org/ns/fedsearch/1.1/browse#', 'type': 'image/jpeg', 'hreflang': 'en-US', 'href': 'https://n5eil01u.ecs.nsidc.org/DP0/BRWS/Browse.001/2019.10.09/ATL09_20181018061236_03000101_002_01_BRW.default.default2.jpg'}, {'rel': 'http://esipfed.org/ns/fedsearch/1.1/browse#', 'type': 'image/jpeg', 'hreflang': 'en-US', 'href': 'https://n5eil01u.ecs.nsidc.org/DP0/BRWS/Browse.001/2019.10.09/ATL09_20181018061236_03000101_002_01_BRW.profile_1.apparent_surf_reflec.jpg'}, {'rel': 'http://esipfed.org/ns/fedsearch/1.1/browse#', 'type': 'image/jpeg', 'hreflang': 'en-US', 'href': 'https://n5eil01u.ecs.nsidc.org/DP0/BRWS/Browse.001/2019.10.09/ATL09_20181018061236_03000101_002_01_BRW.profile_1.cab_profile.jpg'}, {'rel': 'http://esipfed.org/ns/fedsearch/1.1/browse#', 'type': 'image/jpeg', 'hreflang': 'en-US', 'href': 'https://n5eil01u.ecs.nsidc.org/DP0/BRWS/Browse.001/2019.10.09/ATL09_20181018061236_03000101_002_01_BRW.profile_1.cloud_flag_asr_on_cab.jpg'}, {'rel': 'http://esipfed.org/ns/fedsearch/1.1/browse#', 'type': 'image/jpeg', 'hreflang': 'en-US', 'href': 'https://n5eil01u.ecs.nsidc.org/DP0/BRWS/Browse.001/2019.10.09/ATL09_20181018061236_03000101_002_01_BRW.profile_1.cloud_flag_asr_on_map.jpg'}, {'rel': 'http://esipfed.org/ns/fedsearch/1.1/browse#', 'type': 'image/jpeg', 'hreflang': 'en-US', 'href': 'https://n5eil01u.ecs.nsidc.org/DP0/BRWS/Browse.001/2019.10.09/ATL09_20181018061236_03000101_002_01_BRW.profile_1.cloud_flag_atm_on_map.jpg'}, {'rel': 'http://esipfed.org/ns/fedsearch/1.1/browse#', 'type': 'image/jpeg', 'hreflang': 'en-US', 'href': 'https://n5eil01u.ecs.nsidc.org/DP0/BRWS/Browse.001/2019.10.09/ATL09_20181018061236_03000101_002_01_BRW.profile_1.column_od_asr.jpg'}, {'rel': 'http://esipfed.org/ns/fedsearch/1.1/browse#', 'type': 'image/jpeg', 'hreflang': 'en-US', 'href': 'https://n5eil01u.ecs.nsidc.org/DP0/BRWS/Browse.001/2019.10.09/ATL09_20181018061236_03000101_002_01_BRW.profile_1.layer_flag_on_cab.jpg'}, {'rel': 'http://esipfed.org/ns/fedsearch/1.1/browse#', 'type': 'image/jpeg', 'hreflang': 'en-US', 'href': 'https://n5eil01u.ecs.nsidc.org/DP0/BRWS/Browse.001/2019.10.09/ATL09_20181018061236_03000101_002_01_BRW.profile_1.layer_flag_on_map.jpg'}, {'rel': 'http://esipfed.org/ns/fedsearch/1.1/browse#', 'type': 'image/jpeg', 'hreflang': 'en-US', 'href': 'https://n5eil01u.ecs.nsidc.org/DP0/BRWS/Browse.001/2019.10.09/ATL09_20181018061236_03000101_002_01_BRW.profile_1.layer_heights.jpg'}, {'rel': 'http://esipfed.org/ns/fedsearch/1.1/browse#', 'type': 'image/jpeg', 'hreflang': 'en-US', 'href': 'https://n5eil01u.ecs.nsidc.org/DP0/BRWS/Browse.001/2019.10.09/ATL09_20181018061236_03000101_002_01_BRW.profile_1.layer_heights_on_cab.jpg'}, {'rel': 'http://esipfed.org/ns/fedsearch/1.1/browse#', 'type': 'image/jpeg', 'hreflang': 'en-US', 'href': 'https://n5eil01u.ecs.nsidc.org/DP0/BRWS/Browse.001/2019.10.09/ATL09_20181018061236_03000101_002_01_BRW.profile_1.msw_flag_on_map.jpg'}, {'rel': 'http://esipfed.org/ns/fedsearch/1.1/browse#', 'type': 'image/jpeg', 'hreflang': 'en-US', 'href': 'https://n5eil01u.ecs.nsidc.org/DP0/BRWS/Browse.001/2019.10.09/ATL09_20181018061236_03000101_002_01_BRW.profile_1.ocean_surf_reflec.jpg'}, {'rel': 'http://esipfed.org/ns/fedsearch/1.1/browse#', 'type': 'image/jpeg', 'hreflang': 'en-US', 'href': 'https://n5eil01u.ecs.nsidc.org/DP0/BRWS/Browse.001/2019.10.09/ATL09_20181018061236_03000101_002_01_BRW.profile_2.apparent_surf_reflec.jpg'}, {'rel': 'http://esipfed.org/ns/fedsearch/1.1/browse#', 'type': 'image/jpeg', 'hreflang': 'en-US', 'href': 'https://n5eil01u.ecs.nsidc.org/DP0/BRWS/Browse.001/2019.10.09/ATL09_20181018061236_03000101_002_01_BRW.profile_2.cab_profile.jpg'}, {'rel': 'http://esipfed.org/ns/fedsearch/1.1/browse#', 'type': 'image/jpeg', 'hreflang': 'en-US', 'href': 'https://n5eil01u.ecs.nsidc.org/DP0/BRWS/Browse.001/2019.10.09/ATL09_20181018061236_03000101_002_01_BRW.profile_2.cloud_flag_asr_on_cab.jpg'}, {'rel': 'http://esipfed.org/ns/fedsearch/1.1/browse#', 'type': 'image/jpeg', 'hreflang': 'en-US', 'href': 'https://n5eil01u.ecs.nsidc.org/DP0/BRWS/Browse.001/2019.10.09/ATL09_20181018061236_03000101_002_01_BRW.profile_2.cloud_flag_asr_on_map.jpg'}, {'rel': 'http://esipfed.org/ns/fedsearch/1.1/browse#', 'type': 'image/jpeg', 'hreflang': 'en-US', 'href': 'https://n5eil01u.ecs.nsidc.org/DP0/BRWS/Browse.001/2019.10.09/ATL09_20181018061236_03000101_002_01_BRW.profile_2.cloud_flag_atm_on_map.jpg'}, {'rel': 'http://esipfed.org/ns/fedsearch/1.1/browse#', 'type': 'image/jpeg', 'hreflang': 'en-US', 'href': 'https://n5eil01u.ecs.nsidc.org/DP0/BRWS/Browse.001/2019.10.09/ATL09_20181018061236_03000101_002_01_BRW.profile_2.column_od_asr.jpg'}, {'rel': 'http://esipfed.org/ns/fedsearch/1.1/browse#', 'type': 'image/jpeg', 'hreflang': 'en-US', 'href': 'https://n5eil01u.ecs.nsidc.org/DP0/BRWS/Browse.001/2019.10.09/ATL09_20181018061236_03000101_002_01_BRW.profile_2.layer_flag_on_cab.jpg'}, {'rel': 'http://esipfed.org/ns/fedsearch/1.1/browse#', 'type': 'image/jpeg', 'hreflang': 'en-US', 'href': 'https://n5eil01u.ecs.nsidc.org/DP0/BRWS/Browse.001/2019.10.09/ATL09_20181018061236_03000101_002_01_BRW.profile_2.layer_flag_on_map.jpg'}, {'rel': 'http://esipfed.org/ns/fedsearch/1.1/browse#', 'type': 'image/jpeg', 'hreflang': 'en-US', 'href': 'https://n5eil01u.ecs.nsidc.org/DP0/BRWS/Browse.001/2019.10.09/ATL09_20181018061236_03000101_002_01_BRW.profile_2.layer_heights.jpg'}, {'rel': 'http://esipfed.org/ns/fedsearch/1.1/browse#', 'type': 'image/jpeg', 'hreflang': 'en-US', 'href': 'https://n5eil01u.ecs.nsidc.org/DP0/BRWS/Browse.001/2019.10.09/ATL09_20181018061236_03000101_002_01_BRW.profile_2.layer_heights_on_cab.jpg'}, {'rel': 'http://esipfed.org/ns/fedsearch/1.1/browse#', 'type': 'image/jpeg', 'hreflang': 'en-US', 'href': 'https://n5eil01u.ecs.nsidc.org/DP0/BRWS/Browse.001/2019.10.09/ATL09_20181018061236_03000101_002_01_BRW.profile_2.msw_flag_on_map.jpg'}, {'rel': 'http://esipfed.org/ns/fedsearch/1.1/browse#', 'type': 'image/jpeg', 'hreflang': 'en-US', 'href': 'https://n5eil01u.ecs.nsidc.org/DP0/BRWS/Browse.001/2019.10.09/ATL09_20181018061236_03000101_002_01_BRW.profile_2.ocean_surf_reflec.jpg'}, {'rel': 'http://esipfed.org/ns/fedsearch/1.1/browse#', 'type': 'image/jpeg', 'hreflang': 'en-US', 'href': 'https://n5eil01u.ecs.nsidc.org/DP0/BRWS/Browse.001/2019.10.09/ATL09_20181018061236_03000101_002_01_BRW.profile_3.apparent_surf_reflec.jpg'}, {'rel': 'http://esipfed.org/ns/fedsearch/1.1/browse#', 'type': 'image/jpeg', 'hreflang': 'en-US', 'href': 'https://n5eil01u.ecs.nsidc.org/DP0/BRWS/Browse.001/2019.10.09/ATL09_20181018061236_03000101_002_01_BRW.profile_3.cab_profile.jpg'}, {'rel': 'http://esipfed.org/ns/fedsearch/1.1/browse#', 'type': 'image/jpeg', 'hreflang': 'en-US', 'href': 'https://n5eil01u.ecs.nsidc.org/DP0/BRWS/Browse.001/2019.10.09/ATL09_20181018061236_03000101_002_01_BRW.profile_3.cloud_flag_asr_on_cab.jpg'}, {'rel': 'http://esipfed.org/ns/fedsearch/1.1/browse#', 'type': 'image/jpeg', 'hreflang': 'en-US', 'href': 'https://n5eil01u.ecs.nsidc.org/DP0/BRWS/Browse.001/2019.10.09/ATL09_20181018061236_03000101_002_01_BRW.profile_3.cloud_flag_asr_on_map.jpg'}, {'rel': 'http://esipfed.org/ns/fedsearch/1.1/browse#', 'type': 'image/jpeg', 'hreflang': 'en-US', 'href': 'https://n5eil01u.ecs.nsidc.org/DP0/BRWS/Browse.001/2019.10.09/ATL09_20181018061236_03000101_002_01_BRW.profile_3.cloud_flag_atm_on_map.jpg'}, {'rel': 'http://esipfed.org/ns/fedsearch/1.1/browse#', 'type': 'image/jpeg', 'hreflang': 'en-US', 'href': 'https://n5eil01u.ecs.nsidc.org/DP0/BRWS/Browse.001/2019.10.09/ATL09_20181018061236_03000101_002_01_BRW.profile_3.column_od_asr.jpg'}, {'rel': 'http://esipfed.org/ns/fedsearch/1.1/browse#', 'type': 'image/jpeg', 'hreflang': 'en-US', 'href': 'https://n5eil01u.ecs.nsidc.org/DP0/BRWS/Browse.001/2019.10.09/ATL09_20181018061236_03000101_002_01_BRW.profile_3.layer_flag_on_cab.jpg'}, {'rel': 'http://esipfed.org/ns/fedsearch/1.1/browse#', 'type': 'image/jpeg', 'hreflang': 'en-US', 'href': 'https://n5eil01u.ecs.nsidc.org/DP0/BRWS/Browse.001/2019.10.09/ATL09_20181018061236_03000101_002_01_BRW.profile_3.layer_flag_on_map.jpg'}, {'rel': 'http://esipfed.org/ns/fedsearch/1.1/browse#', 'type': 'image/jpeg', 'hreflang': 'en-US', 'href': 'https://n5eil01u.ecs.nsidc.org/DP0/BRWS/Browse.001/2019.10.09/ATL09_20181018061236_03000101_002_01_BRW.profile_3.layer_heights.jpg'}, {'rel': 'http://esipfed.org/ns/fedsearch/1.1/browse#', 'type': 'image/jpeg', 'hreflang': 'en-US', 'href': 'https://n5eil01u.ecs.nsidc.org/DP0/BRWS/Browse.001/2019.10.09/ATL09_20181018061236_03000101_002_01_BRW.profile_3.layer_heights_on_cab.jpg'}, {'rel': 'http://esipfed.org/ns/fedsearch/1.1/browse#', 'type': 'image/jpeg', 'hreflang': 'en-US', 'href': 'https://n5eil01u.ecs.nsidc.org/DP0/BRWS/Browse.001/2019.10.09/ATL09_20181018061236_03000101_002_01_BRW.profile_3.msw_flag_on_map.jpg'}, {'rel': 'http://esipfed.org/ns/fedsearch/1.1/browse#', 'type': 'image/jpeg', 'hreflang': 'en-US', 'href': 'https://n5eil01u.ecs.nsidc.org/DP0/BRWS/Browse.001/2019.10.09/ATL09_20181018061236_03000101_002_01_BRW.profile_3.ocean_surf_reflec.jpg'}, {'rel': 'http://esipfed.org/ns/fedsearch/1.1/metadata#', 'type': 'text/xml', 'hreflang': 'en-US', 'href': 'https://n5eil01u.ecs.nsidc.org/DP7/ATLAS/ATL09.002/2018.10.18/ATL09_20181018061236_03000101_002_01.iso.xml'}, {'inherited': True, 'length': '0.0KB', 'rel': 'http://esipfed.org/ns/fedsearch/1.1/data#', 'hreflang': 'en-US', 'href': 'https://n5eil01u.ecs.nsidc.org/ATLAS/ATL09.002/'}, {'inherited': True, 'length': '0.0KB', 'rel': 'http://esipfed.org/ns/fedsearch/1.1/data#', 'hreflang': 'en-US', 'href': 'https://search.earthdata.nasa.gov/search/granules?p=C1631076797-NSIDC_ECS&q=atl09&m=-87.46352300590473!-3.4486083984375004!1!1!0!0%2C2&tl=1555860221!4!!'}, {'inherited': True, 'rel': 'http://esipfed.org/ns/fedsearch/1.1/metadata#', 'hreflang': 'en-US', 'href': 'https://doi.org/10.5067/ATLAS/ATL09.002'}, {'inherited': True, 'rel': 'http://esipfed.org/ns/fedsearch/1.1/documentation#', 'hreflang': 'en-US', 'href': 'https://doi.org/10.5067/ATLAS/ATL09.002'}]}, {'producer_granule_id': 'ATL09_20181018074653_03010101_002_01.h5', 'time_start': '2018-10-18T07:46:53.000Z', 'orbit': {'ascending_crossing': '114.07553714477022', 'start_lat': '0', 'start_direction': 'A', 'end_lat': '0', 'end_direction': 'A'}, 'updated': '2019-12-18T06:31:11.176Z', 'orbit_calculated_spatial_domains': [{'equator_crossing_date_time': '2018-10-18T07:46:53.251Z', 'equator_crossing_longitude': '114.07553714477022', 'orbit_number': '502'}], 'dataset_id': 'ATLAS/ICESat-2 L3A Calibrated Backscatter Profiles and Atmospheric Layer Characteristics V002', 'data_center': 'NSIDC_ECS', 'title': 'SC:ATL09.002:166040772', 'coordinate_system': 'ORBIT', 'time_end': '2018-10-18T09:20:04.000Z', 'id': 'G1706552770-NSIDC_ECS', 'original_format': 'ISO-SMAP', 'granule_size': '1597.4258747101', 'browse_flag': True, 'polygons': [['-0.00565261235455362 113.91366728982156 19.071902141078052 111.96227995481107 38.145273816730395 109.79778485205338 57.205066144013514 106.91905527518196 76.1924296491052 100.22005040708972 84.13760392372362 -50.59460284998959 65.3693516469824 -68.6661428455307 46.32468382826406 -72.34359681106649 27.255194724795338 -74.7113488044206 8.17886095546597 -76.7231577635951 -10.899404505724597 -78.64469330903509 -29.97670680684987 -80.64149923238625 -49.04860713219981 -82.98325251064897 -68.09814833379474 -86.72147207020167 -86.70159564447627 -117.25702620787803 -73.55000389447426 101.54175260088299 -54.519744606720806 96.60421700206793 -35.45120858798975 94.05127679023062 -16.37482121901807 91.99453806036985 -4.228335016887344 90.76511980416673 -4.216999019765069 91.0897396452312 -16.363038400632124 92.33193657076018 -35.43733169743005 94.44853695267639 -54.50027166626624 97.16118210971774 -73.51012826867472 102.6756667258847 -86.5106285511061 -121.67983615703358 -68.06786077457512 -87.58552967040409 -49.031361259468405 -83.47671145390333 -29.963656577207285 -81.01513379900966 -10.88789181859205 -78.974366544199 8.190282513295823 -77.0502247062965 27.267912588890816 -75.07548243033676 46.341057117658906 -72.81215390878745 65.39649166892605 -69.44107697365648 84.24934925017939 -53.60046209713498 76.23987883068152 101.56501385276704 57.22594449552825 107.51605634254149 38.15965029200101 110.20931918621179 19.08386439053343 112.30480948799216 0.00565261235455362 114.23740699971889 -0.00565261235455362 113.91366728982156']], 'collection_concept_id': 'C1631076797-NSIDC_ECS', 'online_access_flag': True, 'links': [{'rel': 'http://esipfed.org/ns/fedsearch/1.1/data#', 'type': 'application/x-hdfeos', 'hreflang': 'en-US', 'href': 'https://n5eil01u.ecs.nsidc.org/DP7/ATLAS/ATL09.002/2018.10.18/ATL09_20181018074653_03010101_002_01.h5'}, {'rel': 'http://esipfed.org/ns/fedsearch/1.1/browse#', 'type': 'image/jpeg', 'hreflang': 'en-US', 'href': 'https://n5eil01u.ecs.nsidc.org/DP0/BRWS/Browse.001/2019.10.09/ATL09_20181018074653_03010101_002_01_BRW.default.default1.jpg'}, {'rel': 'http://esipfed.org/ns/fedsearch/1.1/browse#', 'type': 'image/jpeg', 'hreflang': 'en-US', 'href': 'https://n5eil01u.ecs.nsidc.org/DP0/BRWS/Browse.001/2019.10.09/ATL09_20181018074653_03010101_002_01_BRW.default.default2.jpg'}, {'rel': 'http://esipfed.org/ns/fedsearch/1.1/browse#', 'type': 'image/jpeg', 'hreflang': 'en-US', 'href': 'https://n5eil01u.ecs.nsidc.org/DP0/BRWS/Browse.001/2019.10.09/ATL09_20181018074653_03010101_002_01_BRW.profile_1.apparent_surf_reflec.jpg'}, {'rel': 'http://esipfed.org/ns/fedsearch/1.1/browse#', 'type': 'image/jpeg', 'hreflang': 'en-US', 'href': 'https://n5eil01u.ecs.nsidc.org/DP0/BRWS/Browse.001/2019.10.09/ATL09_20181018074653_03010101_002_01_BRW.profile_1.cab_profile.jpg'}, {'rel': 'http://esipfed.org/ns/fedsearch/1.1/browse#', 'type': 'image/jpeg', 'hreflang': 'en-US', 'href': 'https://n5eil01u.ecs.nsidc.org/DP0/BRWS/Browse.001/2019.10.09/ATL09_20181018074653_03010101_002_01_BRW.profile_1.cloud_flag_asr_on_cab.jpg'}, {'rel': 'http://esipfed.org/ns/fedsearch/1.1/browse#', 'type': 'image/jpeg', 'hreflang': 'en-US', 'href': 'https://n5eil01u.ecs.nsidc.org/DP0/BRWS/Browse.001/2019.10.09/ATL09_20181018074653_03010101_002_01_BRW.profile_1.cloud_flag_asr_on_map.jpg'}, {'rel': 'http://esipfed.org/ns/fedsearch/1.1/browse#', 'type': 'image/jpeg', 'hreflang': 'en-US', 'href': 'https://n5eil01u.ecs.nsidc.org/DP0/BRWS/Browse.001/2019.10.09/ATL09_20181018074653_03010101_002_01_BRW.profile_1.cloud_flag_atm_on_map.jpg'}, {'rel': 'http://esipfed.org/ns/fedsearch/1.1/browse#', 'type': 'image/jpeg', 'hreflang': 'en-US', 'href': 'https://n5eil01u.ecs.nsidc.org/DP0/BRWS/Browse.001/2019.10.09/ATL09_20181018074653_03010101_002_01_BRW.profile_1.column_od_asr.jpg'}, {'rel': 'http://esipfed.org/ns/fedsearch/1.1/browse#', 'type': 'image/jpeg', 'hreflang': 'en-US', 'href': 'https://n5eil01u.ecs.nsidc.org/DP0/BRWS/Browse.001/2019.10.09/ATL09_20181018074653_03010101_002_01_BRW.profile_1.layer_flag_on_cab.jpg'}, {'rel': 'http://esipfed.org/ns/fedsearch/1.1/browse#', 'type': 'image/jpeg', 'hreflang': 'en-US', 'href': 'https://n5eil01u.ecs.nsidc.org/DP0/BRWS/Browse.001/2019.10.09/ATL09_20181018074653_03010101_002_01_BRW.profile_1.layer_flag_on_map.jpg'}, {'rel': 'http://esipfed.org/ns/fedsearch/1.1/browse#', 'type': 'image/jpeg', 'hreflang': 'en-US', 'href': 'https://n5eil01u.ecs.nsidc.org/DP0/BRWS/Browse.001/2019.10.09/ATL09_20181018074653_03010101_002_01_BRW.profile_1.layer_heights.jpg'}, {'rel': 'http://esipfed.org/ns/fedsearch/1.1/browse#', 'type': 'image/jpeg', 'hreflang': 'en-US', 'href': 'https://n5eil01u.ecs.nsidc.org/DP0/BRWS/Browse.001/2019.10.09/ATL09_20181018074653_03010101_002_01_BRW.profile_1.layer_heights_on_cab.jpg'}, {'rel': 'http://esipfed.org/ns/fedsearch/1.1/browse#', 'type': 'image/jpeg', 'hreflang': 'en-US', 'href': 'https://n5eil01u.ecs.nsidc.org/DP0/BRWS/Browse.001/2019.10.09/ATL09_20181018074653_03010101_002_01_BRW.profile_1.msw_flag_on_map.jpg'}, {'rel': 'http://esipfed.org/ns/fedsearch/1.1/browse#', 'type': 'image/jpeg', 'hreflang': 'en-US', 'href': 'https://n5eil01u.ecs.nsidc.org/DP0/BRWS/Browse.001/2019.10.09/ATL09_20181018074653_03010101_002_01_BRW.profile_1.ocean_surf_reflec.jpg'}, {'rel': 'http://esipfed.org/ns/fedsearch/1.1/browse#', 'type': 'image/jpeg', 'hreflang': 'en-US', 'href': 'https://n5eil01u.ecs.nsidc.org/DP0/BRWS/Browse.001/2019.10.09/ATL09_20181018074653_03010101_002_01_BRW.profile_2.apparent_surf_reflec.jpg'}, {'rel': 'http://esipfed.org/ns/fedsearch/1.1/browse#', 'type': 'image/jpeg', 'hreflang': 'en-US', 'href': 'https://n5eil01u.ecs.nsidc.org/DP0/BRWS/Browse.001/2019.10.09/ATL09_20181018074653_03010101_002_01_BRW.profile_2.cab_profile.jpg'}, {'rel': 'http://esipfed.org/ns/fedsearch/1.1/browse#', 'type': 'image/jpeg', 'hreflang': 'en-US', 'href': 'https://n5eil01u.ecs.nsidc.org/DP0/BRWS/Browse.001/2019.10.09/ATL09_20181018074653_03010101_002_01_BRW.profile_2.cloud_flag_asr_on_cab.jpg'}, {'rel': 'http://esipfed.org/ns/fedsearch/1.1/browse#', 'type': 'image/jpeg', 'hreflang': 'en-US', 'href': 'https://n5eil01u.ecs.nsidc.org/DP0/BRWS/Browse.001/2019.10.09/ATL09_20181018074653_03010101_002_01_BRW.profile_2.cloud_flag_asr_on_map.jpg'}, {'rel': 'http://esipfed.org/ns/fedsearch/1.1/browse#', 'type': 'image/jpeg', 'hreflang': 'en-US', 'href': 'https://n5eil01u.ecs.nsidc.org/DP0/BRWS/Browse.001/2019.10.09/ATL09_20181018074653_03010101_002_01_BRW.profile_2.cloud_flag_atm_on_map.jpg'}, {'rel': 'http://esipfed.org/ns/fedsearch/1.1/browse#', 'type': 'image/jpeg', 'hreflang': 'en-US', 'href': 'https://n5eil01u.ecs.nsidc.org/DP0/BRWS/Browse.001/2019.10.09/ATL09_20181018074653_03010101_002_01_BRW.profile_2.column_od_asr.jpg'}, {'rel': 'http://esipfed.org/ns/fedsearch/1.1/browse#', 'type': 'image/jpeg', 'hreflang': 'en-US', 'href': 'https://n5eil01u.ecs.nsidc.org/DP0/BRWS/Browse.001/2019.10.09/ATL09_20181018074653_03010101_002_01_BRW.profile_2.layer_flag_on_cab.jpg'}, {'rel': 'http://esipfed.org/ns/fedsearch/1.1/browse#', 'type': 'image/jpeg', 'hreflang': 'en-US', 'href': 'https://n5eil01u.ecs.nsidc.org/DP0/BRWS/Browse.001/2019.10.09/ATL09_20181018074653_03010101_002_01_BRW.profile_2.layer_flag_on_map.jpg'}, {'rel': 'http://esipfed.org/ns/fedsearch/1.1/browse#', 'type': 'image/jpeg', 'hreflang': 'en-US', 'href': 'https://n5eil01u.ecs.nsidc.org/DP0/BRWS/Browse.001/2019.10.09/ATL09_20181018074653_03010101_002_01_BRW.profile_2.layer_heights.jpg'}, {'rel': 'http://esipfed.org/ns/fedsearch/1.1/browse#', 'type': 'image/jpeg', 'hreflang': 'en-US', 'href': 'https://n5eil01u.ecs.nsidc.org/DP0/BRWS/Browse.001/2019.10.09/ATL09_20181018074653_03010101_002_01_BRW.profile_2.layer_heights_on_cab.jpg'}, {'rel': 'http://esipfed.org/ns/fedsearch/1.1/browse#', 'type': 'image/jpeg', 'hreflang': 'en-US', 'href': 'https://n5eil01u.ecs.nsidc.org/DP0/BRWS/Browse.001/2019.10.09/ATL09_20181018074653_03010101_002_01_BRW.profile_2.msw_flag_on_map.jpg'}, {'rel': 'http://esipfed.org/ns/fedsearch/1.1/browse#', 'type': 'image/jpeg', 'hreflang': 'en-US', 'href': 'https://n5eil01u.ecs.nsidc.org/DP0/BRWS/Browse.001/2019.10.09/ATL09_20181018074653_03010101_002_01_BRW.profile_2.ocean_surf_reflec.jpg'}, {'rel': 'http://esipfed.org/ns/fedsearch/1.1/browse#', 'type': 'image/jpeg', 'hreflang': 'en-US', 'href': 'https://n5eil01u.ecs.nsidc.org/DP0/BRWS/Browse.001/2019.10.09/ATL09_20181018074653_03010101_002_01_BRW.profile_3.apparent_surf_reflec.jpg'}, {'rel': 'http://esipfed.org/ns/fedsearch/1.1/browse#', 'type': 'image/jpeg', 'hreflang': 'en-US', 'href': 'https://n5eil01u.ecs.nsidc.org/DP0/BRWS/Browse.001/2019.10.09/ATL09_20181018074653_03010101_002_01_BRW.profile_3.cab_profile.jpg'}, {'rel': 'http://esipfed.org/ns/fedsearch/1.1/browse#', 'type': 'image/jpeg', 'hreflang': 'en-US', 'href': 'https://n5eil01u.ecs.nsidc.org/DP0/BRWS/Browse.001/2019.10.09/ATL09_20181018074653_03010101_002_01_BRW.profile_3.cloud_flag_asr_on_cab.jpg'}, {'rel': 'http://esipfed.org/ns/fedsearch/1.1/browse#', 'type': 'image/jpeg', 'hreflang': 'en-US', 'href': 'https://n5eil01u.ecs.nsidc.org/DP0/BRWS/Browse.001/2019.10.09/ATL09_20181018074653_03010101_002_01_BRW.profile_3.cloud_flag_asr_on_map.jpg'}, {'rel': 'http://esipfed.org/ns/fedsearch/1.1/browse#', 'type': 'image/jpeg', 'hreflang': 'en-US', 'href': 'https://n5eil01u.ecs.nsidc.org/DP0/BRWS/Browse.001/2019.10.09/ATL09_20181018074653_03010101_002_01_BRW.profile_3.cloud_flag_atm_on_map.jpg'}, {'rel': 'http://esipfed.org/ns/fedsearch/1.1/browse#', 'type': 'image/jpeg', 'hreflang': 'en-US', 'href': 'https://n5eil01u.ecs.nsidc.org/DP0/BRWS/Browse.001/2019.10.09/ATL09_20181018074653_03010101_002_01_BRW.profile_3.column_od_asr.jpg'}, {'rel': 'http://esipfed.org/ns/fedsearch/1.1/browse#', 'type': 'image/jpeg', 'hreflang': 'en-US', 'href': 'https://n5eil01u.ecs.nsidc.org/DP0/BRWS/Browse.001/2019.10.09/ATL09_20181018074653_03010101_002_01_BRW.profile_3.layer_flag_on_cab.jpg'}, {'rel': 'http://esipfed.org/ns/fedsearch/1.1/browse#', 'type': 'image/jpeg', 'hreflang': 'en-US', 'href': 'https://n5eil01u.ecs.nsidc.org/DP0/BRWS/Browse.001/2019.10.09/ATL09_20181018074653_03010101_002_01_BRW.profile_3.layer_flag_on_map.jpg'}, {'rel': 'http://esipfed.org/ns/fedsearch/1.1/browse#', 'type': 'image/jpeg', 'hreflang': 'en-US', 'href': 'https://n5eil01u.ecs.nsidc.org/DP0/BRWS/Browse.001/2019.10.09/ATL09_20181018074653_03010101_002_01_BRW.profile_3.layer_heights.jpg'}, {'rel': 'http://esipfed.org/ns/fedsearch/1.1/browse#', 'type': 'image/jpeg', 'hreflang': 'en-US', 'href': 'https://n5eil01u.ecs.nsidc.org/DP0/BRWS/Browse.001/2019.10.09/ATL09_20181018074653_03010101_002_01_BRW.profile_3.layer_heights_on_cab.jpg'}, {'rel': 'http://esipfed.org/ns/fedsearch/1.1/browse#', 'type': 'image/jpeg', 'hreflang': 'en-US', 'href': 'https://n5eil01u.ecs.nsidc.org/DP0/BRWS/Browse.001/2019.10.09/ATL09_20181018074653_03010101_002_01_BRW.profile_3.msw_flag_on_map.jpg'}, {'rel': 'http://esipfed.org/ns/fedsearch/1.1/browse#', 'type': 'image/jpeg', 'hreflang': 'en-US', 'href': 'https://n5eil01u.ecs.nsidc.org/DP0/BRWS/Browse.001/2019.10.09/ATL09_20181018074653_03010101_002_01_BRW.profile_3.ocean_surf_reflec.jpg'}, {'rel': 'http://esipfed.org/ns/fedsearch/1.1/metadata#', 'type': 'text/xml', 'hreflang': 'en-US', 'href': 'https://n5eil01u.ecs.nsidc.org/DP7/ATLAS/ATL09.002/2018.10.18/ATL09_20181018074653_03010101_002_01.iso.xml'}, {'inherited': True, 'length': '0.0KB', 'rel': 'http://esipfed.org/ns/fedsearch/1.1/data#', 'hreflang': 'en-US', 'href': 'https://n5eil01u.ecs.nsidc.org/ATLAS/ATL09.002/'}, {'inherited': True, 'length': '0.0KB', 'rel': 'http://esipfed.org/ns/fedsearch/1.1/data#', 'hreflang': 'en-US', 'href': 'https://search.earthdata.nasa.gov/search/granules?p=C1631076797-NSIDC_ECS&q=atl09&m=-87.46352300590473!-3.4486083984375004!1!1!0!0%2C2&tl=1555860221!4!!'}, {'inherited': True, 'rel': 'http://esipfed.org/ns/fedsearch/1.1/metadata#', 'hreflang': 'en-US', 'href': 'https://doi.org/10.5067/ATLAS/ATL09.002'}, {'inherited': True, 'rel': 'http://esipfed.org/ns/fedsearch/1.1/documentation#', 'hreflang': 'en-US', 'href': 'https://doi.org/10.5067/ATLAS/ATL09.002'}]}, {'producer_granule_id': 'ATL09_20181018092110_03020101_002_01.h5', 'time_start': '2018-10-18T09:22:05.000Z', 'orbit': {'ascending_crossing': '90.45447439006475', 'start_lat': '0', 'start_direction': 'A', 'end_lat': '0', 'end_direction': 'A'}, 'updated': '2019-12-18T06:31:11.342Z', 'orbit_calculated_spatial_domains': [{'equator_crossing_date_time': '2018-10-18T09:21:10.730Z', 'equator_crossing_longitude': '90.45447439006475', 'orbit_number': '503'}], 'dataset_id': 'ATLAS/ICESat-2 L3A Calibrated Backscatter Profiles and Atmospheric Layer Characteristics V002', 'data_center': 'NSIDC_ECS', 'title': 'SC:ATL09.002:166041204', 'coordinate_system': 'ORBIT', 'time_end': '2018-10-18T10:55:28.000Z', 'id': 'G1706541471-NSIDC_ECS', 'original_format': 'ISO-SMAP', 'granule_size': '2743.0097017288', 'browse_flag': True, 'polygons': [['3.492029117393801 89.94084249027524 22.56914481679688 87.96815386113693 41.641087718628896 85.72906798186787 60.69569160401806 82.57639910864253 79.63395706184464 73.30063647577678 80.79417033319615 -82.54214084395886 61.8820237454678 -93.1829732722818 42.82955795148168 -96.44856023803919 23.75817274767611 -98.71683955787735 4.681233221275559 -100.69824405464094 -14.397070034747607 -102.62098509245597 -33.47383064385664 -104.65346765596456 -52.54373710816168 -107.12049352121464 -71.58251132622586 -111.52872473398718 -88.01094423556984 140.24498992015816 -70.0690284452515 76.52427621236438 -51.02502731697561 72.44119987299725 -31.95419364826526 70.03238058501526 -12.877180095837604 68.01646947898548 0.0325040585621419 66.71627204403194 0.04380928577819535 67.04001182563157 -12.865583478065602 68.34854305609437 -31.940870389645756 70.41381902657696 -51.007056922969134 72.95532710457792 -70.03589080511061 77.46882228523387 -87.70824760681 143.3421023516033 -71.5467618422131 -112.54683686196566 -52.52515168149909 -107.65215962504374 -33.46027851802877 -105.04144708914403 -14.385398573554891 -102.9551990687377 4.692576376495471 -101.02306862537915 23.770525341570238 -99.07053031159946 42.84497512460685 -96.88981991655277 61.906021051657405 -93.86869987768159 80.86510707147464 -84.52552123140791 79.69697561264488 75.07193157300516 60.71879781203836 83.2367949238905 41.65621714789511 86.16211019081373 22.58138817640029 88.31872140335153 3.50335544013722 90.2651856324272 3.492029117393801 89.94084249027524']], 'collection_concept_id': 'C1631076797-NSIDC_ECS', 'online_access_flag': True, 'links': [{'rel': 'http://esipfed.org/ns/fedsearch/1.1/data#', 'type': 'application/x-hdfeos', 'hreflang': 'en-US', 'href': 'https://n5eil01u.ecs.nsidc.org/DP7/ATLAS/ATL09.002/2018.10.18/ATL09_20181018092110_03020101_002_01.h5'}, {'rel': 'http://esipfed.org/ns/fedsearch/1.1/browse#', 'type': 'image/jpeg', 'hreflang': 'en-US', 'href': 'https://n5eil01u.ecs.nsidc.org/DP0/BRWS/Browse.001/2019.10.09/ATL09_20181018092110_03020101_002_01_BRW.default.default1.jpg'}, {'rel': 'http://esipfed.org/ns/fedsearch/1.1/browse#', 'type': 'image/jpeg', 'hreflang': 'en-US', 'href': 'https://n5eil01u.ecs.nsidc.org/DP0/BRWS/Browse.001/2019.10.09/ATL09_20181018092110_03020101_002_01_BRW.default.default2.jpg'}, {'rel': 'http://esipfed.org/ns/fedsearch/1.1/browse#', 'type': 'image/jpeg', 'hreflang': 'en-US', 'href': 'https://n5eil01u.ecs.nsidc.org/DP0/BRWS/Browse.001/2019.10.09/ATL09_20181018092110_03020101_002_01_BRW.profile_1.apparent_surf_reflec.jpg'}, {'rel': 'http://esipfed.org/ns/fedsearch/1.1/browse#', 'type': 'image/jpeg', 'hreflang': 'en-US', 'href': 'https://n5eil01u.ecs.nsidc.org/DP0/BRWS/Browse.001/2019.10.09/ATL09_20181018092110_03020101_002_01_BRW.profile_1.cab_profile.jpg'}, {'rel': 'http://esipfed.org/ns/fedsearch/1.1/browse#', 'type': 'image/jpeg', 'hreflang': 'en-US', 'href': 'https://n5eil01u.ecs.nsidc.org/DP0/BRWS/Browse.001/2019.10.09/ATL09_20181018092110_03020101_002_01_BRW.profile_1.cloud_flag_asr_on_cab.jpg'}, {'rel': 'http://esipfed.org/ns/fedsearch/1.1/browse#', 'type': 'image/jpeg', 'hreflang': 'en-US', 'href': 'https://n5eil01u.ecs.nsidc.org/DP0/BRWS/Browse.001/2019.10.09/ATL09_20181018092110_03020101_002_01_BRW.profile_1.cloud_flag_asr_on_map.jpg'}, {'rel': 'http://esipfed.org/ns/fedsearch/1.1/browse#', 'type': 'image/jpeg', 'hreflang': 'en-US', 'href': 'https://n5eil01u.ecs.nsidc.org/DP0/BRWS/Browse.001/2019.10.09/ATL09_20181018092110_03020101_002_01_BRW.profile_1.cloud_flag_atm_on_map.jpg'}, {'rel': 'http://esipfed.org/ns/fedsearch/1.1/browse#', 'type': 'image/jpeg', 'hreflang': 'en-US', 'href': 'https://n5eil01u.ecs.nsidc.org/DP0/BRWS/Browse.001/2019.10.09/ATL09_20181018092110_03020101_002_01_BRW.profile_1.column_od_asr.jpg'}, {'rel': 'http://esipfed.org/ns/fedsearch/1.1/browse#', 'type': 'image/jpeg', 'hreflang': 'en-US', 'href': 'https://n5eil01u.ecs.nsidc.org/DP0/BRWS/Browse.001/2019.10.09/ATL09_20181018092110_03020101_002_01_BRW.profile_1.layer_flag_on_cab.jpg'}, {'rel': 'http://esipfed.org/ns/fedsearch/1.1/browse#', 'type': 'image/jpeg', 'hreflang': 'en-US', 'href': 'https://n5eil01u.ecs.nsidc.org/DP0/BRWS/Browse.001/2019.10.09/ATL09_20181018092110_03020101_002_01_BRW.profile_1.layer_flag_on_map.jpg'}, {'rel': 'http://esipfed.org/ns/fedsearch/1.1/browse#', 'type': 'image/jpeg', 'hreflang': 'en-US', 'href': 'https://n5eil01u.ecs.nsidc.org/DP0/BRWS/Browse.001/2019.10.09/ATL09_20181018092110_03020101_002_01_BRW.profile_1.layer_heights.jpg'}, {'rel': 'http://esipfed.org/ns/fedsearch/1.1/browse#', 'type': 'image/jpeg', 'hreflang': 'en-US', 'href': 'https://n5eil01u.ecs.nsidc.org/DP0/BRWS/Browse.001/2019.10.09/ATL09_20181018092110_03020101_002_01_BRW.profile_1.layer_heights_on_cab.jpg'}, {'rel': 'http://esipfed.org/ns/fedsearch/1.1/browse#', 'type': 'image/jpeg', 'hreflang': 'en-US', 'href': 'https://n5eil01u.ecs.nsidc.org/DP0/BRWS/Browse.001/2019.10.09/ATL09_20181018092110_03020101_002_01_BRW.profile_1.msw_flag_on_map.jpg'}, {'rel': 'http://esipfed.org/ns/fedsearch/1.1/browse#', 'type': 'image/jpeg', 'hreflang': 'en-US', 'href': 'https://n5eil01u.ecs.nsidc.org/DP0/BRWS/Browse.001/2019.10.09/ATL09_20181018092110_03020101_002_01_BRW.profile_1.ocean_surf_reflec.jpg'}, {'rel': 'http://esipfed.org/ns/fedsearch/1.1/browse#', 'type': 'image/jpeg', 'hreflang': 'en-US', 'href': 'https://n5eil01u.ecs.nsidc.org/DP0/BRWS/Browse.001/2019.10.09/ATL09_20181018092110_03020101_002_01_BRW.profile_2.apparent_surf_reflec.jpg'}, {'rel': 'http://esipfed.org/ns/fedsearch/1.1/browse#', 'type': 'image/jpeg', 'hreflang': 'en-US', 'href': 'https://n5eil01u.ecs.nsidc.org/DP0/BRWS/Browse.001/2019.10.09/ATL09_20181018092110_03020101_002_01_BRW.profile_2.cab_profile.jpg'}, {'rel': 'http://esipfed.org/ns/fedsearch/1.1/browse#', 'type': 'image/jpeg', 'hreflang': 'en-US', 'href': 'https://n5eil01u.ecs.nsidc.org/DP0/BRWS/Browse.001/2019.10.09/ATL09_20181018092110_03020101_002_01_BRW.profile_2.cloud_flag_asr_on_cab.jpg'}, {'rel': 'http://esipfed.org/ns/fedsearch/1.1/browse#', 'type': 'image/jpeg', 'hreflang': 'en-US', 'href': 'https://n5eil01u.ecs.nsidc.org/DP0/BRWS/Browse.001/2019.10.09/ATL09_20181018092110_03020101_002_01_BRW.profile_2.cloud_flag_asr_on_map.jpg'}, {'rel': 'http://esipfed.org/ns/fedsearch/1.1/browse#', 'type': 'image/jpeg', 'hreflang': 'en-US', 'href': 'https://n5eil01u.ecs.nsidc.org/DP0/BRWS/Browse.001/2019.10.09/ATL09_20181018092110_03020101_002_01_BRW.profile_2.cloud_flag_atm_on_map.jpg'}, {'rel': 'http://esipfed.org/ns/fedsearch/1.1/browse#', 'type': 'image/jpeg', 'hreflang': 'en-US', 'href': 'https://n5eil01u.ecs.nsidc.org/DP0/BRWS/Browse.001/2019.10.09/ATL09_20181018092110_03020101_002_01_BRW.profile_2.column_od_asr.jpg'}, {'rel': 'http://esipfed.org/ns/fedsearch/1.1/browse#', 'type': 'image/jpeg', 'hreflang': 'en-US', 'href': 'https://n5eil01u.ecs.nsidc.org/DP0/BRWS/Browse.001/2019.10.09/ATL09_20181018092110_03020101_002_01_BRW.profile_2.layer_flag_on_cab.jpg'}, {'rel': 'http://esipfed.org/ns/fedsearch/1.1/browse#', 'type': 'image/jpeg', 'hreflang': 'en-US', 'href': 'https://n5eil01u.ecs.nsidc.org/DP0/BRWS/Browse.001/2019.10.09/ATL09_20181018092110_03020101_002_01_BRW.profile_2.layer_flag_on_map.jpg'}, {'rel': 'http://esipfed.org/ns/fedsearch/1.1/browse#', 'type': 'image/jpeg', 'hreflang': 'en-US', 'href': 'https://n5eil01u.ecs.nsidc.org/DP0/BRWS/Browse.001/2019.10.09/ATL09_20181018092110_03020101_002_01_BRW.profile_2.layer_heights.jpg'}, {'rel': 'http://esipfed.org/ns/fedsearch/1.1/browse#', 'type': 'image/jpeg', 'hreflang': 'en-US', 'href': 'https://n5eil01u.ecs.nsidc.org/DP0/BRWS/Browse.001/2019.10.09/ATL09_20181018092110_03020101_002_01_BRW.profile_2.layer_heights_on_cab.jpg'}, {'rel': 'http://esipfed.org/ns/fedsearch/1.1/browse#', 'type': 'image/jpeg', 'hreflang': 'en-US', 'href': 'https://n5eil01u.ecs.nsidc.org/DP0/BRWS/Browse.001/2019.10.09/ATL09_20181018092110_03020101_002_01_BRW.profile_2.msw_flag_on_map.jpg'}, {'rel': 'http://esipfed.org/ns/fedsearch/1.1/browse#', 'type': 'image/jpeg', 'hreflang': 'en-US', 'href': 'https://n5eil01u.ecs.nsidc.org/DP0/BRWS/Browse.001/2019.10.09/ATL09_20181018092110_03020101_002_01_BRW.profile_2.ocean_surf_reflec.jpg'}, {'rel': 'http://esipfed.org/ns/fedsearch/1.1/browse#', 'type': 'image/jpeg', 'hreflang': 'en-US', 'href': 'https://n5eil01u.ecs.nsidc.org/DP0/BRWS/Browse.001/2019.10.09/ATL09_20181018092110_03020101_002_01_BRW.profile_3.apparent_surf_reflec.jpg'}, {'rel': 'http://esipfed.org/ns/fedsearch/1.1/browse#', 'type': 'image/jpeg', 'hreflang': 'en-US', 'href': 'https://n5eil01u.ecs.nsidc.org/DP0/BRWS/Browse.001/2019.10.09/ATL09_20181018092110_03020101_002_01_BRW.profile_3.cab_profile.jpg'}, {'rel': 'http://esipfed.org/ns/fedsearch/1.1/browse#', 'type': 'image/jpeg', 'hreflang': 'en-US', 'href': 'https://n5eil01u.ecs.nsidc.org/DP0/BRWS/Browse.001/2019.10.09/ATL09_20181018092110_03020101_002_01_BRW.profile_3.cloud_flag_asr_on_cab.jpg'}, {'rel': 'http://esipfed.org/ns/fedsearch/1.1/browse#', 'type': 'image/jpeg', 'hreflang': 'en-US', 'href': 'https://n5eil01u.ecs.nsidc.org/DP0/BRWS/Browse.001/2019.10.09/ATL09_20181018092110_03020101_002_01_BRW.profile_3.cloud_flag_asr_on_map.jpg'}, {'rel': 'http://esipfed.org/ns/fedsearch/1.1/browse#', 'type': 'image/jpeg', 'hreflang': 'en-US', 'href': 'https://n5eil01u.ecs.nsidc.org/DP0/BRWS/Browse.001/2019.10.09/ATL09_20181018092110_03020101_002_01_BRW.profile_3.cloud_flag_atm_on_map.jpg'}, {'rel': 'http://esipfed.org/ns/fedsearch/1.1/browse#', 'type': 'image/jpeg', 'hreflang': 'en-US', 'href': 'https://n5eil01u.ecs.nsidc.org/DP0/BRWS/Browse.001/2019.10.09/ATL09_20181018092110_03020101_002_01_BRW.profile_3.column_od_asr.jpg'}, {'rel': 'http://esipfed.org/ns/fedsearch/1.1/browse#', 'type': 'image/jpeg', 'hreflang': 'en-US', 'href': 'https://n5eil01u.ecs.nsidc.org/DP0/BRWS/Browse.001/2019.10.09/ATL09_20181018092110_03020101_002_01_BRW.profile_3.layer_flag_on_cab.jpg'}, {'rel': 'http://esipfed.org/ns/fedsearch/1.1/browse#', 'type': 'image/jpeg', 'hreflang': 'en-US', 'href': 'https://n5eil01u.ecs.nsidc.org/DP0/BRWS/Browse.001/2019.10.09/ATL09_20181018092110_03020101_002_01_BRW.profile_3.layer_flag_on_map.jpg'}, {'rel': 'http://esipfed.org/ns/fedsearch/1.1/browse#', 'type': 'image/jpeg', 'hreflang': 'en-US', 'href': 'https://n5eil01u.ecs.nsidc.org/DP0/BRWS/Browse.001/2019.10.09/ATL09_20181018092110_03020101_002_01_BRW.profile_3.layer_heights.jpg'}, {'rel': 'http://esipfed.org/ns/fedsearch/1.1/browse#', 'type': 'image/jpeg', 'hreflang': 'en-US', 'href': 'https://n5eil01u.ecs.nsidc.org/DP0/BRWS/Browse.001/2019.10.09/ATL09_20181018092110_03020101_002_01_BRW.profile_3.layer_heights_on_cab.jpg'}, {'rel': 'http://esipfed.org/ns/fedsearch/1.1/browse#', 'type': 'image/jpeg', 'hreflang': 'en-US', 'href': 'https://n5eil01u.ecs.nsidc.org/DP0/BRWS/Browse.001/2019.10.09/ATL09_20181018092110_03020101_002_01_BRW.profile_3.msw_flag_on_map.jpg'}, {'rel': 'http://esipfed.org/ns/fedsearch/1.1/browse#', 'type': 'image/jpeg', 'hreflang': 'en-US', 'href': 'https://n5eil01u.ecs.nsidc.org/DP0/BRWS/Browse.001/2019.10.09/ATL09_20181018092110_03020101_002_01_BRW.profile_3.ocean_surf_reflec.jpg'}, {'rel': 'http://esipfed.org/ns/fedsearch/1.1/metadata#', 'type': 'text/xml', 'hreflang': 'en-US', 'href': 'https://n5eil01u.ecs.nsidc.org/DP7/ATLAS/ATL09.002/2018.10.18/ATL09_20181018092110_03020101_002_01.iso.xml'}, {'inherited': True, 'length': '0.0KB', 'rel': 'http://esipfed.org/ns/fedsearch/1.1/data#', 'hreflang': 'en-US', 'href': 'https://n5eil01u.ecs.nsidc.org/ATLAS/ATL09.002/'}, {'inherited': True, 'length': '0.0KB', 'rel': 'http://esipfed.org/ns/fedsearch/1.1/data#', 'hreflang': 'en-US', 'href': 'https://search.earthdata.nasa.gov/search/granules?p=C1631076797-NSIDC_ECS&q=atl09&m=-87.46352300590473!-3.4486083984375004!1!1!0!0%2C2&tl=1555860221!4!!'}, {'inherited': True, 'rel': 'http://esipfed.org/ns/fedsearch/1.1/metadata#', 'hreflang': 'en-US', 'href': 'https://doi.org/10.5067/ATLAS/ATL09.002'}, {'inherited': True, 'rel': 'http://esipfed.org/ns/fedsearch/1.1/documentation#', 'hreflang': 'en-US', 'href': 'https://doi.org/10.5067/ATLAS/ATL09.002'}]}, {'producer_granule_id': 'ATL09_20181018105528_03030101_002_01.h5', 'time_start': '2018-10-18T10:55:28.000Z', 'orbit': {'ascending_crossing': '66.83393020204424', 'start_lat': '0', 'start_direction': 'A', 'end_lat': '0', 'end_direction': 'A'}, 'updated': '2019-12-18T06:31:11.510Z', 'orbit_calculated_spatial_domains': [{'equator_crossing_date_time': '2018-10-18T10:55:28.238Z', 'equator_crossing_longitude': '66.83393020204424', 'orbit_number': '504'}], 'dataset_id': 'ATLAS/ICESat-2 L3A Calibrated Backscatter Profiles and Atmospheric Layer Characteristics V002', 'data_center': 'NSIDC_ECS', 'title': 'SC:ATL09.002:166041397', 'coordinate_system': 'ORBIT', 'time_end': '2018-10-18T12:29:46.000Z', 'id': 'G1706541263-NSIDC_ECS', 'original_format': 'ISO-SMAP', 'granule_size': '4422.4469356537', 'browse_flag': True, 'polygons': [['-0.00565261235455362 66.67206034709558 19.071902141078052 64.72067301208509 38.145273816730395 62.5561779093274 57.205066144013514 59.67744833245599 76.1924296491052 52.97844346436375 84.13760392372362 -97.83620979271556 65.3693516469824 -115.90774978825668 46.32468382826406 -119.58520375379246 27.255194724795338 -121.95295574714658 8.17886095546597 -123.96476470632108 -10.899404505724597 -125.88630025176109 -29.97670680684987 -127.88310617511223 -49.04860713219981 -130.22485945337493 -68.09814833379474 -133.96307901292764 -86.70159564447627 -164.498633150604 -73.55000389447426 54.300145658157014 -54.519744606720806 49.36261005934194 -35.45120858798975 46.80966984750464 -16.37482121901807 44.752931117643875 -0.0056526123546185025 43.09956034709559 0.005652612354488738 43.42330005699291 -16.363038400632124 45.09032962803419 -35.43733169743005 47.206930009950426 -54.50027166626624 49.919575166991756 -73.51012826867472 55.43405978315872 -86.5106285511061 -168.92144309975956 -68.06786077457512 -134.82713661313005 -49.031361259468405 -130.71831839662931 -29.963656577207285 -128.25674074173563 -10.88789181859205 -126.21597348692498 8.190282513295823 -124.29183164902246 27.267912588890816 -122.31708937306274 46.341057117658906 -120.05376085151342 65.39649166892605 -116.68268391638244 84.24934925017939 -100.84206903986095 76.23987883068152 54.32340691004107 57.22594449552825 60.27444939981551 38.15965029200101 62.96771224348581 19.08386439053343 65.06320254526618 0.00565261235455362 66.99580005699292 -0.00565261235455362 66.67206034709558'], ['-0.0056526123546185025 43.09956034709559 0.0325040585621419 43.09572785601146 0.04380928577819535 43.41946763761107 0.005652612354488738 43.42330005699291 -0.0056526123546185025 43.09956034709559']], 'collection_concept_id': 'C1631076797-NSIDC_ECS', 'online_access_flag': True, 'links': [{'rel': 'http://esipfed.org/ns/fedsearch/1.1/data#', 'type': 'application/x-hdfeos', 'hreflang': 'en-US', 'href': 'https://n5eil01u.ecs.nsidc.org/DP7/ATLAS/ATL09.002/2018.10.18/ATL09_20181018105528_03030101_002_01.h5'}, {'rel': 'http://esipfed.org/ns/fedsearch/1.1/browse#', 'type': 'image/jpeg', 'hreflang': 'en-US', 'href': 'https://n5eil01u.ecs.nsidc.org/DP0/BRWS/Browse.001/2019.10.09/ATL09_20181018105528_03030101_002_01_BRW.default.default1.jpg'}, {'rel': 'http://esipfed.org/ns/fedsearch/1.1/browse#', 'type': 'image/jpeg', 'hreflang': 'en-US', 'href': 'https://n5eil01u.ecs.nsidc.org/DP0/BRWS/Browse.001/2019.10.09/ATL09_20181018105528_03030101_002_01_BRW.default.default2.jpg'}, {'rel': 'http://esipfed.org/ns/fedsearch/1.1/browse#', 'type': 'image/jpeg', 'hreflang': 'en-US', 'href': 'https://n5eil01u.ecs.nsidc.org/DP0/BRWS/Browse.001/2019.10.09/ATL09_20181018105528_03030101_002_01_BRW.profile_1.apparent_surf_reflec.jpg'}, {'rel': 'http://esipfed.org/ns/fedsearch/1.1/browse#', 'type': 'image/jpeg', 'hreflang': 'en-US', 'href': 'https://n5eil01u.ecs.nsidc.org/DP0/BRWS/Browse.001/2019.10.09/ATL09_20181018105528_03030101_002_01_BRW.profile_1.cab_profile.jpg'}, {'rel': 'http://esipfed.org/ns/fedsearch/1.1/browse#', 'type': 'image/jpeg', 'hreflang': 'en-US', 'href': 'https://n5eil01u.ecs.nsidc.org/DP0/BRWS/Browse.001/2019.10.09/ATL09_20181018105528_03030101_002_01_BRW.profile_1.cloud_flag_asr_on_cab.jpg'}, {'rel': 'http://esipfed.org/ns/fedsearch/1.1/browse#', 'type': 'image/jpeg', 'hreflang': 'en-US', 'href': 'https://n5eil01u.ecs.nsidc.org/DP0/BRWS/Browse.001/2019.10.09/ATL09_20181018105528_03030101_002_01_BRW.profile_1.cloud_flag_asr_on_map.jpg'}, {'rel': 'http://esipfed.org/ns/fedsearch/1.1/browse#', 'type': 'image/jpeg', 'hreflang': 'en-US', 'href': 'https://n5eil01u.ecs.nsidc.org/DP0/BRWS/Browse.001/2019.10.09/ATL09_20181018105528_03030101_002_01_BRW.profile_1.cloud_flag_atm_on_map.jpg'}, {'rel': 'http://esipfed.org/ns/fedsearch/1.1/browse#', 'type': 'image/jpeg', 'hreflang': 'en-US', 'href': 'https://n5eil01u.ecs.nsidc.org/DP0/BRWS/Browse.001/2019.10.09/ATL09_20181018105528_03030101_002_01_BRW.profile_1.column_od_asr.jpg'}, {'rel': 'http://esipfed.org/ns/fedsearch/1.1/browse#', 'type': 'image/jpeg', 'hreflang': 'en-US', 'href': 'https://n5eil01u.ecs.nsidc.org/DP0/BRWS/Browse.001/2019.10.09/ATL09_20181018105528_03030101_002_01_BRW.profile_1.layer_flag_on_cab.jpg'}, {'rel': 'http://esipfed.org/ns/fedsearch/1.1/browse#', 'type': 'image/jpeg', 'hreflang': 'en-US', 'href': 'https://n5eil01u.ecs.nsidc.org/DP0/BRWS/Browse.001/2019.10.09/ATL09_20181018105528_03030101_002_01_BRW.profile_1.layer_flag_on_map.jpg'}, {'rel': 'http://esipfed.org/ns/fedsearch/1.1/browse#', 'type': 'image/jpeg', 'hreflang': 'en-US', 'href': 'https://n5eil01u.ecs.nsidc.org/DP0/BRWS/Browse.001/2019.10.09/ATL09_20181018105528_03030101_002_01_BRW.profile_1.layer_heights.jpg'}, {'rel': 'http://esipfed.org/ns/fedsearch/1.1/browse#', 'type': 'image/jpeg', 'hreflang': 'en-US', 'href': 'https://n5eil01u.ecs.nsidc.org/DP0/BRWS/Browse.001/2019.10.09/ATL09_20181018105528_03030101_002_01_BRW.profile_1.layer_heights_on_cab.jpg'}, {'rel': 'http://esipfed.org/ns/fedsearch/1.1/browse#', 'type': 'image/jpeg', 'hreflang': 'en-US', 'href': 'https://n5eil01u.ecs.nsidc.org/DP0/BRWS/Browse.001/2019.10.09/ATL09_20181018105528_03030101_002_01_BRW.profile_1.msw_flag_on_map.jpg'}, {'rel': 'http://esipfed.org/ns/fedsearch/1.1/browse#', 'type': 'image/jpeg', 'hreflang': 'en-US', 'href': 'https://n5eil01u.ecs.nsidc.org/DP0/BRWS/Browse.001/2019.10.09/ATL09_20181018105528_03030101_002_01_BRW.profile_1.ocean_surf_reflec.jpg'}, {'rel': 'http://esipfed.org/ns/fedsearch/1.1/browse#', 'type': 'image/jpeg', 'hreflang': 'en-US', 'href': 'https://n5eil01u.ecs.nsidc.org/DP0/BRWS/Browse.001/2019.10.09/ATL09_20181018105528_03030101_002_01_BRW.profile_2.apparent_surf_reflec.jpg'}, {'rel': 'http://esipfed.org/ns/fedsearch/1.1/browse#', 'type': 'image/jpeg', 'hreflang': 'en-US', 'href': 'https://n5eil01u.ecs.nsidc.org/DP0/BRWS/Browse.001/2019.10.09/ATL09_20181018105528_03030101_002_01_BRW.profile_2.cab_profile.jpg'}, {'rel': 'http://esipfed.org/ns/fedsearch/1.1/browse#', 'type': 'image/jpeg', 'hreflang': 'en-US', 'href': 'https://n5eil01u.ecs.nsidc.org/DP0/BRWS/Browse.001/2019.10.09/ATL09_20181018105528_03030101_002_01_BRW.profile_2.cloud_flag_asr_on_cab.jpg'}, {'rel': 'http://esipfed.org/ns/fedsearch/1.1/browse#', 'type': 'image/jpeg', 'hreflang': 'en-US', 'href': 'https://n5eil01u.ecs.nsidc.org/DP0/BRWS/Browse.001/2019.10.09/ATL09_20181018105528_03030101_002_01_BRW.profile_2.cloud_flag_asr_on_map.jpg'}, {'rel': 'http://esipfed.org/ns/fedsearch/1.1/browse#', 'type': 'image/jpeg', 'hreflang': 'en-US', 'href': 'https://n5eil01u.ecs.nsidc.org/DP0/BRWS/Browse.001/2019.10.09/ATL09_20181018105528_03030101_002_01_BRW.profile_2.cloud_flag_atm_on_map.jpg'}, {'rel': 'http://esipfed.org/ns/fedsearch/1.1/browse#', 'type': 'image/jpeg', 'hreflang': 'en-US', 'href': 'https://n5eil01u.ecs.nsidc.org/DP0/BRWS/Browse.001/2019.10.09/ATL09_20181018105528_03030101_002_01_BRW.profile_2.column_od_asr.jpg'}, {'rel': 'http://esipfed.org/ns/fedsearch/1.1/browse#', 'type': 'image/jpeg', 'hreflang': 'en-US', 'href': 'https://n5eil01u.ecs.nsidc.org/DP0/BRWS/Browse.001/2019.10.09/ATL09_20181018105528_03030101_002_01_BRW.profile_2.layer_flag_on_cab.jpg'}, {'rel': 'http://esipfed.org/ns/fedsearch/1.1/browse#', 'type': 'image/jpeg', 'hreflang': 'en-US', 'href': 'https://n5eil01u.ecs.nsidc.org/DP0/BRWS/Browse.001/2019.10.09/ATL09_20181018105528_03030101_002_01_BRW.profile_2.layer_flag_on_map.jpg'}, {'rel': 'http://esipfed.org/ns/fedsearch/1.1/browse#', 'type': 'image/jpeg', 'hreflang': 'en-US', 'href': 'https://n5eil01u.ecs.nsidc.org/DP0/BRWS/Browse.001/2019.10.09/ATL09_20181018105528_03030101_002_01_BRW.profile_2.layer_heights.jpg'}, {'rel': 'http://esipfed.org/ns/fedsearch/1.1/browse#', 'type': 'image/jpeg', 'hreflang': 'en-US', 'href': 'https://n5eil01u.ecs.nsidc.org/DP0/BRWS/Browse.001/2019.10.09/ATL09_20181018105528_03030101_002_01_BRW.profile_2.layer_heights_on_cab.jpg'}, {'rel': 'http://esipfed.org/ns/fedsearch/1.1/browse#', 'type': 'image/jpeg', 'hreflang': 'en-US', 'href': 'https://n5eil01u.ecs.nsidc.org/DP0/BRWS/Browse.001/2019.10.09/ATL09_20181018105528_03030101_002_01_BRW.profile_2.msw_flag_on_map.jpg'}, {'rel': 'http://esipfed.org/ns/fedsearch/1.1/browse#', 'type': 'image/jpeg', 'hreflang': 'en-US', 'href': 'https://n5eil01u.ecs.nsidc.org/DP0/BRWS/Browse.001/2019.10.09/ATL09_20181018105528_03030101_002_01_BRW.profile_2.ocean_surf_reflec.jpg'}, {'rel': 'http://esipfed.org/ns/fedsearch/1.1/browse#', 'type': 'image/jpeg', 'hreflang': 'en-US', 'href': 'https://n5eil01u.ecs.nsidc.org/DP0/BRWS/Browse.001/2019.10.09/ATL09_20181018105528_03030101_002_01_BRW.profile_3.apparent_surf_reflec.jpg'}, {'rel': 'http://esipfed.org/ns/fedsearch/1.1/browse#', 'type': 'image/jpeg', 'hreflang': 'en-US', 'href': 'https://n5eil01u.ecs.nsidc.org/DP0/BRWS/Browse.001/2019.10.09/ATL09_20181018105528_03030101_002_01_BRW.profile_3.cab_profile.jpg'}, {'rel': 'http://esipfed.org/ns/fedsearch/1.1/browse#', 'type': 'image/jpeg', 'hreflang': 'en-US', 'href': 'https://n5eil01u.ecs.nsidc.org/DP0/BRWS/Browse.001/2019.10.09/ATL09_20181018105528_03030101_002_01_BRW.profile_3.cloud_flag_asr_on_cab.jpg'}, {'rel': 'http://esipfed.org/ns/fedsearch/1.1/browse#', 'type': 'image/jpeg', 'hreflang': 'en-US', 'href': 'https://n5eil01u.ecs.nsidc.org/DP0/BRWS/Browse.001/2019.10.09/ATL09_20181018105528_03030101_002_01_BRW.profile_3.cloud_flag_asr_on_map.jpg'}, {'rel': 'http://esipfed.org/ns/fedsearch/1.1/browse#', 'type': 'image/jpeg', 'hreflang': 'en-US', 'href': 'https://n5eil01u.ecs.nsidc.org/DP0/BRWS/Browse.001/2019.10.09/ATL09_20181018105528_03030101_002_01_BRW.profile_3.cloud_flag_atm_on_map.jpg'}, {'rel': 'http://esipfed.org/ns/fedsearch/1.1/browse#', 'type': 'image/jpeg', 'hreflang': 'en-US', 'href': 'https://n5eil01u.ecs.nsidc.org/DP0/BRWS/Browse.001/2019.10.09/ATL09_20181018105528_03030101_002_01_BRW.profile_3.column_od_asr.jpg'}, {'rel': 'http://esipfed.org/ns/fedsearch/1.1/browse#', 'type': 'image/jpeg', 'hreflang': 'en-US', 'href': 'https://n5eil01u.ecs.nsidc.org/DP0/BRWS/Browse.001/2019.10.09/ATL09_20181018105528_03030101_002_01_BRW.profile_3.layer_flag_on_cab.jpg'}, {'rel': 'http://esipfed.org/ns/fedsearch/1.1/browse#', 'type': 'image/jpeg', 'hreflang': 'en-US', 'href': 'https://n5eil01u.ecs.nsidc.org/DP0/BRWS/Browse.001/2019.10.09/ATL09_20181018105528_03030101_002_01_BRW.profile_3.layer_flag_on_map.jpg'}, {'rel': 'http://esipfed.org/ns/fedsearch/1.1/browse#', 'type': 'image/jpeg', 'hreflang': 'en-US', 'href': 'https://n5eil01u.ecs.nsidc.org/DP0/BRWS/Browse.001/2019.10.09/ATL09_20181018105528_03030101_002_01_BRW.profile_3.layer_heights.jpg'}, {'rel': 'http://esipfed.org/ns/fedsearch/1.1/browse#', 'type': 'image/jpeg', 'hreflang': 'en-US', 'href': 'https://n5eil01u.ecs.nsidc.org/DP0/BRWS/Browse.001/2019.10.09/ATL09_20181018105528_03030101_002_01_BRW.profile_3.layer_heights_on_cab.jpg'}, {'rel': 'http://esipfed.org/ns/fedsearch/1.1/browse#', 'type': 'image/jpeg', 'hreflang': 'en-US', 'href': 'https://n5eil01u.ecs.nsidc.org/DP0/BRWS/Browse.001/2019.10.09/ATL09_20181018105528_03030101_002_01_BRW.profile_3.msw_flag_on_map.jpg'}, {'rel': 'http://esipfed.org/ns/fedsearch/1.1/browse#', 'type': 'image/jpeg', 'hreflang': 'en-US', 'href': 'https://n5eil01u.ecs.nsidc.org/DP0/BRWS/Browse.001/2019.10.09/ATL09_20181018105528_03030101_002_01_BRW.profile_3.ocean_surf_reflec.jpg'}, {'rel': 'http://esipfed.org/ns/fedsearch/1.1/metadata#', 'type': 'text/xml', 'hreflang': 'en-US', 'href': 'https://n5eil01u.ecs.nsidc.org/DP7/ATLAS/ATL09.002/2018.10.18/ATL09_20181018105528_03030101_002_01.iso.xml'}, {'inherited': True, 'length': '0.0KB', 'rel': 'http://esipfed.org/ns/fedsearch/1.1/data#', 'hreflang': 'en-US', 'href': 'https://n5eil01u.ecs.nsidc.org/ATLAS/ATL09.002/'}, {'inherited': True, 'length': '0.0KB', 'rel': 'http://esipfed.org/ns/fedsearch/1.1/data#', 'hreflang': 'en-US', 'href': 'https://search.earthdata.nasa.gov/search/granules?p=C1631076797-NSIDC_ECS&q=atl09&m=-87.46352300590473!-3.4486083984375004!1!1!0!0%2C2&tl=1555860221!4!!'}, {'inherited': True, 'rel': 'http://esipfed.org/ns/fedsearch/1.1/metadata#', 'hreflang': 'en-US', 'href': 'https://doi.org/10.5067/ATLAS/ATL09.002'}, {'inherited': True, 'rel': 'http://esipfed.org/ns/fedsearch/1.1/documentation#', 'hreflang': 'en-US', 'href': 'https://doi.org/10.5067/ATLAS/ATL09.002'}]}, {'producer_granule_id': 'ATL09_20181018122945_03040101_002_01.h5', 'time_start': '2018-10-18T12:29:46.000Z', 'orbit': {'ascending_crossing': '43.21446009550329', 'start_lat': '0', 'start_direction': 'A', 'end_lat': '0', 'end_direction': 'A'}, 'updated': '2019-12-18T06:31:11.502Z', 'orbit_calculated_spatial_domains': [{'equator_crossing_date_time': '2018-10-18T12:29:45.728Z', 'equator_crossing_longitude': '43.21446009550329', 'orbit_number': '505'}], 'dataset_id': 'ATLAS/ICESat-2 L3A Calibrated Backscatter Profiles and Atmospheric Layer Characteristics V002', 'data_center': 'NSIDC_ECS', 'title': 'SC:ATL09.002:166041288', 'coordinate_system': 'ORBIT', 'time_end': '2018-10-18T14:04:03.000Z', 'id': 'G1706543742-NSIDC_ECS', 'original_format': 'ISO-SMAP', 'granule_size': '2339.5702104568', 'browse_flag': True, 'polygons': [['0.057941837770383794 43.04620271499612 19.135489609110305 41.09448312210424 38.20883784985154 38.92876749188942 57.26854821957185 36.04571205210014 76.25526268312738 29.312562176613962 84.07842035233796 -121.6875784389394 65.30597549049786 -139.54508020265925 46.26114162606862 -143.21376429113002 27.19161423704892 -145.57950510592391 8.115268210851323 -147.59069378438764 -10.962998738498452 -149.51220525448318 -30.040292429864152 -151.50958451688692 -49.112160691769134 -153.85335574349452 -68.16154223351249 -157.60151723424727 -86.75422812743926 171.25113560117762 -73.48678157208434 30.651061109575775 -54.456211673381866 25.732825494531813 -35.38762839486189 23.18284608243526 -16.311228202544413 21.12693757922412 0.0325040585621419 19.47625774947049 0.04380928577819535 19.79999753107011 -16.299449216850046 21.46422648630835 -35.37376244756542 23.57979354103884 -54.436768949888645 26.288929456805324 -73.4470540249682 31.780828707158378 -86.56034097743358 166.79757606627618 -68.13117119099505 -158.4679354410662 -49.09489274709803 -154.34744444013413 -30.027233835740763 -151.88345817393304 -10.951483584558067 -149.84194903911512 8.12668795270631 -147.9177087895286 27.204324840501627 -145.9434311674915 46.27749592132593 -143.68177921725407 65.33305013496643 -140.31816071442148 84.18903142022057 -124.66697132586079 76.30292531550062 30.66344270703692 57.28946257218784 36.64373824867148 38.22322687558885 39.340660381521786 19.14745645929776 41.43714421400168 0.06924706944323258 43.369942624066546 0.057941837770383794 43.04620271499612']], 'collection_concept_id': 'C1631076797-NSIDC_ECS', 'online_access_flag': True, 'links': [{'rel': 'http://esipfed.org/ns/fedsearch/1.1/data#', 'type': 'application/x-hdfeos', 'hreflang': 'en-US', 'href': 'https://n5eil01u.ecs.nsidc.org/DP7/ATLAS/ATL09.002/2018.10.18/ATL09_20181018122945_03040101_002_01.h5'}, {'rel': 'http://esipfed.org/ns/fedsearch/1.1/browse#', 'type': 'image/jpeg', 'hreflang': 'en-US', 'href': 'https://n5eil01u.ecs.nsidc.org/DP0/BRWS/Browse.001/2019.10.09/ATL09_20181018122945_03040101_002_01_BRW.default.default1.jpg'}, {'rel': 'http://esipfed.org/ns/fedsearch/1.1/browse#', 'type': 'image/jpeg', 'hreflang': 'en-US', 'href': 'https://n5eil01u.ecs.nsidc.org/DP0/BRWS/Browse.001/2019.10.09/ATL09_20181018122945_03040101_002_01_BRW.default.default2.jpg'}, {'rel': 'http://esipfed.org/ns/fedsearch/1.1/browse#', 'type': 'image/jpeg', 'hreflang': 'en-US', 'href': 'https://n5eil01u.ecs.nsidc.org/DP0/BRWS/Browse.001/2019.10.09/ATL09_20181018122945_03040101_002_01_BRW.profile_1.apparent_surf_reflec.jpg'}, {'rel': 'http://esipfed.org/ns/fedsearch/1.1/browse#', 'type': 'image/jpeg', 'hreflang': 'en-US', 'href': 'https://n5eil01u.ecs.nsidc.org/DP0/BRWS/Browse.001/2019.10.09/ATL09_20181018122945_03040101_002_01_BRW.profile_1.cab_profile.jpg'}, {'rel': 'http://esipfed.org/ns/fedsearch/1.1/browse#', 'type': 'image/jpeg', 'hreflang': 'en-US', 'href': 'https://n5eil01u.ecs.nsidc.org/DP0/BRWS/Browse.001/2019.10.09/ATL09_20181018122945_03040101_002_01_BRW.profile_1.cloud_flag_asr_on_cab.jpg'}, {'rel': 'http://esipfed.org/ns/fedsearch/1.1/browse#', 'type': 'image/jpeg', 'hreflang': 'en-US', 'href': 'https://n5eil01u.ecs.nsidc.org/DP0/BRWS/Browse.001/2019.10.09/ATL09_20181018122945_03040101_002_01_BRW.profile_1.cloud_flag_asr_on_map.jpg'}, {'rel': 'http://esipfed.org/ns/fedsearch/1.1/browse#', 'type': 'image/jpeg', 'hreflang': 'en-US', 'href': 'https://n5eil01u.ecs.nsidc.org/DP0/BRWS/Browse.001/2019.10.09/ATL09_20181018122945_03040101_002_01_BRW.profile_1.cloud_flag_atm_on_map.jpg'}, {'rel': 'http://esipfed.org/ns/fedsearch/1.1/browse#', 'type': 'image/jpeg', 'hreflang': 'en-US', 'href': 'https://n5eil01u.ecs.nsidc.org/DP0/BRWS/Browse.001/2019.10.09/ATL09_20181018122945_03040101_002_01_BRW.profile_1.column_od_asr.jpg'}, {'rel': 'http://esipfed.org/ns/fedsearch/1.1/browse#', 'type': 'image/jpeg', 'hreflang': 'en-US', 'href': 'https://n5eil01u.ecs.nsidc.org/DP0/BRWS/Browse.001/2019.10.09/ATL09_20181018122945_03040101_002_01_BRW.profile_1.layer_flag_on_cab.jpg'}, {'rel': 'http://esipfed.org/ns/fedsearch/1.1/browse#', 'type': 'image/jpeg', 'hreflang': 'en-US', 'href': 'https://n5eil01u.ecs.nsidc.org/DP0/BRWS/Browse.001/2019.10.09/ATL09_20181018122945_03040101_002_01_BRW.profile_1.layer_flag_on_map.jpg'}, {'rel': 'http://esipfed.org/ns/fedsearch/1.1/browse#', 'type': 'image/jpeg', 'hreflang': 'en-US', 'href': 'https://n5eil01u.ecs.nsidc.org/DP0/BRWS/Browse.001/2019.10.09/ATL09_20181018122945_03040101_002_01_BRW.profile_1.layer_heights.jpg'}, {'rel': 'http://esipfed.org/ns/fedsearch/1.1/browse#', 'type': 'image/jpeg', 'hreflang': 'en-US', 'href': 'https://n5eil01u.ecs.nsidc.org/DP0/BRWS/Browse.001/2019.10.09/ATL09_20181018122945_03040101_002_01_BRW.profile_1.layer_heights_on_cab.jpg'}, {'rel': 'http://esipfed.org/ns/fedsearch/1.1/browse#', 'type': 'image/jpeg', 'hreflang': 'en-US', 'href': 'https://n5eil01u.ecs.nsidc.org/DP0/BRWS/Browse.001/2019.10.09/ATL09_20181018122945_03040101_002_01_BRW.profile_1.msw_flag_on_map.jpg'}, {'rel': 'http://esipfed.org/ns/fedsearch/1.1/browse#', 'type': 'image/jpeg', 'hreflang': 'en-US', 'href': 'https://n5eil01u.ecs.nsidc.org/DP0/BRWS/Browse.001/2019.10.09/ATL09_20181018122945_03040101_002_01_BRW.profile_1.ocean_surf_reflec.jpg'}, {'rel': 'http://esipfed.org/ns/fedsearch/1.1/browse#', 'type': 'image/jpeg', 'hreflang': 'en-US', 'href': 'https://n5eil01u.ecs.nsidc.org/DP0/BRWS/Browse.001/2019.10.09/ATL09_20181018122945_03040101_002_01_BRW.profile_2.apparent_surf_reflec.jpg'}, {'rel': 'http://esipfed.org/ns/fedsearch/1.1/browse#', 'type': 'image/jpeg', 'hreflang': 'en-US', 'href': 'https://n5eil01u.ecs.nsidc.org/DP0/BRWS/Browse.001/2019.10.09/ATL09_20181018122945_03040101_002_01_BRW.profile_2.cab_profile.jpg'}, {'rel': 'http://esipfed.org/ns/fedsearch/1.1/browse#', 'type': 'image/jpeg', 'hreflang': 'en-US', 'href': 'https://n5eil01u.ecs.nsidc.org/DP0/BRWS/Browse.001/2019.10.09/ATL09_20181018122945_03040101_002_01_BRW.profile_2.cloud_flag_asr_on_cab.jpg'}, {'rel': 'http://esipfed.org/ns/fedsearch/1.1/browse#', 'type': 'image/jpeg', 'hreflang': 'en-US', 'href': 'https://n5eil01u.ecs.nsidc.org/DP0/BRWS/Browse.001/2019.10.09/ATL09_20181018122945_03040101_002_01_BRW.profile_2.cloud_flag_asr_on_map.jpg'}, {'rel': 'http://esipfed.org/ns/fedsearch/1.1/browse#', 'type': 'image/jpeg', 'hreflang': 'en-US', 'href': 'https://n5eil01u.ecs.nsidc.org/DP0/BRWS/Browse.001/2019.10.09/ATL09_20181018122945_03040101_002_01_BRW.profile_2.cloud_flag_atm_on_map.jpg'}, {'rel': 'http://esipfed.org/ns/fedsearch/1.1/browse#', 'type': 'image/jpeg', 'hreflang': 'en-US', 'href': 'https://n5eil01u.ecs.nsidc.org/DP0/BRWS/Browse.001/2019.10.09/ATL09_20181018122945_03040101_002_01_BRW.profile_2.column_od_asr.jpg'}, {'rel': 'http://esipfed.org/ns/fedsearch/1.1/browse#', 'type': 'image/jpeg', 'hreflang': 'en-US', 'href': 'https://n5eil01u.ecs.nsidc.org/DP0/BRWS/Browse.001/2019.10.09/ATL09_20181018122945_03040101_002_01_BRW.profile_2.layer_flag_on_cab.jpg'}, {'rel': 'http://esipfed.org/ns/fedsearch/1.1/browse#', 'type': 'image/jpeg', 'hreflang': 'en-US', 'href': 'https://n5eil01u.ecs.nsidc.org/DP0/BRWS/Browse.001/2019.10.09/ATL09_20181018122945_03040101_002_01_BRW.profile_2.layer_flag_on_map.jpg'}, {'rel': 'http://esipfed.org/ns/fedsearch/1.1/browse#', 'type': 'image/jpeg', 'hreflang': 'en-US', 'href': 'https://n5eil01u.ecs.nsidc.org/DP0/BRWS/Browse.001/2019.10.09/ATL09_20181018122945_03040101_002_01_BRW.profile_2.layer_heights.jpg'}, {'rel': 'http://esipfed.org/ns/fedsearch/1.1/browse#', 'type': 'image/jpeg', 'hreflang': 'en-US', 'href': 'https://n5eil01u.ecs.nsidc.org/DP0/BRWS/Browse.001/2019.10.09/ATL09_20181018122945_03040101_002_01_BRW.profile_2.layer_heights_on_cab.jpg'}, {'rel': 'http://esipfed.org/ns/fedsearch/1.1/browse#', 'type': 'image/jpeg', 'hreflang': 'en-US', 'href': 'https://n5eil01u.ecs.nsidc.org/DP0/BRWS/Browse.001/2019.10.09/ATL09_20181018122945_03040101_002_01_BRW.profile_2.msw_flag_on_map.jpg'}, {'rel': 'http://esipfed.org/ns/fedsearch/1.1/browse#', 'type': 'image/jpeg', 'hreflang': 'en-US', 'href': 'https://n5eil01u.ecs.nsidc.org/DP0/BRWS/Browse.001/2019.10.09/ATL09_20181018122945_03040101_002_01_BRW.profile_2.ocean_surf_reflec.jpg'}, {'rel': 'http://esipfed.org/ns/fedsearch/1.1/browse#', 'type': 'image/jpeg', 'hreflang': 'en-US', 'href': 'https://n5eil01u.ecs.nsidc.org/DP0/BRWS/Browse.001/2019.10.09/ATL09_20181018122945_03040101_002_01_BRW.profile_3.apparent_surf_reflec.jpg'}, {'rel': 'http://esipfed.org/ns/fedsearch/1.1/browse#', 'type': 'image/jpeg', 'hreflang': 'en-US', 'href': 'https://n5eil01u.ecs.nsidc.org/DP0/BRWS/Browse.001/2019.10.09/ATL09_20181018122945_03040101_002_01_BRW.profile_3.cab_profile.jpg'}, {'rel': 'http://esipfed.org/ns/fedsearch/1.1/browse#', 'type': 'image/jpeg', 'hreflang': 'en-US', 'href': 'https://n5eil01u.ecs.nsidc.org/DP0/BRWS/Browse.001/2019.10.09/ATL09_20181018122945_03040101_002_01_BRW.profile_3.cloud_flag_asr_on_cab.jpg'}, {'rel': 'http://esipfed.org/ns/fedsearch/1.1/browse#', 'type': 'image/jpeg', 'hreflang': 'en-US', 'href': 'https://n5eil01u.ecs.nsidc.org/DP0/BRWS/Browse.001/2019.10.09/ATL09_20181018122945_03040101_002_01_BRW.profile_3.cloud_flag_asr_on_map.jpg'}, {'rel': 'http://esipfed.org/ns/fedsearch/1.1/browse#', 'type': 'image/jpeg', 'hreflang': 'en-US', 'href': 'https://n5eil01u.ecs.nsidc.org/DP0/BRWS/Browse.001/2019.10.09/ATL09_20181018122945_03040101_002_01_BRW.profile_3.cloud_flag_atm_on_map.jpg'}, {'rel': 'http://esipfed.org/ns/fedsearch/1.1/browse#', 'type': 'image/jpeg', 'hreflang': 'en-US', 'href': 'https://n5eil01u.ecs.nsidc.org/DP0/BRWS/Browse.001/2019.10.09/ATL09_20181018122945_03040101_002_01_BRW.profile_3.column_od_asr.jpg'}, {'rel': 'http://esipfed.org/ns/fedsearch/1.1/browse#', 'type': 'image/jpeg', 'hreflang': 'en-US', 'href': 'https://n5eil01u.ecs.nsidc.org/DP0/BRWS/Browse.001/2019.10.09/ATL09_20181018122945_03040101_002_01_BRW.profile_3.layer_flag_on_cab.jpg'}, {'rel': 'http://esipfed.org/ns/fedsearch/1.1/browse#', 'type': 'image/jpeg', 'hreflang': 'en-US', 'href': 'https://n5eil01u.ecs.nsidc.org/DP0/BRWS/Browse.001/2019.10.09/ATL09_20181018122945_03040101_002_01_BRW.profile_3.layer_flag_on_map.jpg'}, {'rel': 'http://esipfed.org/ns/fedsearch/1.1/browse#', 'type': 'image/jpeg', 'hreflang': 'en-US', 'href': 'https://n5eil01u.ecs.nsidc.org/DP0/BRWS/Browse.001/2019.10.09/ATL09_20181018122945_03040101_002_01_BRW.profile_3.layer_heights.jpg'}, {'rel': 'http://esipfed.org/ns/fedsearch/1.1/browse#', 'type': 'image/jpeg', 'hreflang': 'en-US', 'href': 'https://n5eil01u.ecs.nsidc.org/DP0/BRWS/Browse.001/2019.10.09/ATL09_20181018122945_03040101_002_01_BRW.profile_3.layer_heights_on_cab.jpg'}, {'rel': 'http://esipfed.org/ns/fedsearch/1.1/browse#', 'type': 'image/jpeg', 'hreflang': 'en-US', 'href': 'https://n5eil01u.ecs.nsidc.org/DP0/BRWS/Browse.001/2019.10.09/ATL09_20181018122945_03040101_002_01_BRW.profile_3.msw_flag_on_map.jpg'}, {'rel': 'http://esipfed.org/ns/fedsearch/1.1/browse#', 'type': 'image/jpeg', 'hreflang': 'en-US', 'href': 'https://n5eil01u.ecs.nsidc.org/DP0/BRWS/Browse.001/2019.10.09/ATL09_20181018122945_03040101_002_01_BRW.profile_3.ocean_surf_reflec.jpg'}, {'rel': 'http://esipfed.org/ns/fedsearch/1.1/metadata#', 'type': 'text/xml', 'hreflang': 'en-US', 'href': 'https://n5eil01u.ecs.nsidc.org/DP7/ATLAS/ATL09.002/2018.10.18/ATL09_20181018122945_03040101_002_01.iso.xml'}, {'inherited': True, 'length': '0.0KB', 'rel': 'http://esipfed.org/ns/fedsearch/1.1/data#', 'hreflang': 'en-US', 'href': 'https://n5eil01u.ecs.nsidc.org/ATLAS/ATL09.002/'}, {'inherited': True, 'length': '0.0KB', 'rel': 'http://esipfed.org/ns/fedsearch/1.1/data#', 'hreflang': 'en-US', 'href': 'https://search.earthdata.nasa.gov/search/granules?p=C1631076797-NSIDC_ECS&q=atl09&m=-87.46352300590473!-3.4486083984375004!1!1!0!0%2C2&tl=1555860221!4!!'}, {'inherited': True, 'rel': 'http://esipfed.org/ns/fedsearch/1.1/metadata#', 'hreflang': 'en-US', 'href': 'https://doi.org/10.5067/ATLAS/ATL09.002'}, {'inherited': True, 'rel': 'http://esipfed.org/ns/fedsearch/1.1/documentation#', 'hreflang': 'en-US', 'href': 'https://doi.org/10.5067/ATLAS/ATL09.002'}]}, {'producer_granule_id': 'ATL09_20181018140403_03050101_002_01.h5', 'time_start': '2018-10-18T14:04:03.000Z', 'orbit': {'ascending_crossing': '19.595736631944945', 'start_lat': '0', 'start_direction': 'A', 'end_lat': '0', 'end_direction': 'A'}, 'updated': '2019-12-18T06:31:11.431Z', 'orbit_calculated_spatial_domains': [{'equator_crossing_date_time': '2018-10-18T14:04:03.144Z', 'equator_crossing_longitude': '19.595736631944945', 'orbit_number': '506'}], 'dataset_id': 'ATLAS/ICESat-2 L3A Calibrated Backscatter Profiles and Atmospheric Layer Characteristics V002', 'data_center': 'NSIDC_ECS', 'title': 'SC:ATL09.002:166041380', 'coordinate_system': 'ORBIT', 'time_end': '2018-10-18T15:38:20.000Z', 'id': 'G1706544170-NSIDC_ECS', 'original_format': 'ISO-SMAP', 'granule_size': '2326.6275367737', 'browse_flag': True, 'polygons': [['-0.00565261235455362 19.43386677699628 19.071902141078052 17.482479441985788 38.145273816730395 15.31798433922811 57.205066144013514 12.43925476235668 76.1924296491052 5.740249894264448 84.13760392372362 -145.07440336281488 65.3693516469824 -163.145943358356 46.32468382826406 -166.82339732389175 27.255194724795338 -169.19114931724587 8.17886095546597 -171.20295827642036 -10.899404505724597 -173.12449382186037 -29.97670680684987 -175.12129974521153 -49.04860713219981 -177.46305302347423 -68.09814833379474 178.79872741697307 -86.70159564447627 148.26317327929672 -73.55000389447426 7.061952088057715 -54.519744606720806 2.1244164892426425 -35.45120858798975 -0.42852372259466814 -16.37482121901807 -2.485262452455421 -0.031090394359856003 -4.136078268855183 -0.01978516853655056 -3.8123385270901684 -16.363038400632124 -2.1478639420650993 -35.43733169743005 -0.031263560148884956 -54.50027166626624 2.681381596892461 -73.51012826867472 8.195866213059416 -86.5106285511061 143.84036333014117 -68.06786077457512 177.93466981677065 -49.031361259468405 -177.9565119667286 -29.963656577207285 -175.49493431183495 -10.88789181859205 -173.45416705702428 8.190282513295823 -171.5300252191218 27.267912588890816 -169.55528294316204 46.341057117658906 -167.29195442161273 65.39649166892605 -163.92087748648174 84.24934925017939 -148.08026260996024 76.23987883068152 7.08521333994177 57.22594449552825 13.036255829716204 38.15965029200101 15.729518673386501 19.08386439053343 17.825008975166885 0.00565261235455362 19.75760648689361 -0.00565261235455362 19.43386677699628']], 'collection_concept_id': 'C1631076797-NSIDC_ECS', 'online_access_flag': True, 'links': [{'rel': 'http://esipfed.org/ns/fedsearch/1.1/data#', 'type': 'application/x-hdfeos', 'hreflang': 'en-US', 'href': 'https://n5eil01u.ecs.nsidc.org/DP7/ATLAS/ATL09.002/2018.10.18/ATL09_20181018140403_03050101_002_01.h5'}, {'rel': 'http://esipfed.org/ns/fedsearch/1.1/browse#', 'type': 'image/jpeg', 'hreflang': 'en-US', 'href': 'https://n5eil01u.ecs.nsidc.org/DP0/BRWS/Browse.001/2019.10.09/ATL09_20181018140403_03050101_002_01_BRW.default.default1.jpg'}, {'rel': 'http://esipfed.org/ns/fedsearch/1.1/browse#', 'type': 'image/jpeg', 'hreflang': 'en-US', 'href': 'https://n5eil01u.ecs.nsidc.org/DP0/BRWS/Browse.001/2019.10.09/ATL09_20181018140403_03050101_002_01_BRW.default.default2.jpg'}, {'rel': 'http://esipfed.org/ns/fedsearch/1.1/browse#', 'type': 'image/jpeg', 'hreflang': 'en-US', 'href': 'https://n5eil01u.ecs.nsidc.org/DP0/BRWS/Browse.001/2019.10.09/ATL09_20181018140403_03050101_002_01_BRW.profile_1.apparent_surf_reflec.jpg'}, {'rel': 'http://esipfed.org/ns/fedsearch/1.1/browse#', 'type': 'image/jpeg', 'hreflang': 'en-US', 'href': 'https://n5eil01u.ecs.nsidc.org/DP0/BRWS/Browse.001/2019.10.09/ATL09_20181018140403_03050101_002_01_BRW.profile_1.cab_profile.jpg'}, {'rel': 'http://esipfed.org/ns/fedsearch/1.1/browse#', 'type': 'image/jpeg', 'hreflang': 'en-US', 'href': 'https://n5eil01u.ecs.nsidc.org/DP0/BRWS/Browse.001/2019.10.09/ATL09_20181018140403_03050101_002_01_BRW.profile_1.cloud_flag_asr_on_cab.jpg'}, {'rel': 'http://esipfed.org/ns/fedsearch/1.1/browse#', 'type': 'image/jpeg', 'hreflang': 'en-US', 'href': 'https://n5eil01u.ecs.nsidc.org/DP0/BRWS/Browse.001/2019.10.09/ATL09_20181018140403_03050101_002_01_BRW.profile_1.cloud_flag_asr_on_map.jpg'}, {'rel': 'http://esipfed.org/ns/fedsearch/1.1/browse#', 'type': 'image/jpeg', 'hreflang': 'en-US', 'href': 'https://n5eil01u.ecs.nsidc.org/DP0/BRWS/Browse.001/2019.10.09/ATL09_20181018140403_03050101_002_01_BRW.profile_1.cloud_flag_atm_on_map.jpg'}, {'rel': 'http://esipfed.org/ns/fedsearch/1.1/browse#', 'type': 'image/jpeg', 'hreflang': 'en-US', 'href': 'https://n5eil01u.ecs.nsidc.org/DP0/BRWS/Browse.001/2019.10.09/ATL09_20181018140403_03050101_002_01_BRW.profile_1.column_od_asr.jpg'}, {'rel': 'http://esipfed.org/ns/fedsearch/1.1/browse#', 'type': 'image/jpeg', 'hreflang': 'en-US', 'href': 'https://n5eil01u.ecs.nsidc.org/DP0/BRWS/Browse.001/2019.10.09/ATL09_20181018140403_03050101_002_01_BRW.profile_1.layer_flag_on_cab.jpg'}, {'rel': 'http://esipfed.org/ns/fedsearch/1.1/browse#', 'type': 'image/jpeg', 'hreflang': 'en-US', 'href': 'https://n5eil01u.ecs.nsidc.org/DP0/BRWS/Browse.001/2019.10.09/ATL09_20181018140403_03050101_002_01_BRW.profile_1.layer_flag_on_map.jpg'}, {'rel': 'http://esipfed.org/ns/fedsearch/1.1/browse#', 'type': 'image/jpeg', 'hreflang': 'en-US', 'href': 'https://n5eil01u.ecs.nsidc.org/DP0/BRWS/Browse.001/2019.10.09/ATL09_20181018140403_03050101_002_01_BRW.profile_1.layer_heights.jpg'}, {'rel': 'http://esipfed.org/ns/fedsearch/1.1/browse#', 'type': 'image/jpeg', 'hreflang': 'en-US', 'href': 'https://n5eil01u.ecs.nsidc.org/DP0/BRWS/Browse.001/2019.10.09/ATL09_20181018140403_03050101_002_01_BRW.profile_1.layer_heights_on_cab.jpg'}, {'rel': 'http://esipfed.org/ns/fedsearch/1.1/browse#', 'type': 'image/jpeg', 'hreflang': 'en-US', 'href': 'https://n5eil01u.ecs.nsidc.org/DP0/BRWS/Browse.001/2019.10.09/ATL09_20181018140403_03050101_002_01_BRW.profile_1.msw_flag_on_map.jpg'}, {'rel': 'http://esipfed.org/ns/fedsearch/1.1/browse#', 'type': 'image/jpeg', 'hreflang': 'en-US', 'href': 'https://n5eil01u.ecs.nsidc.org/DP0/BRWS/Browse.001/2019.10.09/ATL09_20181018140403_03050101_002_01_BRW.profile_1.ocean_surf_reflec.jpg'}, {'rel': 'http://esipfed.org/ns/fedsearch/1.1/browse#', 'type': 'image/jpeg', 'hreflang': 'en-US', 'href': 'https://n5eil01u.ecs.nsidc.org/DP0/BRWS/Browse.001/2019.10.09/ATL09_20181018140403_03050101_002_01_BRW.profile_2.apparent_surf_reflec.jpg'}, {'rel': 'http://esipfed.org/ns/fedsearch/1.1/browse#', 'type': 'image/jpeg', 'hreflang': 'en-US', 'href': 'https://n5eil01u.ecs.nsidc.org/DP0/BRWS/Browse.001/2019.10.09/ATL09_20181018140403_03050101_002_01_BRW.profile_2.cab_profile.jpg'}, {'rel': 'http://esipfed.org/ns/fedsearch/1.1/browse#', 'type': 'image/jpeg', 'hreflang': 'en-US', 'href': 'https://n5eil01u.ecs.nsidc.org/DP0/BRWS/Browse.001/2019.10.09/ATL09_20181018140403_03050101_002_01_BRW.profile_2.cloud_flag_asr_on_cab.jpg'}, {'rel': 'http://esipfed.org/ns/fedsearch/1.1/browse#', 'type': 'image/jpeg', 'hreflang': 'en-US', 'href': 'https://n5eil01u.ecs.nsidc.org/DP0/BRWS/Browse.001/2019.10.09/ATL09_20181018140403_03050101_002_01_BRW.profile_2.cloud_flag_asr_on_map.jpg'}, {'rel': 'http://esipfed.org/ns/fedsearch/1.1/browse#', 'type': 'image/jpeg', 'hreflang': 'en-US', 'href': 'https://n5eil01u.ecs.nsidc.org/DP0/BRWS/Browse.001/2019.10.09/ATL09_20181018140403_03050101_002_01_BRW.profile_2.cloud_flag_atm_on_map.jpg'}, {'rel': 'http://esipfed.org/ns/fedsearch/1.1/browse#', 'type': 'image/jpeg', 'hreflang': 'en-US', 'href': 'https://n5eil01u.ecs.nsidc.org/DP0/BRWS/Browse.001/2019.10.09/ATL09_20181018140403_03050101_002_01_BRW.profile_2.column_od_asr.jpg'}, {'rel': 'http://esipfed.org/ns/fedsearch/1.1/browse#', 'type': 'image/jpeg', 'hreflang': 'en-US', 'href': 'https://n5eil01u.ecs.nsidc.org/DP0/BRWS/Browse.001/2019.10.09/ATL09_20181018140403_03050101_002_01_BRW.profile_2.layer_flag_on_cab.jpg'}, {'rel': 'http://esipfed.org/ns/fedsearch/1.1/browse#', 'type': 'image/jpeg', 'hreflang': 'en-US', 'href': 'https://n5eil01u.ecs.nsidc.org/DP0/BRWS/Browse.001/2019.10.09/ATL09_20181018140403_03050101_002_01_BRW.profile_2.layer_flag_on_map.jpg'}, {'rel': 'http://esipfed.org/ns/fedsearch/1.1/browse#', 'type': 'image/jpeg', 'hreflang': 'en-US', 'href': 'https://n5eil01u.ecs.nsidc.org/DP0/BRWS/Browse.001/2019.10.09/ATL09_20181018140403_03050101_002_01_BRW.profile_2.layer_heights.jpg'}, {'rel': 'http://esipfed.org/ns/fedsearch/1.1/browse#', 'type': 'image/jpeg', 'hreflang': 'en-US', 'href': 'https://n5eil01u.ecs.nsidc.org/DP0/BRWS/Browse.001/2019.10.09/ATL09_20181018140403_03050101_002_01_BRW.profile_2.layer_heights_on_cab.jpg'}, {'rel': 'http://esipfed.org/ns/fedsearch/1.1/browse#', 'type': 'image/jpeg', 'hreflang': 'en-US', 'href': 'https://n5eil01u.ecs.nsidc.org/DP0/BRWS/Browse.001/2019.10.09/ATL09_20181018140403_03050101_002_01_BRW.profile_2.msw_flag_on_map.jpg'}, {'rel': 'http://esipfed.org/ns/fedsearch/1.1/browse#', 'type': 'image/jpeg', 'hreflang': 'en-US', 'href': 'https://n5eil01u.ecs.nsidc.org/DP0/BRWS/Browse.001/2019.10.09/ATL09_20181018140403_03050101_002_01_BRW.profile_2.ocean_surf_reflec.jpg'}, {'rel': 'http://esipfed.org/ns/fedsearch/1.1/browse#', 'type': 'image/jpeg', 'hreflang': 'en-US', 'href': 'https://n5eil01u.ecs.nsidc.org/DP0/BRWS/Browse.001/2019.10.09/ATL09_20181018140403_03050101_002_01_BRW.profile_3.apparent_surf_reflec.jpg'}, {'rel': 'http://esipfed.org/ns/fedsearch/1.1/browse#', 'type': 'image/jpeg', 'hreflang': 'en-US', 'href': 'https://n5eil01u.ecs.nsidc.org/DP0/BRWS/Browse.001/2019.10.09/ATL09_20181018140403_03050101_002_01_BRW.profile_3.cab_profile.jpg'}, {'rel': 'http://esipfed.org/ns/fedsearch/1.1/browse#', 'type': 'image/jpeg', 'hreflang': 'en-US', 'href': 'https://n5eil01u.ecs.nsidc.org/DP0/BRWS/Browse.001/2019.10.09/ATL09_20181018140403_03050101_002_01_BRW.profile_3.cloud_flag_asr_on_cab.jpg'}, {'rel': 'http://esipfed.org/ns/fedsearch/1.1/browse#', 'type': 'image/jpeg', 'hreflang': 'en-US', 'href': 'https://n5eil01u.ecs.nsidc.org/DP0/BRWS/Browse.001/2019.10.09/ATL09_20181018140403_03050101_002_01_BRW.profile_3.cloud_flag_asr_on_map.jpg'}, {'rel': 'http://esipfed.org/ns/fedsearch/1.1/browse#', 'type': 'image/jpeg', 'hreflang': 'en-US', 'href': 'https://n5eil01u.ecs.nsidc.org/DP0/BRWS/Browse.001/2019.10.09/ATL09_20181018140403_03050101_002_01_BRW.profile_3.cloud_flag_atm_on_map.jpg'}, {'rel': 'http://esipfed.org/ns/fedsearch/1.1/browse#', 'type': 'image/jpeg', 'hreflang': 'en-US', 'href': 'https://n5eil01u.ecs.nsidc.org/DP0/BRWS/Browse.001/2019.10.09/ATL09_20181018140403_03050101_002_01_BRW.profile_3.column_od_asr.jpg'}, {'rel': 'http://esipfed.org/ns/fedsearch/1.1/browse#', 'type': 'image/jpeg', 'hreflang': 'en-US', 'href': 'https://n5eil01u.ecs.nsidc.org/DP0/BRWS/Browse.001/2019.10.09/ATL09_20181018140403_03050101_002_01_BRW.profile_3.layer_flag_on_cab.jpg'}, {'rel': 'http://esipfed.org/ns/fedsearch/1.1/browse#', 'type': 'image/jpeg', 'hreflang': 'en-US', 'href': 'https://n5eil01u.ecs.nsidc.org/DP0/BRWS/Browse.001/2019.10.09/ATL09_20181018140403_03050101_002_01_BRW.profile_3.layer_flag_on_map.jpg'}, {'rel': 'http://esipfed.org/ns/fedsearch/1.1/browse#', 'type': 'image/jpeg', 'hreflang': 'en-US', 'href': 'https://n5eil01u.ecs.nsidc.org/DP0/BRWS/Browse.001/2019.10.09/ATL09_20181018140403_03050101_002_01_BRW.profile_3.layer_heights.jpg'}, {'rel': 'http://esipfed.org/ns/fedsearch/1.1/browse#', 'type': 'image/jpeg', 'hreflang': 'en-US', 'href': 'https://n5eil01u.ecs.nsidc.org/DP0/BRWS/Browse.001/2019.10.09/ATL09_20181018140403_03050101_002_01_BRW.profile_3.layer_heights_on_cab.jpg'}, {'rel': 'http://esipfed.org/ns/fedsearch/1.1/browse#', 'type': 'image/jpeg', 'hreflang': 'en-US', 'href': 'https://n5eil01u.ecs.nsidc.org/DP0/BRWS/Browse.001/2019.10.09/ATL09_20181018140403_03050101_002_01_BRW.profile_3.msw_flag_on_map.jpg'}, {'rel': 'http://esipfed.org/ns/fedsearch/1.1/browse#', 'type': 'image/jpeg', 'hreflang': 'en-US', 'href': 'https://n5eil01u.ecs.nsidc.org/DP0/BRWS/Browse.001/2019.10.09/ATL09_20181018140403_03050101_002_01_BRW.profile_3.ocean_surf_reflec.jpg'}, {'rel': 'http://esipfed.org/ns/fedsearch/1.1/metadata#', 'type': 'text/xml', 'hreflang': 'en-US', 'href': 'https://n5eil01u.ecs.nsidc.org/DP7/ATLAS/ATL09.002/2018.10.18/ATL09_20181018140403_03050101_002_01.iso.xml'}, {'inherited': True, 'length': '0.0KB', 'rel': 'http://esipfed.org/ns/fedsearch/1.1/data#', 'hreflang': 'en-US', 'href': 'https://n5eil01u.ecs.nsidc.org/ATLAS/ATL09.002/'}, {'inherited': True, 'length': '0.0KB', 'rel': 'http://esipfed.org/ns/fedsearch/1.1/data#', 'hreflang': 'en-US', 'href': 'https://search.earthdata.nasa.gov/search/granules?p=C1631076797-NSIDC_ECS&q=atl09&m=-87.46352300590473!-3.4486083984375004!1!1!0!0%2C2&tl=1555860221!4!!'}, {'inherited': True, 'rel': 'http://esipfed.org/ns/fedsearch/1.1/metadata#', 'hreflang': 'en-US', 'href': 'https://doi.org/10.5067/ATLAS/ATL09.002'}, {'inherited': True, 'rel': 'http://esipfed.org/ns/fedsearch/1.1/documentation#', 'hreflang': 'en-US', 'href': 'https://doi.org/10.5067/ATLAS/ATL09.002'}]}, {'producer_granule_id': 'ATL09_20181018153820_03060101_002_01.h5', 'time_start': '2018-10-18T15:38:20.000Z', 'orbit': {'ascending_crossing': '-4.022133057263768', 'start_lat': '0', 'start_direction': 'A', 'end_lat': '0', 'end_direction': 'A'}, 'updated': '2019-12-18T06:31:11.488Z', 'orbit_calculated_spatial_domains': [{'equator_crossing_date_time': '2018-10-18T15:38:20.518Z', 'equator_crossing_longitude': '-4.022133057263768', 'orbit_number': '507'}], 'dataset_id': 'ATLAS/ICESat-2 L3A Calibrated Backscatter Profiles and Atmospheric Layer Characteristics V002', 'data_center': 'NSIDC_ECS', 'title': 'SC:ATL09.002:166041362', 'coordinate_system': 'ORBIT', 'time_end': '2018-10-18T17:12:38.000Z', 'id': 'G1706546024-NSIDC_ECS', 'original_format': 'ISO-SMAP', 'granule_size': '2335.5528154373', 'browse_flag': True, 'polygons': [['-0.00565261235455362 -4.184002912212437 19.071902141078052 -6.1353902472229285 38.145273816730395 -8.299885349980604 57.205066144013514 -11.178614926852028 76.1924296491052 -17.877619794944266 84.13760392372362 -168.69227305202358 65.3693516469824 173.2361869524353 46.32468382826406 169.55873298689954 27.255194724795338 167.19098099354542 8.17886095546597 165.1791720343709 -10.899404505724597 163.25763648893093 -29.97670680684987 161.26083056557974 -49.04860713219981 158.91907728731704 -68.09814833379474 155.18085772776436 -86.70159564447627 124.64530359008799 -73.55000389447426 -16.555917601150995 -54.519744606720806 -21.49345319996607 -35.45120858798975 -24.046393411803386 -16.37482121901807 -26.10313214166414 -0.0056526123546185025 -27.756502912212436 0.005652612354488738 -27.4327632023151 -16.363038400632124 -25.76573363127382 -35.43733169743005 -23.649133249357597 -54.50027166626624 -20.936488092316257 -73.51012826867472 -15.422003476149294 -86.5106285511061 120.22249364093244 -68.06786077457512 154.31680012756195 -49.031361259468405 158.42561834406268 -29.963656577207285 160.88719599895634 -10.88789181859205 162.927963253767 8.190282513295823 164.85210509166953 27.267912588890816 166.82684736762926 46.341057117658906 169.0901758891786 65.39649166892605 172.46125282430955 84.24934925017939 -171.69813229916898 76.23987883068152 -16.53265634926694 57.22594449552825 -10.581613859492506 38.15965029200101 -7.888351015822206 19.08386439053343 -5.7928607140418364 0.00565261235455362 -3.8602632023151013 -0.00565261235455362 -4.184002912212437'], ['-0.0056526123546185025 -27.756502912212436 0.0325040585621419 -27.760335403296565 0.04380928577819535 -27.436595621696945 0.005652612354488738 -27.4327632023151 -0.0056526123546185025 -27.756502912212436']], 'collection_concept_id': 'C1631076797-NSIDC_ECS', 'online_access_flag': True, 'links': [{'rel': 'http://esipfed.org/ns/fedsearch/1.1/data#', 'type': 'application/x-hdfeos', 'hreflang': 'en-US', 'href': 'https://n5eil01u.ecs.nsidc.org/DP7/ATLAS/ATL09.002/2018.10.18/ATL09_20181018153820_03060101_002_01.h5'}, {'rel': 'http://esipfed.org/ns/fedsearch/1.1/browse#', 'type': 'image/jpeg', 'hreflang': 'en-US', 'href': 'https://n5eil01u.ecs.nsidc.org/DP0/BRWS/Browse.001/2019.10.09/ATL09_20181018153820_03060101_002_01_BRW.default.default1.jpg'}, {'rel': 'http://esipfed.org/ns/fedsearch/1.1/browse#', 'type': 'image/jpeg', 'hreflang': 'en-US', 'href': 'https://n5eil01u.ecs.nsidc.org/DP0/BRWS/Browse.001/2019.10.09/ATL09_20181018153820_03060101_002_01_BRW.default.default2.jpg'}, {'rel': 'http://esipfed.org/ns/fedsearch/1.1/browse#', 'type': 'image/jpeg', 'hreflang': 'en-US', 'href': 'https://n5eil01u.ecs.nsidc.org/DP0/BRWS/Browse.001/2019.10.09/ATL09_20181018153820_03060101_002_01_BRW.profile_1.apparent_surf_reflec.jpg'}, {'rel': 'http://esipfed.org/ns/fedsearch/1.1/browse#', 'type': 'image/jpeg', 'hreflang': 'en-US', 'href': 'https://n5eil01u.ecs.nsidc.org/DP0/BRWS/Browse.001/2019.10.09/ATL09_20181018153820_03060101_002_01_BRW.profile_1.cab_profile.jpg'}, {'rel': 'http://esipfed.org/ns/fedsearch/1.1/browse#', 'type': 'image/jpeg', 'hreflang': 'en-US', 'href': 'https://n5eil01u.ecs.nsidc.org/DP0/BRWS/Browse.001/2019.10.09/ATL09_20181018153820_03060101_002_01_BRW.profile_1.cloud_flag_asr_on_cab.jpg'}, {'rel': 'http://esipfed.org/ns/fedsearch/1.1/browse#', 'type': 'image/jpeg', 'hreflang': 'en-US', 'href': 'https://n5eil01u.ecs.nsidc.org/DP0/BRWS/Browse.001/2019.10.09/ATL09_20181018153820_03060101_002_01_BRW.profile_1.cloud_flag_asr_on_map.jpg'}, {'rel': 'http://esipfed.org/ns/fedsearch/1.1/browse#', 'type': 'image/jpeg', 'hreflang': 'en-US', 'href': 'https://n5eil01u.ecs.nsidc.org/DP0/BRWS/Browse.001/2019.10.09/ATL09_20181018153820_03060101_002_01_BRW.profile_1.cloud_flag_atm_on_map.jpg'}, {'rel': 'http://esipfed.org/ns/fedsearch/1.1/browse#', 'type': 'image/jpeg', 'hreflang': 'en-US', 'href': 'https://n5eil01u.ecs.nsidc.org/DP0/BRWS/Browse.001/2019.10.09/ATL09_20181018153820_03060101_002_01_BRW.profile_1.column_od_asr.jpg'}, {'rel': 'http://esipfed.org/ns/fedsearch/1.1/browse#', 'type': 'image/jpeg', 'hreflang': 'en-US', 'href': 'https://n5eil01u.ecs.nsidc.org/DP0/BRWS/Browse.001/2019.10.09/ATL09_20181018153820_03060101_002_01_BRW.profile_1.layer_flag_on_cab.jpg'}, {'rel': 'http://esipfed.org/ns/fedsearch/1.1/browse#', 'type': 'image/jpeg', 'hreflang': 'en-US', 'href': 'https://n5eil01u.ecs.nsidc.org/DP0/BRWS/Browse.001/2019.10.09/ATL09_20181018153820_03060101_002_01_BRW.profile_1.layer_flag_on_map.jpg'}, {'rel': 'http://esipfed.org/ns/fedsearch/1.1/browse#', 'type': 'image/jpeg', 'hreflang': 'en-US', 'href': 'https://n5eil01u.ecs.nsidc.org/DP0/BRWS/Browse.001/2019.10.09/ATL09_20181018153820_03060101_002_01_BRW.profile_1.layer_heights.jpg'}, {'rel': 'http://esipfed.org/ns/fedsearch/1.1/browse#', 'type': 'image/jpeg', 'hreflang': 'en-US', 'href': 'https://n5eil01u.ecs.nsidc.org/DP0/BRWS/Browse.001/2019.10.09/ATL09_20181018153820_03060101_002_01_BRW.profile_1.layer_heights_on_cab.jpg'}, {'rel': 'http://esipfed.org/ns/fedsearch/1.1/browse#', 'type': 'image/jpeg', 'hreflang': 'en-US', 'href': 'https://n5eil01u.ecs.nsidc.org/DP0/BRWS/Browse.001/2019.10.09/ATL09_20181018153820_03060101_002_01_BRW.profile_1.msw_flag_on_map.jpg'}, {'rel': 'http://esipfed.org/ns/fedsearch/1.1/browse#', 'type': 'image/jpeg', 'hreflang': 'en-US', 'href': 'https://n5eil01u.ecs.nsidc.org/DP0/BRWS/Browse.001/2019.10.09/ATL09_20181018153820_03060101_002_01_BRW.profile_1.ocean_surf_reflec.jpg'}, {'rel': 'http://esipfed.org/ns/fedsearch/1.1/browse#', 'type': 'image/jpeg', 'hreflang': 'en-US', 'href': 'https://n5eil01u.ecs.nsidc.org/DP0/BRWS/Browse.001/2019.10.09/ATL09_20181018153820_03060101_002_01_BRW.profile_2.apparent_surf_reflec.jpg'}, {'rel': 'http://esipfed.org/ns/fedsearch/1.1/browse#', 'type': 'image/jpeg', 'hreflang': 'en-US', 'href': 'https://n5eil01u.ecs.nsidc.org/DP0/BRWS/Browse.001/2019.10.09/ATL09_20181018153820_03060101_002_01_BRW.profile_2.cab_profile.jpg'}, {'rel': 'http://esipfed.org/ns/fedsearch/1.1/browse#', 'type': 'image/jpeg', 'hreflang': 'en-US', 'href': 'https://n5eil01u.ecs.nsidc.org/DP0/BRWS/Browse.001/2019.10.09/ATL09_20181018153820_03060101_002_01_BRW.profile_2.cloud_flag_asr_on_cab.jpg'}, {'rel': 'http://esipfed.org/ns/fedsearch/1.1/browse#', 'type': 'image/jpeg', 'hreflang': 'en-US', 'href': 'https://n5eil01u.ecs.nsidc.org/DP0/BRWS/Browse.001/2019.10.09/ATL09_20181018153820_03060101_002_01_BRW.profile_2.cloud_flag_asr_on_map.jpg'}, {'rel': 'http://esipfed.org/ns/fedsearch/1.1/browse#', 'type': 'image/jpeg', 'hreflang': 'en-US', 'href': 'https://n5eil01u.ecs.nsidc.org/DP0/BRWS/Browse.001/2019.10.09/ATL09_20181018153820_03060101_002_01_BRW.profile_2.cloud_flag_atm_on_map.jpg'}, {'rel': 'http://esipfed.org/ns/fedsearch/1.1/browse#', 'type': 'image/jpeg', 'hreflang': 'en-US', 'href': 'https://n5eil01u.ecs.nsidc.org/DP0/BRWS/Browse.001/2019.10.09/ATL09_20181018153820_03060101_002_01_BRW.profile_2.column_od_asr.jpg'}, {'rel': 'http://esipfed.org/ns/fedsearch/1.1/browse#', 'type': 'image/jpeg', 'hreflang': 'en-US', 'href': 'https://n5eil01u.ecs.nsidc.org/DP0/BRWS/Browse.001/2019.10.09/ATL09_20181018153820_03060101_002_01_BRW.profile_2.layer_flag_on_cab.jpg'}, {'rel': 'http://esipfed.org/ns/fedsearch/1.1/browse#', 'type': 'image/jpeg', 'hreflang': 'en-US', 'href': 'https://n5eil01u.ecs.nsidc.org/DP0/BRWS/Browse.001/2019.10.09/ATL09_20181018153820_03060101_002_01_BRW.profile_2.layer_flag_on_map.jpg'}, {'rel': 'http://esipfed.org/ns/fedsearch/1.1/browse#', 'type': 'image/jpeg', 'hreflang': 'en-US', 'href': 'https://n5eil01u.ecs.nsidc.org/DP0/BRWS/Browse.001/2019.10.09/ATL09_20181018153820_03060101_002_01_BRW.profile_2.layer_heights.jpg'}, {'rel': 'http://esipfed.org/ns/fedsearch/1.1/browse#', 'type': 'image/jpeg', 'hreflang': 'en-US', 'href': 'https://n5eil01u.ecs.nsidc.org/DP0/BRWS/Browse.001/2019.10.09/ATL09_20181018153820_03060101_002_01_BRW.profile_2.layer_heights_on_cab.jpg'}, {'rel': 'http://esipfed.org/ns/fedsearch/1.1/browse#', 'type': 'image/jpeg', 'hreflang': 'en-US', 'href': 'https://n5eil01u.ecs.nsidc.org/DP0/BRWS/Browse.001/2019.10.09/ATL09_20181018153820_03060101_002_01_BRW.profile_2.msw_flag_on_map.jpg'}, {'rel': 'http://esipfed.org/ns/fedsearch/1.1/browse#', 'type': 'image/jpeg', 'hreflang': 'en-US', 'href': 'https://n5eil01u.ecs.nsidc.org/DP0/BRWS/Browse.001/2019.10.09/ATL09_20181018153820_03060101_002_01_BRW.profile_2.ocean_surf_reflec.jpg'}, {'rel': 'http://esipfed.org/ns/fedsearch/1.1/browse#', 'type': 'image/jpeg', 'hreflang': 'en-US', 'href': 'https://n5eil01u.ecs.nsidc.org/DP0/BRWS/Browse.001/2019.10.09/ATL09_20181018153820_03060101_002_01_BRW.profile_3.apparent_surf_reflec.jpg'}, {'rel': 'http://esipfed.org/ns/fedsearch/1.1/browse#', 'type': 'image/jpeg', 'hreflang': 'en-US', 'href': 'https://n5eil01u.ecs.nsidc.org/DP0/BRWS/Browse.001/2019.10.09/ATL09_20181018153820_03060101_002_01_BRW.profile_3.cab_profile.jpg'}, {'rel': 'http://esipfed.org/ns/fedsearch/1.1/browse#', 'type': 'image/jpeg', 'hreflang': 'en-US', 'href': 'https://n5eil01u.ecs.nsidc.org/DP0/BRWS/Browse.001/2019.10.09/ATL09_20181018153820_03060101_002_01_BRW.profile_3.cloud_flag_asr_on_cab.jpg'}, {'rel': 'http://esipfed.org/ns/fedsearch/1.1/browse#', 'type': 'image/jpeg', 'hreflang': 'en-US', 'href': 'https://n5eil01u.ecs.nsidc.org/DP0/BRWS/Browse.001/2019.10.09/ATL09_20181018153820_03060101_002_01_BRW.profile_3.cloud_flag_asr_on_map.jpg'}, {'rel': 'http://esipfed.org/ns/fedsearch/1.1/browse#', 'type': 'image/jpeg', 'hreflang': 'en-US', 'href': 'https://n5eil01u.ecs.nsidc.org/DP0/BRWS/Browse.001/2019.10.09/ATL09_20181018153820_03060101_002_01_BRW.profile_3.cloud_flag_atm_on_map.jpg'}, {'rel': 'http://esipfed.org/ns/fedsearch/1.1/browse#', 'type': 'image/jpeg', 'hreflang': 'en-US', 'href': 'https://n5eil01u.ecs.nsidc.org/DP0/BRWS/Browse.001/2019.10.09/ATL09_20181018153820_03060101_002_01_BRW.profile_3.column_od_asr.jpg'}, {'rel': 'http://esipfed.org/ns/fedsearch/1.1/browse#', 'type': 'image/jpeg', 'hreflang': 'en-US', 'href': 'https://n5eil01u.ecs.nsidc.org/DP0/BRWS/Browse.001/2019.10.09/ATL09_20181018153820_03060101_002_01_BRW.profile_3.layer_flag_on_cab.jpg'}, {'rel': 'http://esipfed.org/ns/fedsearch/1.1/browse#', 'type': 'image/jpeg', 'hreflang': 'en-US', 'href': 'https://n5eil01u.ecs.nsidc.org/DP0/BRWS/Browse.001/2019.10.09/ATL09_20181018153820_03060101_002_01_BRW.profile_3.layer_flag_on_map.jpg'}, {'rel': 'http://esipfed.org/ns/fedsearch/1.1/browse#', 'type': 'image/jpeg', 'hreflang': 'en-US', 'href': 'https://n5eil01u.ecs.nsidc.org/DP0/BRWS/Browse.001/2019.10.09/ATL09_20181018153820_03060101_002_01_BRW.profile_3.layer_heights.jpg'}, {'rel': 'http://esipfed.org/ns/fedsearch/1.1/browse#', 'type': 'image/jpeg', 'hreflang': 'en-US', 'href': 'https://n5eil01u.ecs.nsidc.org/DP0/BRWS/Browse.001/2019.10.09/ATL09_20181018153820_03060101_002_01_BRW.profile_3.layer_heights_on_cab.jpg'}, {'rel': 'http://esipfed.org/ns/fedsearch/1.1/browse#', 'type': 'image/jpeg', 'hreflang': 'en-US', 'href': 'https://n5eil01u.ecs.nsidc.org/DP0/BRWS/Browse.001/2019.10.09/ATL09_20181018153820_03060101_002_01_BRW.profile_3.msw_flag_on_map.jpg'}, {'rel': 'http://esipfed.org/ns/fedsearch/1.1/browse#', 'type': 'image/jpeg', 'hreflang': 'en-US', 'href': 'https://n5eil01u.ecs.nsidc.org/DP0/BRWS/Browse.001/2019.10.09/ATL09_20181018153820_03060101_002_01_BRW.profile_3.ocean_surf_reflec.jpg'}, {'rel': 'http://esipfed.org/ns/fedsearch/1.1/metadata#', 'type': 'text/xml', 'hreflang': 'en-US', 'href': 'https://n5eil01u.ecs.nsidc.org/DP7/ATLAS/ATL09.002/2018.10.18/ATL09_20181018153820_03060101_002_01.iso.xml'}, {'inherited': True, 'length': '0.0KB', 'rel': 'http://esipfed.org/ns/fedsearch/1.1/data#', 'hreflang': 'en-US', 'href': 'https://n5eil01u.ecs.nsidc.org/ATLAS/ATL09.002/'}, {'inherited': True, 'length': '0.0KB', 'rel': 'http://esipfed.org/ns/fedsearch/1.1/data#', 'hreflang': 'en-US', 'href': 'https://search.earthdata.nasa.gov/search/granules?p=C1631076797-NSIDC_ECS&q=atl09&m=-87.46352300590473!-3.4486083984375004!1!1!0!0%2C2&tl=1555860221!4!!'}, {'inherited': True, 'rel': 'http://esipfed.org/ns/fedsearch/1.1/metadata#', 'hreflang': 'en-US', 'href': 'https://doi.org/10.5067/ATLAS/ATL09.002'}, {'inherited': True, 'rel': 'http://esipfed.org/ns/fedsearch/1.1/documentation#', 'hreflang': 'en-US', 'href': 'https://doi.org/10.5067/ATLAS/ATL09.002'}]}]}}\n",
      "{'feed': {'updated': '2020-04-15T00:42:27.130Z', 'id': 'https://cmr.earthdata.nasa.gov:443/search/granules.json?short_name=ATL09&version=002&temporal=2018-10-18T00%3A00%3A00Z%2C2018-10-18T23%3A59%3A59Z&bounding_box=-180%2C60%2C180%2C90&page_size=10&page_num=2', 'title': 'ECHO granule metadata', 'entry': [{'producer_granule_id': 'ATL09_20181018171238_03070101_002_01.h5', 'time_start': '2018-10-18T17:12:38.000Z', 'orbit': {'ascending_crossing': '-27.64061798807871', 'start_lat': '0', 'start_direction': 'A', 'end_lat': '0', 'end_direction': 'A'}, 'updated': '2019-12-18T06:31:11.407Z', 'orbit_calculated_spatial_domains': [{'equator_crossing_date_time': '2018-10-18T17:12:37.883Z', 'equator_crossing_longitude': '-27.64061798807871', 'orbit_number': '508'}], 'dataset_id': 'ATLAS/ICESat-2 L3A Calibrated Backscatter Profiles and Atmospheric Layer Characteristics V002', 'data_center': 'NSIDC_ECS', 'title': 'SC:ATL09.002:166041298', 'coordinate_system': 'ORBIT', 'time_end': '2018-10-18T18:46:55.000Z', 'id': 'G1706541418-NSIDC_ECS', 'original_format': 'ISO-SMAP', 'granule_size': '4035.9225664139', 'browse_flag': True, 'polygons': [['0.057941837770383794 -27.80887536858588 19.135489609110305 -29.760594961477764 38.20883784985154 -31.926310591692594 57.26854821957185 -34.809366031481844 76.25526268312738 -41.542515906968035 84.07842035233796 167.45734347747862 65.30597549049786 149.59984171375876 46.26114162606862 145.931157625288 27.19161423704892 143.56541681049407 8.115268210851323 141.5542281320304 -10.962998738498452 139.6327166619348 -30.040292429864152 137.63533739953107 -49.112160691769134 135.29156617292347 -68.16154223351249 131.5434046821707 -86.75422812743926 100.39605751759562 -73.48678157208434 -40.20401697400623 -54.456211673381866 -45.122252589050184 -35.38762839486189 -47.67223200114675 -16.311228202544413 -49.72814050435789 0.0325040585621419 -51.378820334111516 0.04380928577819535 -51.05508055251188 -16.299449216850046 -49.39085159727366 -35.37376244756542 -47.27528454254316 -54.436768949888645 -44.56614862677668 -73.4470540249682 -39.07424937642362 -86.56034097743358 95.94249798269419 -68.13117119099505 130.67698647535175 -49.09489274709803 134.7974774762839 -30.027233835740763 137.26146374248498 -10.951483584558067 139.3029728773029 8.12668795270631 141.22721312688938 27.204324840501627 143.2014907489265 46.27749592132593 145.4631426991639 65.33305013496643 148.8267612019965 84.18903142022057 164.47795059055724 76.30292531550062 -40.19163537654507 57.28946257218784 -34.211339834910504 38.22322687558885 -31.514417702060218 19.14745645929776 -29.417933869580324 0.06924706944323258 -27.48513545951546 0.057941837770383794 -27.80887536858588']], 'collection_concept_id': 'C1631076797-NSIDC_ECS', 'online_access_flag': True, 'links': [{'rel': 'http://esipfed.org/ns/fedsearch/1.1/data#', 'type': 'application/x-hdfeos', 'hreflang': 'en-US', 'href': 'https://n5eil01u.ecs.nsidc.org/DP7/ATLAS/ATL09.002/2018.10.18/ATL09_20181018171238_03070101_002_01.h5'}, {'rel': 'http://esipfed.org/ns/fedsearch/1.1/browse#', 'type': 'image/jpeg', 'hreflang': 'en-US', 'href': 'https://n5eil01u.ecs.nsidc.org/DP0/BRWS/Browse.001/2019.10.09/ATL09_20181018171238_03070101_002_01_BRW.default.default1.jpg'}, {'rel': 'http://esipfed.org/ns/fedsearch/1.1/browse#', 'type': 'image/jpeg', 'hreflang': 'en-US', 'href': 'https://n5eil01u.ecs.nsidc.org/DP0/BRWS/Browse.001/2019.10.09/ATL09_20181018171238_03070101_002_01_BRW.default.default2.jpg'}, {'rel': 'http://esipfed.org/ns/fedsearch/1.1/browse#', 'type': 'image/jpeg', 'hreflang': 'en-US', 'href': 'https://n5eil01u.ecs.nsidc.org/DP0/BRWS/Browse.001/2019.10.09/ATL09_20181018171238_03070101_002_01_BRW.profile_1.apparent_surf_reflec.jpg'}, {'rel': 'http://esipfed.org/ns/fedsearch/1.1/browse#', 'type': 'image/jpeg', 'hreflang': 'en-US', 'href': 'https://n5eil01u.ecs.nsidc.org/DP0/BRWS/Browse.001/2019.10.09/ATL09_20181018171238_03070101_002_01_BRW.profile_1.cab_profile.jpg'}, {'rel': 'http://esipfed.org/ns/fedsearch/1.1/browse#', 'type': 'image/jpeg', 'hreflang': 'en-US', 'href': 'https://n5eil01u.ecs.nsidc.org/DP0/BRWS/Browse.001/2019.10.09/ATL09_20181018171238_03070101_002_01_BRW.profile_1.cloud_flag_asr_on_cab.jpg'}, {'rel': 'http://esipfed.org/ns/fedsearch/1.1/browse#', 'type': 'image/jpeg', 'hreflang': 'en-US', 'href': 'https://n5eil01u.ecs.nsidc.org/DP0/BRWS/Browse.001/2019.10.09/ATL09_20181018171238_03070101_002_01_BRW.profile_1.cloud_flag_asr_on_map.jpg'}, {'rel': 'http://esipfed.org/ns/fedsearch/1.1/browse#', 'type': 'image/jpeg', 'hreflang': 'en-US', 'href': 'https://n5eil01u.ecs.nsidc.org/DP0/BRWS/Browse.001/2019.10.09/ATL09_20181018171238_03070101_002_01_BRW.profile_1.cloud_flag_atm_on_map.jpg'}, {'rel': 'http://esipfed.org/ns/fedsearch/1.1/browse#', 'type': 'image/jpeg', 'hreflang': 'en-US', 'href': 'https://n5eil01u.ecs.nsidc.org/DP0/BRWS/Browse.001/2019.10.09/ATL09_20181018171238_03070101_002_01_BRW.profile_1.column_od_asr.jpg'}, {'rel': 'http://esipfed.org/ns/fedsearch/1.1/browse#', 'type': 'image/jpeg', 'hreflang': 'en-US', 'href': 'https://n5eil01u.ecs.nsidc.org/DP0/BRWS/Browse.001/2019.10.09/ATL09_20181018171238_03070101_002_01_BRW.profile_1.layer_flag_on_cab.jpg'}, {'rel': 'http://esipfed.org/ns/fedsearch/1.1/browse#', 'type': 'image/jpeg', 'hreflang': 'en-US', 'href': 'https://n5eil01u.ecs.nsidc.org/DP0/BRWS/Browse.001/2019.10.09/ATL09_20181018171238_03070101_002_01_BRW.profile_1.layer_flag_on_map.jpg'}, {'rel': 'http://esipfed.org/ns/fedsearch/1.1/browse#', 'type': 'image/jpeg', 'hreflang': 'en-US', 'href': 'https://n5eil01u.ecs.nsidc.org/DP0/BRWS/Browse.001/2019.10.09/ATL09_20181018171238_03070101_002_01_BRW.profile_1.layer_heights.jpg'}, {'rel': 'http://esipfed.org/ns/fedsearch/1.1/browse#', 'type': 'image/jpeg', 'hreflang': 'en-US', 'href': 'https://n5eil01u.ecs.nsidc.org/DP0/BRWS/Browse.001/2019.10.09/ATL09_20181018171238_03070101_002_01_BRW.profile_1.layer_heights_on_cab.jpg'}, {'rel': 'http://esipfed.org/ns/fedsearch/1.1/browse#', 'type': 'image/jpeg', 'hreflang': 'en-US', 'href': 'https://n5eil01u.ecs.nsidc.org/DP0/BRWS/Browse.001/2019.10.09/ATL09_20181018171238_03070101_002_01_BRW.profile_1.msw_flag_on_map.jpg'}, {'rel': 'http://esipfed.org/ns/fedsearch/1.1/browse#', 'type': 'image/jpeg', 'hreflang': 'en-US', 'href': 'https://n5eil01u.ecs.nsidc.org/DP0/BRWS/Browse.001/2019.10.09/ATL09_20181018171238_03070101_002_01_BRW.profile_1.ocean_surf_reflec.jpg'}, {'rel': 'http://esipfed.org/ns/fedsearch/1.1/browse#', 'type': 'image/jpeg', 'hreflang': 'en-US', 'href': 'https://n5eil01u.ecs.nsidc.org/DP0/BRWS/Browse.001/2019.10.09/ATL09_20181018171238_03070101_002_01_BRW.profile_2.apparent_surf_reflec.jpg'}, {'rel': 'http://esipfed.org/ns/fedsearch/1.1/browse#', 'type': 'image/jpeg', 'hreflang': 'en-US', 'href': 'https://n5eil01u.ecs.nsidc.org/DP0/BRWS/Browse.001/2019.10.09/ATL09_20181018171238_03070101_002_01_BRW.profile_2.cab_profile.jpg'}, {'rel': 'http://esipfed.org/ns/fedsearch/1.1/browse#', 'type': 'image/jpeg', 'hreflang': 'en-US', 'href': 'https://n5eil01u.ecs.nsidc.org/DP0/BRWS/Browse.001/2019.10.09/ATL09_20181018171238_03070101_002_01_BRW.profile_2.cloud_flag_asr_on_cab.jpg'}, {'rel': 'http://esipfed.org/ns/fedsearch/1.1/browse#', 'type': 'image/jpeg', 'hreflang': 'en-US', 'href': 'https://n5eil01u.ecs.nsidc.org/DP0/BRWS/Browse.001/2019.10.09/ATL09_20181018171238_03070101_002_01_BRW.profile_2.cloud_flag_asr_on_map.jpg'}, {'rel': 'http://esipfed.org/ns/fedsearch/1.1/browse#', 'type': 'image/jpeg', 'hreflang': 'en-US', 'href': 'https://n5eil01u.ecs.nsidc.org/DP0/BRWS/Browse.001/2019.10.09/ATL09_20181018171238_03070101_002_01_BRW.profile_2.cloud_flag_atm_on_map.jpg'}, {'rel': 'http://esipfed.org/ns/fedsearch/1.1/browse#', 'type': 'image/jpeg', 'hreflang': 'en-US', 'href': 'https://n5eil01u.ecs.nsidc.org/DP0/BRWS/Browse.001/2019.10.09/ATL09_20181018171238_03070101_002_01_BRW.profile_2.column_od_asr.jpg'}, {'rel': 'http://esipfed.org/ns/fedsearch/1.1/browse#', 'type': 'image/jpeg', 'hreflang': 'en-US', 'href': 'https://n5eil01u.ecs.nsidc.org/DP0/BRWS/Browse.001/2019.10.09/ATL09_20181018171238_03070101_002_01_BRW.profile_2.layer_flag_on_cab.jpg'}, {'rel': 'http://esipfed.org/ns/fedsearch/1.1/browse#', 'type': 'image/jpeg', 'hreflang': 'en-US', 'href': 'https://n5eil01u.ecs.nsidc.org/DP0/BRWS/Browse.001/2019.10.09/ATL09_20181018171238_03070101_002_01_BRW.profile_2.layer_flag_on_map.jpg'}, {'rel': 'http://esipfed.org/ns/fedsearch/1.1/browse#', 'type': 'image/jpeg', 'hreflang': 'en-US', 'href': 'https://n5eil01u.ecs.nsidc.org/DP0/BRWS/Browse.001/2019.10.09/ATL09_20181018171238_03070101_002_01_BRW.profile_2.layer_heights.jpg'}, {'rel': 'http://esipfed.org/ns/fedsearch/1.1/browse#', 'type': 'image/jpeg', 'hreflang': 'en-US', 'href': 'https://n5eil01u.ecs.nsidc.org/DP0/BRWS/Browse.001/2019.10.09/ATL09_20181018171238_03070101_002_01_BRW.profile_2.layer_heights_on_cab.jpg'}, {'rel': 'http://esipfed.org/ns/fedsearch/1.1/browse#', 'type': 'image/jpeg', 'hreflang': 'en-US', 'href': 'https://n5eil01u.ecs.nsidc.org/DP0/BRWS/Browse.001/2019.10.09/ATL09_20181018171238_03070101_002_01_BRW.profile_2.msw_flag_on_map.jpg'}, {'rel': 'http://esipfed.org/ns/fedsearch/1.1/browse#', 'type': 'image/jpeg', 'hreflang': 'en-US', 'href': 'https://n5eil01u.ecs.nsidc.org/DP0/BRWS/Browse.001/2019.10.09/ATL09_20181018171238_03070101_002_01_BRW.profile_2.ocean_surf_reflec.jpg'}, {'rel': 'http://esipfed.org/ns/fedsearch/1.1/browse#', 'type': 'image/jpeg', 'hreflang': 'en-US', 'href': 'https://n5eil01u.ecs.nsidc.org/DP0/BRWS/Browse.001/2019.10.09/ATL09_20181018171238_03070101_002_01_BRW.profile_3.apparent_surf_reflec.jpg'}, {'rel': 'http://esipfed.org/ns/fedsearch/1.1/browse#', 'type': 'image/jpeg', 'hreflang': 'en-US', 'href': 'https://n5eil01u.ecs.nsidc.org/DP0/BRWS/Browse.001/2019.10.09/ATL09_20181018171238_03070101_002_01_BRW.profile_3.cab_profile.jpg'}, {'rel': 'http://esipfed.org/ns/fedsearch/1.1/browse#', 'type': 'image/jpeg', 'hreflang': 'en-US', 'href': 'https://n5eil01u.ecs.nsidc.org/DP0/BRWS/Browse.001/2019.10.09/ATL09_20181018171238_03070101_002_01_BRW.profile_3.cloud_flag_asr_on_cab.jpg'}, {'rel': 'http://esipfed.org/ns/fedsearch/1.1/browse#', 'type': 'image/jpeg', 'hreflang': 'en-US', 'href': 'https://n5eil01u.ecs.nsidc.org/DP0/BRWS/Browse.001/2019.10.09/ATL09_20181018171238_03070101_002_01_BRW.profile_3.cloud_flag_asr_on_map.jpg'}, {'rel': 'http://esipfed.org/ns/fedsearch/1.1/browse#', 'type': 'image/jpeg', 'hreflang': 'en-US', 'href': 'https://n5eil01u.ecs.nsidc.org/DP0/BRWS/Browse.001/2019.10.09/ATL09_20181018171238_03070101_002_01_BRW.profile_3.cloud_flag_atm_on_map.jpg'}, {'rel': 'http://esipfed.org/ns/fedsearch/1.1/browse#', 'type': 'image/jpeg', 'hreflang': 'en-US', 'href': 'https://n5eil01u.ecs.nsidc.org/DP0/BRWS/Browse.001/2019.10.09/ATL09_20181018171238_03070101_002_01_BRW.profile_3.column_od_asr.jpg'}, {'rel': 'http://esipfed.org/ns/fedsearch/1.1/browse#', 'type': 'image/jpeg', 'hreflang': 'en-US', 'href': 'https://n5eil01u.ecs.nsidc.org/DP0/BRWS/Browse.001/2019.10.09/ATL09_20181018171238_03070101_002_01_BRW.profile_3.layer_flag_on_cab.jpg'}, {'rel': 'http://esipfed.org/ns/fedsearch/1.1/browse#', 'type': 'image/jpeg', 'hreflang': 'en-US', 'href': 'https://n5eil01u.ecs.nsidc.org/DP0/BRWS/Browse.001/2019.10.09/ATL09_20181018171238_03070101_002_01_BRW.profile_3.layer_flag_on_map.jpg'}, {'rel': 'http://esipfed.org/ns/fedsearch/1.1/browse#', 'type': 'image/jpeg', 'hreflang': 'en-US', 'href': 'https://n5eil01u.ecs.nsidc.org/DP0/BRWS/Browse.001/2019.10.09/ATL09_20181018171238_03070101_002_01_BRW.profile_3.layer_heights.jpg'}, {'rel': 'http://esipfed.org/ns/fedsearch/1.1/browse#', 'type': 'image/jpeg', 'hreflang': 'en-US', 'href': 'https://n5eil01u.ecs.nsidc.org/DP0/BRWS/Browse.001/2019.10.09/ATL09_20181018171238_03070101_002_01_BRW.profile_3.layer_heights_on_cab.jpg'}, {'rel': 'http://esipfed.org/ns/fedsearch/1.1/browse#', 'type': 'image/jpeg', 'hreflang': 'en-US', 'href': 'https://n5eil01u.ecs.nsidc.org/DP0/BRWS/Browse.001/2019.10.09/ATL09_20181018171238_03070101_002_01_BRW.profile_3.msw_flag_on_map.jpg'}, {'rel': 'http://esipfed.org/ns/fedsearch/1.1/browse#', 'type': 'image/jpeg', 'hreflang': 'en-US', 'href': 'https://n5eil01u.ecs.nsidc.org/DP0/BRWS/Browse.001/2019.10.09/ATL09_20181018171238_03070101_002_01_BRW.profile_3.ocean_surf_reflec.jpg'}, {'rel': 'http://esipfed.org/ns/fedsearch/1.1/metadata#', 'type': 'text/xml', 'hreflang': 'en-US', 'href': 'https://n5eil01u.ecs.nsidc.org/DP7/ATLAS/ATL09.002/2018.10.18/ATL09_20181018171238_03070101_002_01.iso.xml'}, {'inherited': True, 'length': '0.0KB', 'rel': 'http://esipfed.org/ns/fedsearch/1.1/data#', 'hreflang': 'en-US', 'href': 'https://n5eil01u.ecs.nsidc.org/ATLAS/ATL09.002/'}, {'inherited': True, 'length': '0.0KB', 'rel': 'http://esipfed.org/ns/fedsearch/1.1/data#', 'hreflang': 'en-US', 'href': 'https://search.earthdata.nasa.gov/search/granules?p=C1631076797-NSIDC_ECS&q=atl09&m=-87.46352300590473!-3.4486083984375004!1!1!0!0%2C2&tl=1555860221!4!!'}, {'inherited': True, 'rel': 'http://esipfed.org/ns/fedsearch/1.1/metadata#', 'hreflang': 'en-US', 'href': 'https://doi.org/10.5067/ATLAS/ATL09.002'}, {'inherited': True, 'rel': 'http://esipfed.org/ns/fedsearch/1.1/documentation#', 'hreflang': 'en-US', 'href': 'https://doi.org/10.5067/ATLAS/ATL09.002'}]}, {'producer_granule_id': 'ATL09_20181018184655_03080101_002_01.h5', 'time_start': '2018-10-18T18:46:55.000Z', 'orbit': {'ascending_crossing': '-51.260083112231825', 'start_lat': '0', 'start_direction': 'A', 'end_lat': '0', 'end_direction': 'A'}, 'updated': '2019-12-18T06:31:11.366Z', 'orbit_calculated_spatial_domains': [{'equator_crossing_date_time': '2018-10-18T18:46:55.223Z', 'equator_crossing_longitude': '-51.260083112231825', 'orbit_number': '509'}], 'dataset_id': 'ATLAS/ICESat-2 L3A Calibrated Backscatter Profiles and Atmospheric Layer Characteristics V002', 'data_center': 'NSIDC_ECS', 'title': 'SC:ATL09.002:166041327', 'coordinate_system': 'ORBIT', 'time_end': '2018-10-18T20:21:13.000Z', 'id': 'G1706541451-NSIDC_ECS', 'original_format': 'ISO-SMAP', 'granule_size': '3493.3429374695', 'browse_flag': True, 'polygons': [['-0.00565261235455362 -51.4219529671805 19.071902141078052 -53.373340302190975 38.145273816730395 -55.53783540494866 57.205066144013514 -58.41656498182009 76.1924296491052 -65.11556984991233 84.13760392372362 144.0697768930084 65.3693516469824 125.99823689746727 46.32468382826406 122.32078293193149 27.255194724795338 119.95303093857736 8.17886095546597 117.94122197940287 -10.899404505724597 116.01968643396286 -29.97670680684987 114.0228805106117 -49.04860713219981 111.681127232349 -68.09814833379474 107.9429076727963 -86.70159564447627 77.40735353511992 -73.55000389447426 -63.793867656119055 -54.519744606720806 -68.73140325493412 -35.45120858798975 -71.28434346677145 -16.37482121901807 -73.34108219663217 -0.0056526123546185025 -74.99445296718048 0.005652612354488738 -74.67071325728315 -16.363038400632124 -73.00368368624187 -35.43733169743005 -70.88708330432566 -54.50027166626624 -68.17443814728432 -73.51012826867472 -62.65995353111735 -86.5106285511061 72.98454358596437 -68.06786077457512 107.07885007259388 -49.031361259468405 111.18766828909463 -29.963656577207285 113.64924594398829 -10.88789181859205 115.69001319879895 8.190282513295823 117.61415503670146 27.267912588890816 119.58889731266117 46.341057117658906 121.85222583421051 65.39649166892605 125.2233027693415 84.24934925017939 141.06391764586297 76.23987883068152 -63.77060640423501 57.22594449552825 -57.819563914460566 38.15965029200101 -55.12630107079026 19.08386439053343 -53.0308107690099 0.00565261235455362 -51.098213257283156 -0.00565261235455362 -51.4219529671805'], ['-0.0056526123546185025 -74.99445296718048 0.0325040585621419 -74.99828545826463 0.04380928577819535 -74.674545676665 0.005652612354488738 -74.67071325728315 -0.0056526123546185025 -74.99445296718048']], 'collection_concept_id': 'C1631076797-NSIDC_ECS', 'online_access_flag': True, 'links': [{'rel': 'http://esipfed.org/ns/fedsearch/1.1/data#', 'type': 'application/x-hdfeos', 'hreflang': 'en-US', 'href': 'https://n5eil01u.ecs.nsidc.org/DP7/ATLAS/ATL09.002/2018.10.18/ATL09_20181018184655_03080101_002_01.h5'}, {'rel': 'http://esipfed.org/ns/fedsearch/1.1/browse#', 'type': 'image/jpeg', 'hreflang': 'en-US', 'href': 'https://n5eil01u.ecs.nsidc.org/DP0/BRWS/Browse.001/2019.10.09/ATL09_20181018184655_03080101_002_01_BRW.default.default1.jpg'}, {'rel': 'http://esipfed.org/ns/fedsearch/1.1/browse#', 'type': 'image/jpeg', 'hreflang': 'en-US', 'href': 'https://n5eil01u.ecs.nsidc.org/DP0/BRWS/Browse.001/2019.10.09/ATL09_20181018184655_03080101_002_01_BRW.default.default2.jpg'}, {'rel': 'http://esipfed.org/ns/fedsearch/1.1/browse#', 'type': 'image/jpeg', 'hreflang': 'en-US', 'href': 'https://n5eil01u.ecs.nsidc.org/DP0/BRWS/Browse.001/2019.10.09/ATL09_20181018184655_03080101_002_01_BRW.profile_1.apparent_surf_reflec.jpg'}, {'rel': 'http://esipfed.org/ns/fedsearch/1.1/browse#', 'type': 'image/jpeg', 'hreflang': 'en-US', 'href': 'https://n5eil01u.ecs.nsidc.org/DP0/BRWS/Browse.001/2019.10.09/ATL09_20181018184655_03080101_002_01_BRW.profile_1.cab_profile.jpg'}, {'rel': 'http://esipfed.org/ns/fedsearch/1.1/browse#', 'type': 'image/jpeg', 'hreflang': 'en-US', 'href': 'https://n5eil01u.ecs.nsidc.org/DP0/BRWS/Browse.001/2019.10.09/ATL09_20181018184655_03080101_002_01_BRW.profile_1.cloud_flag_asr_on_cab.jpg'}, {'rel': 'http://esipfed.org/ns/fedsearch/1.1/browse#', 'type': 'image/jpeg', 'hreflang': 'en-US', 'href': 'https://n5eil01u.ecs.nsidc.org/DP0/BRWS/Browse.001/2019.10.09/ATL09_20181018184655_03080101_002_01_BRW.profile_1.cloud_flag_asr_on_map.jpg'}, {'rel': 'http://esipfed.org/ns/fedsearch/1.1/browse#', 'type': 'image/jpeg', 'hreflang': 'en-US', 'href': 'https://n5eil01u.ecs.nsidc.org/DP0/BRWS/Browse.001/2019.10.09/ATL09_20181018184655_03080101_002_01_BRW.profile_1.cloud_flag_atm_on_map.jpg'}, {'rel': 'http://esipfed.org/ns/fedsearch/1.1/browse#', 'type': 'image/jpeg', 'hreflang': 'en-US', 'href': 'https://n5eil01u.ecs.nsidc.org/DP0/BRWS/Browse.001/2019.10.09/ATL09_20181018184655_03080101_002_01_BRW.profile_1.column_od_asr.jpg'}, {'rel': 'http://esipfed.org/ns/fedsearch/1.1/browse#', 'type': 'image/jpeg', 'hreflang': 'en-US', 'href': 'https://n5eil01u.ecs.nsidc.org/DP0/BRWS/Browse.001/2019.10.09/ATL09_20181018184655_03080101_002_01_BRW.profile_1.layer_flag_on_cab.jpg'}, {'rel': 'http://esipfed.org/ns/fedsearch/1.1/browse#', 'type': 'image/jpeg', 'hreflang': 'en-US', 'href': 'https://n5eil01u.ecs.nsidc.org/DP0/BRWS/Browse.001/2019.10.09/ATL09_20181018184655_03080101_002_01_BRW.profile_1.layer_flag_on_map.jpg'}, {'rel': 'http://esipfed.org/ns/fedsearch/1.1/browse#', 'type': 'image/jpeg', 'hreflang': 'en-US', 'href': 'https://n5eil01u.ecs.nsidc.org/DP0/BRWS/Browse.001/2019.10.09/ATL09_20181018184655_03080101_002_01_BRW.profile_1.layer_heights.jpg'}, {'rel': 'http://esipfed.org/ns/fedsearch/1.1/browse#', 'type': 'image/jpeg', 'hreflang': 'en-US', 'href': 'https://n5eil01u.ecs.nsidc.org/DP0/BRWS/Browse.001/2019.10.09/ATL09_20181018184655_03080101_002_01_BRW.profile_1.layer_heights_on_cab.jpg'}, {'rel': 'http://esipfed.org/ns/fedsearch/1.1/browse#', 'type': 'image/jpeg', 'hreflang': 'en-US', 'href': 'https://n5eil01u.ecs.nsidc.org/DP0/BRWS/Browse.001/2019.10.09/ATL09_20181018184655_03080101_002_01_BRW.profile_1.msw_flag_on_map.jpg'}, {'rel': 'http://esipfed.org/ns/fedsearch/1.1/browse#', 'type': 'image/jpeg', 'hreflang': 'en-US', 'href': 'https://n5eil01u.ecs.nsidc.org/DP0/BRWS/Browse.001/2019.10.09/ATL09_20181018184655_03080101_002_01_BRW.profile_1.ocean_surf_reflec.jpg'}, {'rel': 'http://esipfed.org/ns/fedsearch/1.1/browse#', 'type': 'image/jpeg', 'hreflang': 'en-US', 'href': 'https://n5eil01u.ecs.nsidc.org/DP0/BRWS/Browse.001/2019.10.09/ATL09_20181018184655_03080101_002_01_BRW.profile_2.apparent_surf_reflec.jpg'}, {'rel': 'http://esipfed.org/ns/fedsearch/1.1/browse#', 'type': 'image/jpeg', 'hreflang': 'en-US', 'href': 'https://n5eil01u.ecs.nsidc.org/DP0/BRWS/Browse.001/2019.10.09/ATL09_20181018184655_03080101_002_01_BRW.profile_2.cab_profile.jpg'}, {'rel': 'http://esipfed.org/ns/fedsearch/1.1/browse#', 'type': 'image/jpeg', 'hreflang': 'en-US', 'href': 'https://n5eil01u.ecs.nsidc.org/DP0/BRWS/Browse.001/2019.10.09/ATL09_20181018184655_03080101_002_01_BRW.profile_2.cloud_flag_asr_on_cab.jpg'}, {'rel': 'http://esipfed.org/ns/fedsearch/1.1/browse#', 'type': 'image/jpeg', 'hreflang': 'en-US', 'href': 'https://n5eil01u.ecs.nsidc.org/DP0/BRWS/Browse.001/2019.10.09/ATL09_20181018184655_03080101_002_01_BRW.profile_2.cloud_flag_asr_on_map.jpg'}, {'rel': 'http://esipfed.org/ns/fedsearch/1.1/browse#', 'type': 'image/jpeg', 'hreflang': 'en-US', 'href': 'https://n5eil01u.ecs.nsidc.org/DP0/BRWS/Browse.001/2019.10.09/ATL09_20181018184655_03080101_002_01_BRW.profile_2.cloud_flag_atm_on_map.jpg'}, {'rel': 'http://esipfed.org/ns/fedsearch/1.1/browse#', 'type': 'image/jpeg', 'hreflang': 'en-US', 'href': 'https://n5eil01u.ecs.nsidc.org/DP0/BRWS/Browse.001/2019.10.09/ATL09_20181018184655_03080101_002_01_BRW.profile_2.column_od_asr.jpg'}, {'rel': 'http://esipfed.org/ns/fedsearch/1.1/browse#', 'type': 'image/jpeg', 'hreflang': 'en-US', 'href': 'https://n5eil01u.ecs.nsidc.org/DP0/BRWS/Browse.001/2019.10.09/ATL09_20181018184655_03080101_002_01_BRW.profile_2.layer_flag_on_cab.jpg'}, {'rel': 'http://esipfed.org/ns/fedsearch/1.1/browse#', 'type': 'image/jpeg', 'hreflang': 'en-US', 'href': 'https://n5eil01u.ecs.nsidc.org/DP0/BRWS/Browse.001/2019.10.09/ATL09_20181018184655_03080101_002_01_BRW.profile_2.layer_flag_on_map.jpg'}, {'rel': 'http://esipfed.org/ns/fedsearch/1.1/browse#', 'type': 'image/jpeg', 'hreflang': 'en-US', 'href': 'https://n5eil01u.ecs.nsidc.org/DP0/BRWS/Browse.001/2019.10.09/ATL09_20181018184655_03080101_002_01_BRW.profile_2.layer_heights.jpg'}, {'rel': 'http://esipfed.org/ns/fedsearch/1.1/browse#', 'type': 'image/jpeg', 'hreflang': 'en-US', 'href': 'https://n5eil01u.ecs.nsidc.org/DP0/BRWS/Browse.001/2019.10.09/ATL09_20181018184655_03080101_002_01_BRW.profile_2.layer_heights_on_cab.jpg'}, {'rel': 'http://esipfed.org/ns/fedsearch/1.1/browse#', 'type': 'image/jpeg', 'hreflang': 'en-US', 'href': 'https://n5eil01u.ecs.nsidc.org/DP0/BRWS/Browse.001/2019.10.09/ATL09_20181018184655_03080101_002_01_BRW.profile_2.msw_flag_on_map.jpg'}, {'rel': 'http://esipfed.org/ns/fedsearch/1.1/browse#', 'type': 'image/jpeg', 'hreflang': 'en-US', 'href': 'https://n5eil01u.ecs.nsidc.org/DP0/BRWS/Browse.001/2019.10.09/ATL09_20181018184655_03080101_002_01_BRW.profile_2.ocean_surf_reflec.jpg'}, {'rel': 'http://esipfed.org/ns/fedsearch/1.1/browse#', 'type': 'image/jpeg', 'hreflang': 'en-US', 'href': 'https://n5eil01u.ecs.nsidc.org/DP0/BRWS/Browse.001/2019.10.09/ATL09_20181018184655_03080101_002_01_BRW.profile_3.apparent_surf_reflec.jpg'}, {'rel': 'http://esipfed.org/ns/fedsearch/1.1/browse#', 'type': 'image/jpeg', 'hreflang': 'en-US', 'href': 'https://n5eil01u.ecs.nsidc.org/DP0/BRWS/Browse.001/2019.10.09/ATL09_20181018184655_03080101_002_01_BRW.profile_3.cab_profile.jpg'}, {'rel': 'http://esipfed.org/ns/fedsearch/1.1/browse#', 'type': 'image/jpeg', 'hreflang': 'en-US', 'href': 'https://n5eil01u.ecs.nsidc.org/DP0/BRWS/Browse.001/2019.10.09/ATL09_20181018184655_03080101_002_01_BRW.profile_3.cloud_flag_asr_on_cab.jpg'}, {'rel': 'http://esipfed.org/ns/fedsearch/1.1/browse#', 'type': 'image/jpeg', 'hreflang': 'en-US', 'href': 'https://n5eil01u.ecs.nsidc.org/DP0/BRWS/Browse.001/2019.10.09/ATL09_20181018184655_03080101_002_01_BRW.profile_3.cloud_flag_asr_on_map.jpg'}, {'rel': 'http://esipfed.org/ns/fedsearch/1.1/browse#', 'type': 'image/jpeg', 'hreflang': 'en-US', 'href': 'https://n5eil01u.ecs.nsidc.org/DP0/BRWS/Browse.001/2019.10.09/ATL09_20181018184655_03080101_002_01_BRW.profile_3.cloud_flag_atm_on_map.jpg'}, {'rel': 'http://esipfed.org/ns/fedsearch/1.1/browse#', 'type': 'image/jpeg', 'hreflang': 'en-US', 'href': 'https://n5eil01u.ecs.nsidc.org/DP0/BRWS/Browse.001/2019.10.09/ATL09_20181018184655_03080101_002_01_BRW.profile_3.column_od_asr.jpg'}, {'rel': 'http://esipfed.org/ns/fedsearch/1.1/browse#', 'type': 'image/jpeg', 'hreflang': 'en-US', 'href': 'https://n5eil01u.ecs.nsidc.org/DP0/BRWS/Browse.001/2019.10.09/ATL09_20181018184655_03080101_002_01_BRW.profile_3.layer_flag_on_cab.jpg'}, {'rel': 'http://esipfed.org/ns/fedsearch/1.1/browse#', 'type': 'image/jpeg', 'hreflang': 'en-US', 'href': 'https://n5eil01u.ecs.nsidc.org/DP0/BRWS/Browse.001/2019.10.09/ATL09_20181018184655_03080101_002_01_BRW.profile_3.layer_flag_on_map.jpg'}, {'rel': 'http://esipfed.org/ns/fedsearch/1.1/browse#', 'type': 'image/jpeg', 'hreflang': 'en-US', 'href': 'https://n5eil01u.ecs.nsidc.org/DP0/BRWS/Browse.001/2019.10.09/ATL09_20181018184655_03080101_002_01_BRW.profile_3.layer_heights.jpg'}, {'rel': 'http://esipfed.org/ns/fedsearch/1.1/browse#', 'type': 'image/jpeg', 'hreflang': 'en-US', 'href': 'https://n5eil01u.ecs.nsidc.org/DP0/BRWS/Browse.001/2019.10.09/ATL09_20181018184655_03080101_002_01_BRW.profile_3.layer_heights_on_cab.jpg'}, {'rel': 'http://esipfed.org/ns/fedsearch/1.1/browse#', 'type': 'image/jpeg', 'hreflang': 'en-US', 'href': 'https://n5eil01u.ecs.nsidc.org/DP0/BRWS/Browse.001/2019.10.09/ATL09_20181018184655_03080101_002_01_BRW.profile_3.msw_flag_on_map.jpg'}, {'rel': 'http://esipfed.org/ns/fedsearch/1.1/browse#', 'type': 'image/jpeg', 'hreflang': 'en-US', 'href': 'https://n5eil01u.ecs.nsidc.org/DP0/BRWS/Browse.001/2019.10.09/ATL09_20181018184655_03080101_002_01_BRW.profile_3.ocean_surf_reflec.jpg'}, {'rel': 'http://esipfed.org/ns/fedsearch/1.1/metadata#', 'type': 'text/xml', 'hreflang': 'en-US', 'href': 'https://n5eil01u.ecs.nsidc.org/DP7/ATLAS/ATL09.002/2018.10.18/ATL09_20181018184655_03080101_002_01.iso.xml'}, {'inherited': True, 'length': '0.0KB', 'rel': 'http://esipfed.org/ns/fedsearch/1.1/data#', 'hreflang': 'en-US', 'href': 'https://n5eil01u.ecs.nsidc.org/ATLAS/ATL09.002/'}, {'inherited': True, 'length': '0.0KB', 'rel': 'http://esipfed.org/ns/fedsearch/1.1/data#', 'hreflang': 'en-US', 'href': 'https://search.earthdata.nasa.gov/search/granules?p=C1631076797-NSIDC_ECS&q=atl09&m=-87.46352300590473!-3.4486083984375004!1!1!0!0%2C2&tl=1555860221!4!!'}, {'inherited': True, 'rel': 'http://esipfed.org/ns/fedsearch/1.1/metadata#', 'hreflang': 'en-US', 'href': 'https://doi.org/10.5067/ATLAS/ATL09.002'}, {'inherited': True, 'rel': 'http://esipfed.org/ns/fedsearch/1.1/documentation#', 'hreflang': 'en-US', 'href': 'https://doi.org/10.5067/ATLAS/ATL09.002'}]}, {'producer_granule_id': 'ATL09_20181018202112_03090101_002_01.h5', 'time_start': '2018-10-18T20:21:13.000Z', 'orbit': {'ascending_crossing': '-74.87872753280287', 'start_lat': '0', 'start_direction': 'A', 'end_lat': '0', 'end_direction': 'A'}, 'updated': '2019-12-18T06:31:11.294Z', 'orbit_calculated_spatial_domains': [{'equator_crossing_date_time': '2018-10-18T20:21:12.631Z', 'equator_crossing_longitude': '-74.87872753280287', 'orbit_number': '510'}], 'dataset_id': 'ATLAS/ICESat-2 L3A Calibrated Backscatter Profiles and Atmospheric Layer Characteristics V002', 'data_center': 'NSIDC_ECS', 'title': 'SC:ATL09.002:166041282', 'coordinate_system': 'ORBIT', 'time_end': '2018-10-18T21:55:30.000Z', 'id': 'G1706545508-NSIDC_ECS', 'original_format': 'ISO-SMAP', 'granule_size': '2291.5476255417', 'browse_flag': True, 'polygons': [['0.057941837770383794 -75.04698491331004 19.135489609110305 -76.99870450620192 38.20883784985154 -79.16442013641675 57.26854821957185 -82.04747557620601 76.25526268312738 -88.78062545169219 84.07842035233796 120.21923393275445 65.30597549049786 102.36173216903461 46.26114162606862 98.69304808056383 27.19161423704892 96.32730726576992 8.115268210851323 94.31611858730622 -10.962998738498452 92.39460711721067 -30.040292429864152 90.39722785480691 -49.112160691769134 88.05345662819931 -68.16154223351249 84.30529513744656 -86.75422812743926 53.157947972871476 -73.48678157208434 -87.44212651873039 -54.456211673381866 -92.36036213377434 -35.38762839486189 -94.9103415458709 -16.311228202544413 -96.96625004908203 0.0325040585621419 -98.61692987883568 0.04380928577819535 -98.29319009723605 -16.299449216850046 -96.62896114199782 -35.37376244756542 -94.51339408726732 -54.436768949888645 -91.80425817150083 -73.4470540249682 -86.31235892114779 -86.56034097743358 48.70438843797003 -68.13117119099505 83.43887693062763 -49.09489274709803 87.5593679315597 -30.027233835740763 90.0233541977608 -10.951483584558067 92.06486333257874 8.12668795270631 93.98910358216524 27.204324840501627 95.96338120420235 46.27749592132593 98.22503315443977 65.33305013496643 101.58865165727237 84.18903142022057 117.23984104583306 76.30292531550062 -87.42974492126923 57.28946257218784 -81.44944937963467 38.22322687558885 -78.75252724678438 19.14745645929776 -76.65604341430449 0.06924706944323258 -74.72324500423962 0.057941837770383794 -75.04698491331004']], 'collection_concept_id': 'C1631076797-NSIDC_ECS', 'online_access_flag': True, 'links': [{'rel': 'http://esipfed.org/ns/fedsearch/1.1/data#', 'type': 'application/x-hdfeos', 'hreflang': 'en-US', 'href': 'https://n5eil01u.ecs.nsidc.org/DP7/ATLAS/ATL09.002/2018.10.18/ATL09_20181018202112_03090101_002_01.h5'}, {'rel': 'http://esipfed.org/ns/fedsearch/1.1/browse#', 'type': 'image/jpeg', 'hreflang': 'en-US', 'href': 'https://n5eil01u.ecs.nsidc.org/DP0/BRWS/Browse.001/2019.10.09/ATL09_20181018202112_03090101_002_01_BRW.default.default1.jpg'}, {'rel': 'http://esipfed.org/ns/fedsearch/1.1/browse#', 'type': 'image/jpeg', 'hreflang': 'en-US', 'href': 'https://n5eil01u.ecs.nsidc.org/DP0/BRWS/Browse.001/2019.10.09/ATL09_20181018202112_03090101_002_01_BRW.default.default2.jpg'}, {'rel': 'http://esipfed.org/ns/fedsearch/1.1/browse#', 'type': 'image/jpeg', 'hreflang': 'en-US', 'href': 'https://n5eil01u.ecs.nsidc.org/DP0/BRWS/Browse.001/2019.10.09/ATL09_20181018202112_03090101_002_01_BRW.profile_1.apparent_surf_reflec.jpg'}, {'rel': 'http://esipfed.org/ns/fedsearch/1.1/browse#', 'type': 'image/jpeg', 'hreflang': 'en-US', 'href': 'https://n5eil01u.ecs.nsidc.org/DP0/BRWS/Browse.001/2019.10.09/ATL09_20181018202112_03090101_002_01_BRW.profile_1.cab_profile.jpg'}, {'rel': 'http://esipfed.org/ns/fedsearch/1.1/browse#', 'type': 'image/jpeg', 'hreflang': 'en-US', 'href': 'https://n5eil01u.ecs.nsidc.org/DP0/BRWS/Browse.001/2019.10.09/ATL09_20181018202112_03090101_002_01_BRW.profile_1.cloud_flag_asr_on_cab.jpg'}, {'rel': 'http://esipfed.org/ns/fedsearch/1.1/browse#', 'type': 'image/jpeg', 'hreflang': 'en-US', 'href': 'https://n5eil01u.ecs.nsidc.org/DP0/BRWS/Browse.001/2019.10.09/ATL09_20181018202112_03090101_002_01_BRW.profile_1.cloud_flag_asr_on_map.jpg'}, {'rel': 'http://esipfed.org/ns/fedsearch/1.1/browse#', 'type': 'image/jpeg', 'hreflang': 'en-US', 'href': 'https://n5eil01u.ecs.nsidc.org/DP0/BRWS/Browse.001/2019.10.09/ATL09_20181018202112_03090101_002_01_BRW.profile_1.cloud_flag_atm_on_map.jpg'}, {'rel': 'http://esipfed.org/ns/fedsearch/1.1/browse#', 'type': 'image/jpeg', 'hreflang': 'en-US', 'href': 'https://n5eil01u.ecs.nsidc.org/DP0/BRWS/Browse.001/2019.10.09/ATL09_20181018202112_03090101_002_01_BRW.profile_1.column_od_asr.jpg'}, {'rel': 'http://esipfed.org/ns/fedsearch/1.1/browse#', 'type': 'image/jpeg', 'hreflang': 'en-US', 'href': 'https://n5eil01u.ecs.nsidc.org/DP0/BRWS/Browse.001/2019.10.09/ATL09_20181018202112_03090101_002_01_BRW.profile_1.layer_flag_on_cab.jpg'}, {'rel': 'http://esipfed.org/ns/fedsearch/1.1/browse#', 'type': 'image/jpeg', 'hreflang': 'en-US', 'href': 'https://n5eil01u.ecs.nsidc.org/DP0/BRWS/Browse.001/2019.10.09/ATL09_20181018202112_03090101_002_01_BRW.profile_1.layer_flag_on_map.jpg'}, {'rel': 'http://esipfed.org/ns/fedsearch/1.1/browse#', 'type': 'image/jpeg', 'hreflang': 'en-US', 'href': 'https://n5eil01u.ecs.nsidc.org/DP0/BRWS/Browse.001/2019.10.09/ATL09_20181018202112_03090101_002_01_BRW.profile_1.layer_heights.jpg'}, {'rel': 'http://esipfed.org/ns/fedsearch/1.1/browse#', 'type': 'image/jpeg', 'hreflang': 'en-US', 'href': 'https://n5eil01u.ecs.nsidc.org/DP0/BRWS/Browse.001/2019.10.09/ATL09_20181018202112_03090101_002_01_BRW.profile_1.layer_heights_on_cab.jpg'}, {'rel': 'http://esipfed.org/ns/fedsearch/1.1/browse#', 'type': 'image/jpeg', 'hreflang': 'en-US', 'href': 'https://n5eil01u.ecs.nsidc.org/DP0/BRWS/Browse.001/2019.10.09/ATL09_20181018202112_03090101_002_01_BRW.profile_1.msw_flag_on_map.jpg'}, {'rel': 'http://esipfed.org/ns/fedsearch/1.1/browse#', 'type': 'image/jpeg', 'hreflang': 'en-US', 'href': 'https://n5eil01u.ecs.nsidc.org/DP0/BRWS/Browse.001/2019.10.09/ATL09_20181018202112_03090101_002_01_BRW.profile_1.ocean_surf_reflec.jpg'}, {'rel': 'http://esipfed.org/ns/fedsearch/1.1/browse#', 'type': 'image/jpeg', 'hreflang': 'en-US', 'href': 'https://n5eil01u.ecs.nsidc.org/DP0/BRWS/Browse.001/2019.10.09/ATL09_20181018202112_03090101_002_01_BRW.profile_2.apparent_surf_reflec.jpg'}, {'rel': 'http://esipfed.org/ns/fedsearch/1.1/browse#', 'type': 'image/jpeg', 'hreflang': 'en-US', 'href': 'https://n5eil01u.ecs.nsidc.org/DP0/BRWS/Browse.001/2019.10.09/ATL09_20181018202112_03090101_002_01_BRW.profile_2.cab_profile.jpg'}, {'rel': 'http://esipfed.org/ns/fedsearch/1.1/browse#', 'type': 'image/jpeg', 'hreflang': 'en-US', 'href': 'https://n5eil01u.ecs.nsidc.org/DP0/BRWS/Browse.001/2019.10.09/ATL09_20181018202112_03090101_002_01_BRW.profile_2.cloud_flag_asr_on_cab.jpg'}, {'rel': 'http://esipfed.org/ns/fedsearch/1.1/browse#', 'type': 'image/jpeg', 'hreflang': 'en-US', 'href': 'https://n5eil01u.ecs.nsidc.org/DP0/BRWS/Browse.001/2019.10.09/ATL09_20181018202112_03090101_002_01_BRW.profile_2.cloud_flag_asr_on_map.jpg'}, {'rel': 'http://esipfed.org/ns/fedsearch/1.1/browse#', 'type': 'image/jpeg', 'hreflang': 'en-US', 'href': 'https://n5eil01u.ecs.nsidc.org/DP0/BRWS/Browse.001/2019.10.09/ATL09_20181018202112_03090101_002_01_BRW.profile_2.cloud_flag_atm_on_map.jpg'}, {'rel': 'http://esipfed.org/ns/fedsearch/1.1/browse#', 'type': 'image/jpeg', 'hreflang': 'en-US', 'href': 'https://n5eil01u.ecs.nsidc.org/DP0/BRWS/Browse.001/2019.10.09/ATL09_20181018202112_03090101_002_01_BRW.profile_2.column_od_asr.jpg'}, {'rel': 'http://esipfed.org/ns/fedsearch/1.1/browse#', 'type': 'image/jpeg', 'hreflang': 'en-US', 'href': 'https://n5eil01u.ecs.nsidc.org/DP0/BRWS/Browse.001/2019.10.09/ATL09_20181018202112_03090101_002_01_BRW.profile_2.layer_flag_on_cab.jpg'}, {'rel': 'http://esipfed.org/ns/fedsearch/1.1/browse#', 'type': 'image/jpeg', 'hreflang': 'en-US', 'href': 'https://n5eil01u.ecs.nsidc.org/DP0/BRWS/Browse.001/2019.10.09/ATL09_20181018202112_03090101_002_01_BRW.profile_2.layer_flag_on_map.jpg'}, {'rel': 'http://esipfed.org/ns/fedsearch/1.1/browse#', 'type': 'image/jpeg', 'hreflang': 'en-US', 'href': 'https://n5eil01u.ecs.nsidc.org/DP0/BRWS/Browse.001/2019.10.09/ATL09_20181018202112_03090101_002_01_BRW.profile_2.layer_heights.jpg'}, {'rel': 'http://esipfed.org/ns/fedsearch/1.1/browse#', 'type': 'image/jpeg', 'hreflang': 'en-US', 'href': 'https://n5eil01u.ecs.nsidc.org/DP0/BRWS/Browse.001/2019.10.09/ATL09_20181018202112_03090101_002_01_BRW.profile_2.layer_heights_on_cab.jpg'}, {'rel': 'http://esipfed.org/ns/fedsearch/1.1/browse#', 'type': 'image/jpeg', 'hreflang': 'en-US', 'href': 'https://n5eil01u.ecs.nsidc.org/DP0/BRWS/Browse.001/2019.10.09/ATL09_20181018202112_03090101_002_01_BRW.profile_2.msw_flag_on_map.jpg'}, {'rel': 'http://esipfed.org/ns/fedsearch/1.1/browse#', 'type': 'image/jpeg', 'hreflang': 'en-US', 'href': 'https://n5eil01u.ecs.nsidc.org/DP0/BRWS/Browse.001/2019.10.09/ATL09_20181018202112_03090101_002_01_BRW.profile_2.ocean_surf_reflec.jpg'}, {'rel': 'http://esipfed.org/ns/fedsearch/1.1/browse#', 'type': 'image/jpeg', 'hreflang': 'en-US', 'href': 'https://n5eil01u.ecs.nsidc.org/DP0/BRWS/Browse.001/2019.10.09/ATL09_20181018202112_03090101_002_01_BRW.profile_3.apparent_surf_reflec.jpg'}, {'rel': 'http://esipfed.org/ns/fedsearch/1.1/browse#', 'type': 'image/jpeg', 'hreflang': 'en-US', 'href': 'https://n5eil01u.ecs.nsidc.org/DP0/BRWS/Browse.001/2019.10.09/ATL09_20181018202112_03090101_002_01_BRW.profile_3.cab_profile.jpg'}, {'rel': 'http://esipfed.org/ns/fedsearch/1.1/browse#', 'type': 'image/jpeg', 'hreflang': 'en-US', 'href': 'https://n5eil01u.ecs.nsidc.org/DP0/BRWS/Browse.001/2019.10.09/ATL09_20181018202112_03090101_002_01_BRW.profile_3.cloud_flag_asr_on_cab.jpg'}, {'rel': 'http://esipfed.org/ns/fedsearch/1.1/browse#', 'type': 'image/jpeg', 'hreflang': 'en-US', 'href': 'https://n5eil01u.ecs.nsidc.org/DP0/BRWS/Browse.001/2019.10.09/ATL09_20181018202112_03090101_002_01_BRW.profile_3.cloud_flag_asr_on_map.jpg'}, {'rel': 'http://esipfed.org/ns/fedsearch/1.1/browse#', 'type': 'image/jpeg', 'hreflang': 'en-US', 'href': 'https://n5eil01u.ecs.nsidc.org/DP0/BRWS/Browse.001/2019.10.09/ATL09_20181018202112_03090101_002_01_BRW.profile_3.cloud_flag_atm_on_map.jpg'}, {'rel': 'http://esipfed.org/ns/fedsearch/1.1/browse#', 'type': 'image/jpeg', 'hreflang': 'en-US', 'href': 'https://n5eil01u.ecs.nsidc.org/DP0/BRWS/Browse.001/2019.10.09/ATL09_20181018202112_03090101_002_01_BRW.profile_3.column_od_asr.jpg'}, {'rel': 'http://esipfed.org/ns/fedsearch/1.1/browse#', 'type': 'image/jpeg', 'hreflang': 'en-US', 'href': 'https://n5eil01u.ecs.nsidc.org/DP0/BRWS/Browse.001/2019.10.09/ATL09_20181018202112_03090101_002_01_BRW.profile_3.layer_flag_on_cab.jpg'}, {'rel': 'http://esipfed.org/ns/fedsearch/1.1/browse#', 'type': 'image/jpeg', 'hreflang': 'en-US', 'href': 'https://n5eil01u.ecs.nsidc.org/DP0/BRWS/Browse.001/2019.10.09/ATL09_20181018202112_03090101_002_01_BRW.profile_3.layer_flag_on_map.jpg'}, {'rel': 'http://esipfed.org/ns/fedsearch/1.1/browse#', 'type': 'image/jpeg', 'hreflang': 'en-US', 'href': 'https://n5eil01u.ecs.nsidc.org/DP0/BRWS/Browse.001/2019.10.09/ATL09_20181018202112_03090101_002_01_BRW.profile_3.layer_heights.jpg'}, {'rel': 'http://esipfed.org/ns/fedsearch/1.1/browse#', 'type': 'image/jpeg', 'hreflang': 'en-US', 'href': 'https://n5eil01u.ecs.nsidc.org/DP0/BRWS/Browse.001/2019.10.09/ATL09_20181018202112_03090101_002_01_BRW.profile_3.layer_heights_on_cab.jpg'}, {'rel': 'http://esipfed.org/ns/fedsearch/1.1/browse#', 'type': 'image/jpeg', 'hreflang': 'en-US', 'href': 'https://n5eil01u.ecs.nsidc.org/DP0/BRWS/Browse.001/2019.10.09/ATL09_20181018202112_03090101_002_01_BRW.profile_3.msw_flag_on_map.jpg'}, {'rel': 'http://esipfed.org/ns/fedsearch/1.1/browse#', 'type': 'image/jpeg', 'hreflang': 'en-US', 'href': 'https://n5eil01u.ecs.nsidc.org/DP0/BRWS/Browse.001/2019.10.09/ATL09_20181018202112_03090101_002_01_BRW.profile_3.ocean_surf_reflec.jpg'}, {'rel': 'http://esipfed.org/ns/fedsearch/1.1/metadata#', 'type': 'text/xml', 'hreflang': 'en-US', 'href': 'https://n5eil01u.ecs.nsidc.org/DP7/ATLAS/ATL09.002/2018.10.18/ATL09_20181018202112_03090101_002_01.iso.xml'}, {'inherited': True, 'length': '0.0KB', 'rel': 'http://esipfed.org/ns/fedsearch/1.1/data#', 'hreflang': 'en-US', 'href': 'https://n5eil01u.ecs.nsidc.org/ATLAS/ATL09.002/'}, {'inherited': True, 'length': '0.0KB', 'rel': 'http://esipfed.org/ns/fedsearch/1.1/data#', 'hreflang': 'en-US', 'href': 'https://search.earthdata.nasa.gov/search/granules?p=C1631076797-NSIDC_ECS&q=atl09&m=-87.46352300590473!-3.4486083984375004!1!1!0!0%2C2&tl=1555860221!4!!'}, {'inherited': True, 'rel': 'http://esipfed.org/ns/fedsearch/1.1/metadata#', 'hreflang': 'en-US', 'href': 'https://doi.org/10.5067/ATLAS/ATL09.002'}, {'inherited': True, 'rel': 'http://esipfed.org/ns/fedsearch/1.1/documentation#', 'hreflang': 'en-US', 'href': 'https://doi.org/10.5067/ATLAS/ATL09.002'}]}, {'producer_granule_id': 'ATL09_20181018215530_03100101_002_01.h5', 'time_start': '2018-10-18T21:55:30.000Z', 'orbit': {'ascending_crossing': '-98.49731555304398', 'start_lat': '0', 'start_direction': 'A', 'end_lat': '0', 'end_direction': 'A'}, 'updated': '2019-12-18T06:31:11.461Z', 'orbit_calculated_spatial_domains': [{'equator_crossing_date_time': '2018-10-18T21:55:30.156Z', 'equator_crossing_longitude': '-98.49731555304398', 'orbit_number': '511'}], 'dataset_id': 'ATLAS/ICESat-2 L3A Calibrated Backscatter Profiles and Atmospheric Layer Characteristics V002', 'data_center': 'NSIDC_ECS', 'title': 'SC:ATL09.002:166047513', 'coordinate_system': 'ORBIT', 'time_end': '2018-10-18T23:29:48.000Z', 'id': 'G1706544433-NSIDC_ECS', 'original_format': 'ISO-SMAP', 'granule_size': '2339.9765062332', 'browse_flag': True, 'polygons': [['-0.00565261235455362 -98.65918540799264 19.071902141078052 -100.61057274300313 38.145273816730395 -102.77506784576082 57.205066144013514 -105.65379742263224 76.1924296491052 -112.35280229072447 84.13760392372362 96.83254445219622 65.3693516469824 78.7610044566551 46.32468382826406 75.08355049111933 27.255194724795338 72.7157984977652 8.17886095546597 70.7039895385907 -10.899404505724597 68.78245399315071 -29.97670680684987 66.78564806979954 -49.04860713219981 64.44389479153685 -68.09814833379474 60.70567523198415 -86.70159564447627 30.170121094307774 -73.55000389447426 -111.03110009693121 -54.519744606720806 -115.96863569574627 -35.45120858798975 -118.5215759075836 -16.37482121901807 -120.57831463744436 -0.0056526123546185025 -122.23168540799264 0.005652612354488738 -121.9079456980953 -16.363038400632124 -120.24091612705404 -35.43733169743005 -118.1243157451378 -54.50027166626624 -115.41167058809648 -73.51012826867472 -109.89718597192949 -86.5106285511061 25.747311145152228 -68.06786077457512 59.84161763178173 -49.031361259468405 63.950435848282474 -29.963656577207285 66.41201350317613 -10.88789181859205 68.45278075798679 8.190282513295823 70.3769225958893 27.267912588890816 72.35166487184902 46.341057117658906 74.61499339339836 65.39649166892605 77.98607032852934 84.24934925017939 93.82668520505084 76.23987883068152 -111.00783884504716 57.22594449552825 -105.05679635527272 38.15965029200101 -102.36353351160241 19.08386439053343 -100.26804320982205 0.00565261235455362 -98.33544569809531 -0.00565261235455362 -98.65918540799264'], ['-0.0056526123546185025 -122.23168540799264 0.0325040585621419 -122.23551789907677 0.04380928577819535 -121.91177811747716 0.005652612354488738 -121.9079456980953 -0.0056526123546185025 -122.23168540799264']], 'collection_concept_id': 'C1631076797-NSIDC_ECS', 'online_access_flag': True, 'links': [{'rel': 'http://esipfed.org/ns/fedsearch/1.1/data#', 'type': 'application/x-hdfeos', 'hreflang': 'en-US', 'href': 'https://n5eil01u.ecs.nsidc.org/DP7/ATLAS/ATL09.002/2018.10.18/ATL09_20181018215530_03100101_002_01.h5'}, {'rel': 'http://esipfed.org/ns/fedsearch/1.1/browse#', 'type': 'image/jpeg', 'hreflang': 'en-US', 'href': 'https://n5eil01u.ecs.nsidc.org/DP0/BRWS/Browse.001/2019.10.09/ATL09_20181018215530_03100101_002_01_BRW.default.default1.jpg'}, {'rel': 'http://esipfed.org/ns/fedsearch/1.1/browse#', 'type': 'image/jpeg', 'hreflang': 'en-US', 'href': 'https://n5eil01u.ecs.nsidc.org/DP0/BRWS/Browse.001/2019.10.09/ATL09_20181018215530_03100101_002_01_BRW.default.default2.jpg'}, {'rel': 'http://esipfed.org/ns/fedsearch/1.1/browse#', 'type': 'image/jpeg', 'hreflang': 'en-US', 'href': 'https://n5eil01u.ecs.nsidc.org/DP0/BRWS/Browse.001/2019.10.09/ATL09_20181018215530_03100101_002_01_BRW.profile_1.apparent_surf_reflec.jpg'}, {'rel': 'http://esipfed.org/ns/fedsearch/1.1/browse#', 'type': 'image/jpeg', 'hreflang': 'en-US', 'href': 'https://n5eil01u.ecs.nsidc.org/DP0/BRWS/Browse.001/2019.10.09/ATL09_20181018215530_03100101_002_01_BRW.profile_1.cab_profile.jpg'}, {'rel': 'http://esipfed.org/ns/fedsearch/1.1/browse#', 'type': 'image/jpeg', 'hreflang': 'en-US', 'href': 'https://n5eil01u.ecs.nsidc.org/DP0/BRWS/Browse.001/2019.10.09/ATL09_20181018215530_03100101_002_01_BRW.profile_1.cloud_flag_asr_on_cab.jpg'}, {'rel': 'http://esipfed.org/ns/fedsearch/1.1/browse#', 'type': 'image/jpeg', 'hreflang': 'en-US', 'href': 'https://n5eil01u.ecs.nsidc.org/DP0/BRWS/Browse.001/2019.10.09/ATL09_20181018215530_03100101_002_01_BRW.profile_1.cloud_flag_asr_on_map.jpg'}, {'rel': 'http://esipfed.org/ns/fedsearch/1.1/browse#', 'type': 'image/jpeg', 'hreflang': 'en-US', 'href': 'https://n5eil01u.ecs.nsidc.org/DP0/BRWS/Browse.001/2019.10.09/ATL09_20181018215530_03100101_002_01_BRW.profile_1.cloud_flag_atm_on_map.jpg'}, {'rel': 'http://esipfed.org/ns/fedsearch/1.1/browse#', 'type': 'image/jpeg', 'hreflang': 'en-US', 'href': 'https://n5eil01u.ecs.nsidc.org/DP0/BRWS/Browse.001/2019.10.09/ATL09_20181018215530_03100101_002_01_BRW.profile_1.column_od_asr.jpg'}, {'rel': 'http://esipfed.org/ns/fedsearch/1.1/browse#', 'type': 'image/jpeg', 'hreflang': 'en-US', 'href': 'https://n5eil01u.ecs.nsidc.org/DP0/BRWS/Browse.001/2019.10.09/ATL09_20181018215530_03100101_002_01_BRW.profile_1.layer_flag_on_cab.jpg'}, {'rel': 'http://esipfed.org/ns/fedsearch/1.1/browse#', 'type': 'image/jpeg', 'hreflang': 'en-US', 'href': 'https://n5eil01u.ecs.nsidc.org/DP0/BRWS/Browse.001/2019.10.09/ATL09_20181018215530_03100101_002_01_BRW.profile_1.layer_flag_on_map.jpg'}, {'rel': 'http://esipfed.org/ns/fedsearch/1.1/browse#', 'type': 'image/jpeg', 'hreflang': 'en-US', 'href': 'https://n5eil01u.ecs.nsidc.org/DP0/BRWS/Browse.001/2019.10.09/ATL09_20181018215530_03100101_002_01_BRW.profile_1.layer_heights.jpg'}, {'rel': 'http://esipfed.org/ns/fedsearch/1.1/browse#', 'type': 'image/jpeg', 'hreflang': 'en-US', 'href': 'https://n5eil01u.ecs.nsidc.org/DP0/BRWS/Browse.001/2019.10.09/ATL09_20181018215530_03100101_002_01_BRW.profile_1.layer_heights_on_cab.jpg'}, {'rel': 'http://esipfed.org/ns/fedsearch/1.1/browse#', 'type': 'image/jpeg', 'hreflang': 'en-US', 'href': 'https://n5eil01u.ecs.nsidc.org/DP0/BRWS/Browse.001/2019.10.09/ATL09_20181018215530_03100101_002_01_BRW.profile_1.msw_flag_on_map.jpg'}, {'rel': 'http://esipfed.org/ns/fedsearch/1.1/browse#', 'type': 'image/jpeg', 'hreflang': 'en-US', 'href': 'https://n5eil01u.ecs.nsidc.org/DP0/BRWS/Browse.001/2019.10.09/ATL09_20181018215530_03100101_002_01_BRW.profile_1.ocean_surf_reflec.jpg'}, {'rel': 'http://esipfed.org/ns/fedsearch/1.1/browse#', 'type': 'image/jpeg', 'hreflang': 'en-US', 'href': 'https://n5eil01u.ecs.nsidc.org/DP0/BRWS/Browse.001/2019.10.09/ATL09_20181018215530_03100101_002_01_BRW.profile_2.apparent_surf_reflec.jpg'}, {'rel': 'http://esipfed.org/ns/fedsearch/1.1/browse#', 'type': 'image/jpeg', 'hreflang': 'en-US', 'href': 'https://n5eil01u.ecs.nsidc.org/DP0/BRWS/Browse.001/2019.10.09/ATL09_20181018215530_03100101_002_01_BRW.profile_2.cab_profile.jpg'}, {'rel': 'http://esipfed.org/ns/fedsearch/1.1/browse#', 'type': 'image/jpeg', 'hreflang': 'en-US', 'href': 'https://n5eil01u.ecs.nsidc.org/DP0/BRWS/Browse.001/2019.10.09/ATL09_20181018215530_03100101_002_01_BRW.profile_2.cloud_flag_asr_on_cab.jpg'}, {'rel': 'http://esipfed.org/ns/fedsearch/1.1/browse#', 'type': 'image/jpeg', 'hreflang': 'en-US', 'href': 'https://n5eil01u.ecs.nsidc.org/DP0/BRWS/Browse.001/2019.10.09/ATL09_20181018215530_03100101_002_01_BRW.profile_2.cloud_flag_asr_on_map.jpg'}, {'rel': 'http://esipfed.org/ns/fedsearch/1.1/browse#', 'type': 'image/jpeg', 'hreflang': 'en-US', 'href': 'https://n5eil01u.ecs.nsidc.org/DP0/BRWS/Browse.001/2019.10.09/ATL09_20181018215530_03100101_002_01_BRW.profile_2.cloud_flag_atm_on_map.jpg'}, {'rel': 'http://esipfed.org/ns/fedsearch/1.1/browse#', 'type': 'image/jpeg', 'hreflang': 'en-US', 'href': 'https://n5eil01u.ecs.nsidc.org/DP0/BRWS/Browse.001/2019.10.09/ATL09_20181018215530_03100101_002_01_BRW.profile_2.column_od_asr.jpg'}, {'rel': 'http://esipfed.org/ns/fedsearch/1.1/browse#', 'type': 'image/jpeg', 'hreflang': 'en-US', 'href': 'https://n5eil01u.ecs.nsidc.org/DP0/BRWS/Browse.001/2019.10.09/ATL09_20181018215530_03100101_002_01_BRW.profile_2.layer_flag_on_cab.jpg'}, {'rel': 'http://esipfed.org/ns/fedsearch/1.1/browse#', 'type': 'image/jpeg', 'hreflang': 'en-US', 'href': 'https://n5eil01u.ecs.nsidc.org/DP0/BRWS/Browse.001/2019.10.09/ATL09_20181018215530_03100101_002_01_BRW.profile_2.layer_flag_on_map.jpg'}, {'rel': 'http://esipfed.org/ns/fedsearch/1.1/browse#', 'type': 'image/jpeg', 'hreflang': 'en-US', 'href': 'https://n5eil01u.ecs.nsidc.org/DP0/BRWS/Browse.001/2019.10.09/ATL09_20181018215530_03100101_002_01_BRW.profile_2.layer_heights.jpg'}, {'rel': 'http://esipfed.org/ns/fedsearch/1.1/browse#', 'type': 'image/jpeg', 'hreflang': 'en-US', 'href': 'https://n5eil01u.ecs.nsidc.org/DP0/BRWS/Browse.001/2019.10.09/ATL09_20181018215530_03100101_002_01_BRW.profile_2.layer_heights_on_cab.jpg'}, {'rel': 'http://esipfed.org/ns/fedsearch/1.1/browse#', 'type': 'image/jpeg', 'hreflang': 'en-US', 'href': 'https://n5eil01u.ecs.nsidc.org/DP0/BRWS/Browse.001/2019.10.09/ATL09_20181018215530_03100101_002_01_BRW.profile_2.msw_flag_on_map.jpg'}, {'rel': 'http://esipfed.org/ns/fedsearch/1.1/browse#', 'type': 'image/jpeg', 'hreflang': 'en-US', 'href': 'https://n5eil01u.ecs.nsidc.org/DP0/BRWS/Browse.001/2019.10.09/ATL09_20181018215530_03100101_002_01_BRW.profile_2.ocean_surf_reflec.jpg'}, {'rel': 'http://esipfed.org/ns/fedsearch/1.1/browse#', 'type': 'image/jpeg', 'hreflang': 'en-US', 'href': 'https://n5eil01u.ecs.nsidc.org/DP0/BRWS/Browse.001/2019.10.09/ATL09_20181018215530_03100101_002_01_BRW.profile_3.apparent_surf_reflec.jpg'}, {'rel': 'http://esipfed.org/ns/fedsearch/1.1/browse#', 'type': 'image/jpeg', 'hreflang': 'en-US', 'href': 'https://n5eil01u.ecs.nsidc.org/DP0/BRWS/Browse.001/2019.10.09/ATL09_20181018215530_03100101_002_01_BRW.profile_3.cab_profile.jpg'}, {'rel': 'http://esipfed.org/ns/fedsearch/1.1/browse#', 'type': 'image/jpeg', 'hreflang': 'en-US', 'href': 'https://n5eil01u.ecs.nsidc.org/DP0/BRWS/Browse.001/2019.10.09/ATL09_20181018215530_03100101_002_01_BRW.profile_3.cloud_flag_asr_on_cab.jpg'}, {'rel': 'http://esipfed.org/ns/fedsearch/1.1/browse#', 'type': 'image/jpeg', 'hreflang': 'en-US', 'href': 'https://n5eil01u.ecs.nsidc.org/DP0/BRWS/Browse.001/2019.10.09/ATL09_20181018215530_03100101_002_01_BRW.profile_3.cloud_flag_asr_on_map.jpg'}, {'rel': 'http://esipfed.org/ns/fedsearch/1.1/browse#', 'type': 'image/jpeg', 'hreflang': 'en-US', 'href': 'https://n5eil01u.ecs.nsidc.org/DP0/BRWS/Browse.001/2019.10.09/ATL09_20181018215530_03100101_002_01_BRW.profile_3.cloud_flag_atm_on_map.jpg'}, {'rel': 'http://esipfed.org/ns/fedsearch/1.1/browse#', 'type': 'image/jpeg', 'hreflang': 'en-US', 'href': 'https://n5eil01u.ecs.nsidc.org/DP0/BRWS/Browse.001/2019.10.09/ATL09_20181018215530_03100101_002_01_BRW.profile_3.column_od_asr.jpg'}, {'rel': 'http://esipfed.org/ns/fedsearch/1.1/browse#', 'type': 'image/jpeg', 'hreflang': 'en-US', 'href': 'https://n5eil01u.ecs.nsidc.org/DP0/BRWS/Browse.001/2019.10.09/ATL09_20181018215530_03100101_002_01_BRW.profile_3.layer_flag_on_cab.jpg'}, {'rel': 'http://esipfed.org/ns/fedsearch/1.1/browse#', 'type': 'image/jpeg', 'hreflang': 'en-US', 'href': 'https://n5eil01u.ecs.nsidc.org/DP0/BRWS/Browse.001/2019.10.09/ATL09_20181018215530_03100101_002_01_BRW.profile_3.layer_flag_on_map.jpg'}, {'rel': 'http://esipfed.org/ns/fedsearch/1.1/browse#', 'type': 'image/jpeg', 'hreflang': 'en-US', 'href': 'https://n5eil01u.ecs.nsidc.org/DP0/BRWS/Browse.001/2019.10.09/ATL09_20181018215530_03100101_002_01_BRW.profile_3.layer_heights.jpg'}, {'rel': 'http://esipfed.org/ns/fedsearch/1.1/browse#', 'type': 'image/jpeg', 'hreflang': 'en-US', 'href': 'https://n5eil01u.ecs.nsidc.org/DP0/BRWS/Browse.001/2019.10.09/ATL09_20181018215530_03100101_002_01_BRW.profile_3.layer_heights_on_cab.jpg'}, {'rel': 'http://esipfed.org/ns/fedsearch/1.1/browse#', 'type': 'image/jpeg', 'hreflang': 'en-US', 'href': 'https://n5eil01u.ecs.nsidc.org/DP0/BRWS/Browse.001/2019.10.09/ATL09_20181018215530_03100101_002_01_BRW.profile_3.msw_flag_on_map.jpg'}, {'rel': 'http://esipfed.org/ns/fedsearch/1.1/browse#', 'type': 'image/jpeg', 'hreflang': 'en-US', 'href': 'https://n5eil01u.ecs.nsidc.org/DP0/BRWS/Browse.001/2019.10.09/ATL09_20181018215530_03100101_002_01_BRW.profile_3.ocean_surf_reflec.jpg'}, {'rel': 'http://esipfed.org/ns/fedsearch/1.1/metadata#', 'type': 'text/xml', 'hreflang': 'en-US', 'href': 'https://n5eil01u.ecs.nsidc.org/DP7/ATLAS/ATL09.002/2018.10.18/ATL09_20181018215530_03100101_002_01.iso.xml'}, {'inherited': True, 'length': '0.0KB', 'rel': 'http://esipfed.org/ns/fedsearch/1.1/data#', 'hreflang': 'en-US', 'href': 'https://n5eil01u.ecs.nsidc.org/ATLAS/ATL09.002/'}, {'inherited': True, 'length': '0.0KB', 'rel': 'http://esipfed.org/ns/fedsearch/1.1/data#', 'hreflang': 'en-US', 'href': 'https://search.earthdata.nasa.gov/search/granules?p=C1631076797-NSIDC_ECS&q=atl09&m=-87.46352300590473!-3.4486083984375004!1!1!0!0%2C2&tl=1555860221!4!!'}, {'inherited': True, 'rel': 'http://esipfed.org/ns/fedsearch/1.1/metadata#', 'hreflang': 'en-US', 'href': 'https://doi.org/10.5067/ATLAS/ATL09.002'}, {'inherited': True, 'rel': 'http://esipfed.org/ns/fedsearch/1.1/documentation#', 'hreflang': 'en-US', 'href': 'https://doi.org/10.5067/ATLAS/ATL09.002'}]}, {'producer_granule_id': 'ATL09_20181018232947_03110101_002_01.h5', 'time_start': '2018-10-18T23:29:48.000Z', 'orbit': {'ascending_crossing': '-122.11652525848987', 'start_lat': '0', 'start_direction': 'A', 'end_lat': '0', 'end_direction': 'A'}, 'updated': '2019-12-18T06:31:11.425Z', 'orbit_calculated_spatial_domains': [{'equator_crossing_date_time': '2018-10-18T23:29:47.659Z', 'equator_crossing_longitude': '-122.11652525848987', 'orbit_number': '512'}], 'dataset_id': 'ATLAS/ICESat-2 L3A Calibrated Backscatter Profiles and Atmospheric Layer Characteristics V002', 'data_center': 'NSIDC_ECS', 'title': 'SC:ATL09.002:166041375', 'coordinate_system': 'ORBIT', 'time_end': '2018-10-19T01:04:05.000Z', 'id': 'G1706542763-NSIDC_ECS', 'original_format': 'ISO-SMAP', 'granule_size': '2318.7401008606', 'browse_flag': True, 'polygons': [['0.057941837770383794 -122.28478263899703 19.135489609110305 -124.23650223188892 38.20883784985154 -126.40221786210377 57.26854821957185 -129.28527330189303 76.25526268312738 -136.0184231773792 84.07842035233796 72.98143620706745 65.30597549049786 55.1239344433476 46.26114162606862 51.45525035487684 27.19161423704892 49.089509540082915 8.115268210851323 47.07832086161921 -10.962998738498452 45.15680939152366 -30.040292429864152 43.159430129119905 -49.112160691769134 40.815658902512304 -68.16154223351249 37.06749741175956 -86.75422812743926 5.920150247184466 -73.48678157208434 -134.6799242444174 -54.456211673381866 -139.59815985946133 -35.38762839486189 -142.1481392715579 -16.311228202544413 -144.20404777476904 0.0325040585621419 -145.85472760452265 0.04380928577819535 -145.53098782292304 -16.299449216850046 -143.8667588676848 -35.37376244756542 -141.75119181295432 -54.436768949888645 -139.04205589718782 -73.4470540249682 -133.5501566468348 -86.56034097743358 1.4665907122830344 -68.13117119099505 36.201079204940626 -49.09489274709803 40.32157020587272 -30.027233835740763 42.78555647207381 -10.951483584558067 44.827065606891736 8.12668795270631 46.75130585647824 27.204324840501627 48.72558347851533 46.27749592132593 50.98723542875276 65.33305013496643 54.350853931585355 84.18903142022057 70.00204332014607 76.30292531550062 -134.66754264695624 57.28946257218784 -128.68724710532166 38.22322687558885 -125.9903249724714 19.14745645929776 -123.89384113999148 0.06924706944323258 -121.9610427299266 0.057941837770383794 -122.28478263899703']], 'collection_concept_id': 'C1631076797-NSIDC_ECS', 'online_access_flag': True, 'links': [{'rel': 'http://esipfed.org/ns/fedsearch/1.1/data#', 'type': 'application/x-hdfeos', 'hreflang': 'en-US', 'href': 'https://n5eil01u.ecs.nsidc.org/DP7/ATLAS/ATL09.002/2018.10.18/ATL09_20181018232947_03110101_002_01.h5'}, {'rel': 'http://esipfed.org/ns/fedsearch/1.1/browse#', 'type': 'image/jpeg', 'hreflang': 'en-US', 'href': 'https://n5eil01u.ecs.nsidc.org/DP0/BRWS/Browse.001/2019.10.09/ATL09_20181018232947_03110101_002_01_BRW.default.default1.jpg'}, {'rel': 'http://esipfed.org/ns/fedsearch/1.1/browse#', 'type': 'image/jpeg', 'hreflang': 'en-US', 'href': 'https://n5eil01u.ecs.nsidc.org/DP0/BRWS/Browse.001/2019.10.09/ATL09_20181018232947_03110101_002_01_BRW.default.default2.jpg'}, {'rel': 'http://esipfed.org/ns/fedsearch/1.1/browse#', 'type': 'image/jpeg', 'hreflang': 'en-US', 'href': 'https://n5eil01u.ecs.nsidc.org/DP0/BRWS/Browse.001/2019.10.09/ATL09_20181018232947_03110101_002_01_BRW.profile_1.apparent_surf_reflec.jpg'}, {'rel': 'http://esipfed.org/ns/fedsearch/1.1/browse#', 'type': 'image/jpeg', 'hreflang': 'en-US', 'href': 'https://n5eil01u.ecs.nsidc.org/DP0/BRWS/Browse.001/2019.10.09/ATL09_20181018232947_03110101_002_01_BRW.profile_1.cab_profile.jpg'}, {'rel': 'http://esipfed.org/ns/fedsearch/1.1/browse#', 'type': 'image/jpeg', 'hreflang': 'en-US', 'href': 'https://n5eil01u.ecs.nsidc.org/DP0/BRWS/Browse.001/2019.10.09/ATL09_20181018232947_03110101_002_01_BRW.profile_1.cloud_flag_asr_on_cab.jpg'}, {'rel': 'http://esipfed.org/ns/fedsearch/1.1/browse#', 'type': 'image/jpeg', 'hreflang': 'en-US', 'href': 'https://n5eil01u.ecs.nsidc.org/DP0/BRWS/Browse.001/2019.10.09/ATL09_20181018232947_03110101_002_01_BRW.profile_1.cloud_flag_asr_on_map.jpg'}, {'rel': 'http://esipfed.org/ns/fedsearch/1.1/browse#', 'type': 'image/jpeg', 'hreflang': 'en-US', 'href': 'https://n5eil01u.ecs.nsidc.org/DP0/BRWS/Browse.001/2019.10.09/ATL09_20181018232947_03110101_002_01_BRW.profile_1.cloud_flag_atm_on_map.jpg'}, {'rel': 'http://esipfed.org/ns/fedsearch/1.1/browse#', 'type': 'image/jpeg', 'hreflang': 'en-US', 'href': 'https://n5eil01u.ecs.nsidc.org/DP0/BRWS/Browse.001/2019.10.09/ATL09_20181018232947_03110101_002_01_BRW.profile_1.column_od_asr.jpg'}, {'rel': 'http://esipfed.org/ns/fedsearch/1.1/browse#', 'type': 'image/jpeg', 'hreflang': 'en-US', 'href': 'https://n5eil01u.ecs.nsidc.org/DP0/BRWS/Browse.001/2019.10.09/ATL09_20181018232947_03110101_002_01_BRW.profile_1.layer_flag_on_cab.jpg'}, {'rel': 'http://esipfed.org/ns/fedsearch/1.1/browse#', 'type': 'image/jpeg', 'hreflang': 'en-US', 'href': 'https://n5eil01u.ecs.nsidc.org/DP0/BRWS/Browse.001/2019.10.09/ATL09_20181018232947_03110101_002_01_BRW.profile_1.layer_flag_on_map.jpg'}, {'rel': 'http://esipfed.org/ns/fedsearch/1.1/browse#', 'type': 'image/jpeg', 'hreflang': 'en-US', 'href': 'https://n5eil01u.ecs.nsidc.org/DP0/BRWS/Browse.001/2019.10.09/ATL09_20181018232947_03110101_002_01_BRW.profile_1.layer_heights.jpg'}, {'rel': 'http://esipfed.org/ns/fedsearch/1.1/browse#', 'type': 'image/jpeg', 'hreflang': 'en-US', 'href': 'https://n5eil01u.ecs.nsidc.org/DP0/BRWS/Browse.001/2019.10.09/ATL09_20181018232947_03110101_002_01_BRW.profile_1.layer_heights_on_cab.jpg'}, {'rel': 'http://esipfed.org/ns/fedsearch/1.1/browse#', 'type': 'image/jpeg', 'hreflang': 'en-US', 'href': 'https://n5eil01u.ecs.nsidc.org/DP0/BRWS/Browse.001/2019.10.09/ATL09_20181018232947_03110101_002_01_BRW.profile_1.msw_flag_on_map.jpg'}, {'rel': 'http://esipfed.org/ns/fedsearch/1.1/browse#', 'type': 'image/jpeg', 'hreflang': 'en-US', 'href': 'https://n5eil01u.ecs.nsidc.org/DP0/BRWS/Browse.001/2019.10.09/ATL09_20181018232947_03110101_002_01_BRW.profile_1.ocean_surf_reflec.jpg'}, {'rel': 'http://esipfed.org/ns/fedsearch/1.1/browse#', 'type': 'image/jpeg', 'hreflang': 'en-US', 'href': 'https://n5eil01u.ecs.nsidc.org/DP0/BRWS/Browse.001/2019.10.09/ATL09_20181018232947_03110101_002_01_BRW.profile_2.apparent_surf_reflec.jpg'}, {'rel': 'http://esipfed.org/ns/fedsearch/1.1/browse#', 'type': 'image/jpeg', 'hreflang': 'en-US', 'href': 'https://n5eil01u.ecs.nsidc.org/DP0/BRWS/Browse.001/2019.10.09/ATL09_20181018232947_03110101_002_01_BRW.profile_2.cab_profile.jpg'}, {'rel': 'http://esipfed.org/ns/fedsearch/1.1/browse#', 'type': 'image/jpeg', 'hreflang': 'en-US', 'href': 'https://n5eil01u.ecs.nsidc.org/DP0/BRWS/Browse.001/2019.10.09/ATL09_20181018232947_03110101_002_01_BRW.profile_2.cloud_flag_asr_on_cab.jpg'}, {'rel': 'http://esipfed.org/ns/fedsearch/1.1/browse#', 'type': 'image/jpeg', 'hreflang': 'en-US', 'href': 'https://n5eil01u.ecs.nsidc.org/DP0/BRWS/Browse.001/2019.10.09/ATL09_20181018232947_03110101_002_01_BRW.profile_2.cloud_flag_asr_on_map.jpg'}, {'rel': 'http://esipfed.org/ns/fedsearch/1.1/browse#', 'type': 'image/jpeg', 'hreflang': 'en-US', 'href': 'https://n5eil01u.ecs.nsidc.org/DP0/BRWS/Browse.001/2019.10.09/ATL09_20181018232947_03110101_002_01_BRW.profile_2.cloud_flag_atm_on_map.jpg'}, {'rel': 'http://esipfed.org/ns/fedsearch/1.1/browse#', 'type': 'image/jpeg', 'hreflang': 'en-US', 'href': 'https://n5eil01u.ecs.nsidc.org/DP0/BRWS/Browse.001/2019.10.09/ATL09_20181018232947_03110101_002_01_BRW.profile_2.column_od_asr.jpg'}, {'rel': 'http://esipfed.org/ns/fedsearch/1.1/browse#', 'type': 'image/jpeg', 'hreflang': 'en-US', 'href': 'https://n5eil01u.ecs.nsidc.org/DP0/BRWS/Browse.001/2019.10.09/ATL09_20181018232947_03110101_002_01_BRW.profile_2.layer_flag_on_cab.jpg'}, {'rel': 'http://esipfed.org/ns/fedsearch/1.1/browse#', 'type': 'image/jpeg', 'hreflang': 'en-US', 'href': 'https://n5eil01u.ecs.nsidc.org/DP0/BRWS/Browse.001/2019.10.09/ATL09_20181018232947_03110101_002_01_BRW.profile_2.layer_flag_on_map.jpg'}, {'rel': 'http://esipfed.org/ns/fedsearch/1.1/browse#', 'type': 'image/jpeg', 'hreflang': 'en-US', 'href': 'https://n5eil01u.ecs.nsidc.org/DP0/BRWS/Browse.001/2019.10.09/ATL09_20181018232947_03110101_002_01_BRW.profile_2.layer_heights.jpg'}, {'rel': 'http://esipfed.org/ns/fedsearch/1.1/browse#', 'type': 'image/jpeg', 'hreflang': 'en-US', 'href': 'https://n5eil01u.ecs.nsidc.org/DP0/BRWS/Browse.001/2019.10.09/ATL09_20181018232947_03110101_002_01_BRW.profile_2.layer_heights_on_cab.jpg'}, {'rel': 'http://esipfed.org/ns/fedsearch/1.1/browse#', 'type': 'image/jpeg', 'hreflang': 'en-US', 'href': 'https://n5eil01u.ecs.nsidc.org/DP0/BRWS/Browse.001/2019.10.09/ATL09_20181018232947_03110101_002_01_BRW.profile_2.msw_flag_on_map.jpg'}, {'rel': 'http://esipfed.org/ns/fedsearch/1.1/browse#', 'type': 'image/jpeg', 'hreflang': 'en-US', 'href': 'https://n5eil01u.ecs.nsidc.org/DP0/BRWS/Browse.001/2019.10.09/ATL09_20181018232947_03110101_002_01_BRW.profile_2.ocean_surf_reflec.jpg'}, {'rel': 'http://esipfed.org/ns/fedsearch/1.1/browse#', 'type': 'image/jpeg', 'hreflang': 'en-US', 'href': 'https://n5eil01u.ecs.nsidc.org/DP0/BRWS/Browse.001/2019.10.09/ATL09_20181018232947_03110101_002_01_BRW.profile_3.apparent_surf_reflec.jpg'}, {'rel': 'http://esipfed.org/ns/fedsearch/1.1/browse#', 'type': 'image/jpeg', 'hreflang': 'en-US', 'href': 'https://n5eil01u.ecs.nsidc.org/DP0/BRWS/Browse.001/2019.10.09/ATL09_20181018232947_03110101_002_01_BRW.profile_3.cab_profile.jpg'}, {'rel': 'http://esipfed.org/ns/fedsearch/1.1/browse#', 'type': 'image/jpeg', 'hreflang': 'en-US', 'href': 'https://n5eil01u.ecs.nsidc.org/DP0/BRWS/Browse.001/2019.10.09/ATL09_20181018232947_03110101_002_01_BRW.profile_3.cloud_flag_asr_on_cab.jpg'}, {'rel': 'http://esipfed.org/ns/fedsearch/1.1/browse#', 'type': 'image/jpeg', 'hreflang': 'en-US', 'href': 'https://n5eil01u.ecs.nsidc.org/DP0/BRWS/Browse.001/2019.10.09/ATL09_20181018232947_03110101_002_01_BRW.profile_3.cloud_flag_asr_on_map.jpg'}, {'rel': 'http://esipfed.org/ns/fedsearch/1.1/browse#', 'type': 'image/jpeg', 'hreflang': 'en-US', 'href': 'https://n5eil01u.ecs.nsidc.org/DP0/BRWS/Browse.001/2019.10.09/ATL09_20181018232947_03110101_002_01_BRW.profile_3.cloud_flag_atm_on_map.jpg'}, {'rel': 'http://esipfed.org/ns/fedsearch/1.1/browse#', 'type': 'image/jpeg', 'hreflang': 'en-US', 'href': 'https://n5eil01u.ecs.nsidc.org/DP0/BRWS/Browse.001/2019.10.09/ATL09_20181018232947_03110101_002_01_BRW.profile_3.column_od_asr.jpg'}, {'rel': 'http://esipfed.org/ns/fedsearch/1.1/browse#', 'type': 'image/jpeg', 'hreflang': 'en-US', 'href': 'https://n5eil01u.ecs.nsidc.org/DP0/BRWS/Browse.001/2019.10.09/ATL09_20181018232947_03110101_002_01_BRW.profile_3.layer_flag_on_cab.jpg'}, {'rel': 'http://esipfed.org/ns/fedsearch/1.1/browse#', 'type': 'image/jpeg', 'hreflang': 'en-US', 'href': 'https://n5eil01u.ecs.nsidc.org/DP0/BRWS/Browse.001/2019.10.09/ATL09_20181018232947_03110101_002_01_BRW.profile_3.layer_flag_on_map.jpg'}, {'rel': 'http://esipfed.org/ns/fedsearch/1.1/browse#', 'type': 'image/jpeg', 'hreflang': 'en-US', 'href': 'https://n5eil01u.ecs.nsidc.org/DP0/BRWS/Browse.001/2019.10.09/ATL09_20181018232947_03110101_002_01_BRW.profile_3.layer_heights.jpg'}, {'rel': 'http://esipfed.org/ns/fedsearch/1.1/browse#', 'type': 'image/jpeg', 'hreflang': 'en-US', 'href': 'https://n5eil01u.ecs.nsidc.org/DP0/BRWS/Browse.001/2019.10.09/ATL09_20181018232947_03110101_002_01_BRW.profile_3.layer_heights_on_cab.jpg'}, {'rel': 'http://esipfed.org/ns/fedsearch/1.1/browse#', 'type': 'image/jpeg', 'hreflang': 'en-US', 'href': 'https://n5eil01u.ecs.nsidc.org/DP0/BRWS/Browse.001/2019.10.09/ATL09_20181018232947_03110101_002_01_BRW.profile_3.msw_flag_on_map.jpg'}, {'rel': 'http://esipfed.org/ns/fedsearch/1.1/browse#', 'type': 'image/jpeg', 'hreflang': 'en-US', 'href': 'https://n5eil01u.ecs.nsidc.org/DP0/BRWS/Browse.001/2019.10.09/ATL09_20181018232947_03110101_002_01_BRW.profile_3.ocean_surf_reflec.jpg'}, {'rel': 'http://esipfed.org/ns/fedsearch/1.1/metadata#', 'type': 'text/xml', 'hreflang': 'en-US', 'href': 'https://n5eil01u.ecs.nsidc.org/DP7/ATLAS/ATL09.002/2018.10.18/ATL09_20181018232947_03110101_002_01.iso.xml'}, {'inherited': True, 'length': '0.0KB', 'rel': 'http://esipfed.org/ns/fedsearch/1.1/data#', 'hreflang': 'en-US', 'href': 'https://n5eil01u.ecs.nsidc.org/ATLAS/ATL09.002/'}, {'inherited': True, 'length': '0.0KB', 'rel': 'http://esipfed.org/ns/fedsearch/1.1/data#', 'hreflang': 'en-US', 'href': 'https://search.earthdata.nasa.gov/search/granules?p=C1631076797-NSIDC_ECS&q=atl09&m=-87.46352300590473!-3.4486083984375004!1!1!0!0%2C2&tl=1555860221!4!!'}, {'inherited': True, 'rel': 'http://esipfed.org/ns/fedsearch/1.1/metadata#', 'hreflang': 'en-US', 'href': 'https://doi.org/10.5067/ATLAS/ATL09.002'}, {'inherited': True, 'rel': 'http://esipfed.org/ns/fedsearch/1.1/documentation#', 'hreflang': 'en-US', 'href': 'https://doi.org/10.5067/ATLAS/ATL09.002'}]}]}}\n",
      "{'feed': {'updated': '2020-04-15T00:42:27.889Z', 'id': 'https://cmr.earthdata.nasa.gov:443/search/granules.json?short_name=ATL09&version=002&temporal=2018-10-18T00%3A00%3A00Z%2C2018-10-18T23%3A59%3A59Z&bounding_box=-180%2C60%2C180%2C90&page_size=10&page_num=3', 'title': 'ECHO granule metadata', 'entry': []}}\n",
      "Order:  1\n",
      "[]\n",
      "Request HTTP response:  201\n",
      "Order request URL:  https://n5eil02u.ecs.nsidc.org/egi/request?short_name=ATL09&version=002&temporal=2018-10-18T00%3A00%3A00Z%2C2018-10-18T23%3A59%3A59Z&bounding_box=-180%2C60%2C180%2C90&email=liuzheng%40apl.uw.edu&token=15E1BE89-D6FB-A1BA-DB4D-E2433D4E14D5&page_size=10&page_num=1&request_mode=async&include_meta=Y&time=2018-10-18T00%3A00%3A00%2C2018-10-18T23%3A59%3A59&bbox=-180%2C60%2C180%2C90&Coverage=%2Forbit_info%2Fsc_orient%2C%2Fancillary_data%2Fatlas_sdp_gps_epoch%2C%2Fancillary_data%2Fdata_start_utc%2C%2Fancillary_data%2Fdata_end_utc%2C%2Fancillary_data%2Fgranule_start_utc%2C%2Fancillary_data%2Fgranule_end_utc%2C%2Fancillary_data%2Fstart_delta_time%2C%2Fancillary_data%2Fend_delta_time%2C%2Fprofile_2%2Fhigh_rate%2Fdelta_time%2C%2Fprofile_2%2Fhigh_rate%2Flatitude%2C%2Fprofile_2%2Fhigh_rate%2Flongitude%2C%2Fprofile_2%2Fhigh_rate%2Fbsnow_h%2C%2Fprofile_2%2Fhigh_rate%2Fbsnow_dens%2C%2Fprofile_2%2Fhigh_rate%2Fbsnow_con%2C%2Fprofile_2%2Fhigh_rate%2Fbsnow_psc%2C%2Fprofile_2%2Fhigh_rate%2Fbsnow_od%2C%2Fprofile_2%2Fhigh_rate%2Fcloud_flag_asr%2C%2Fprofile_2%2Fhigh_rate%2Fcloud_fold_flag%2C%2Fprofile_2%2Fhigh_rate%2Fcloud_flag_atm%2C%2Fprofile_2%2Fhigh_rate%2Fcolumn_od_asr%2C%2Fprofile_2%2Fhigh_rate%2Fcolumn_od_asr_qf%2C%2Fprofile_2%2Fhigh_rate%2Flayer_attr%2C%2Fprofile_2%2Fhigh_rate%2Flayer_bot%2C%2Fprofile_2%2Fhigh_rate%2Flayer_top%2C%2Fprofile_2%2Fhigh_rate%2Flayer_flag%2C%2Fprofile_2%2Fhigh_rate%2Flayer_dens%2C%2Fprofile_2%2Fhigh_rate%2Flayer_ib%2C%2Fprofile_2%2Fhigh_rate%2Fmsw_flag%2C%2Fprofile_2%2Fhigh_rate%2Fprof_dist_x%2C%2Fprofile_2%2Fhigh_rate%2Fprof_dist_y%2C%2Fprofile_2%2Fhigh_rate%2Fapparent_surf_reflec%2C%2Forbit_info%2Forbit_number%2C%2Forbit_info%2Fcycle_number%2C%2Forbit_info%2Frgt\n",
      "Order request URL:  https://n5eil02u.ecs.nsidc.org/egi/request?short_name=ATL09&version=002&temporal=2018-10-18T00%3A00%3A00Z%2C2018-10-18T23%3A59%3A59Z&bounding_box=-180%2C60%2C180%2C90&email=liuzheng%40apl.uw.edu&token=15E1BE89-D6FB-A1BA-DB4D-E2433D4E14D5&page_size=10&page_num=1&request_mode=async&include_meta=Y&time=2018-10-18T00%3A00%3A00%2C2018-10-18T23%3A59%3A59&bbox=-180%2C60%2C180%2C90&Coverage=%2Forbit_info%2Fsc_orient%2C%2Fancillary_data%2Fatlas_sdp_gps_epoch%2C%2Fancillary_data%2Fdata_start_utc%2C%2Fancillary_data%2Fdata_end_utc%2C%2Fancillary_data%2Fgranule_start_utc%2C%2Fancillary_data%2Fgranule_end_utc%2C%2Fancillary_data%2Fstart_delta_time%2C%2Fancillary_data%2Fend_delta_time%2C%2Fprofile_2%2Fhigh_rate%2Fdelta_time%2C%2Fprofile_2%2Fhigh_rate%2Flatitude%2C%2Fprofile_2%2Fhigh_rate%2Flongitude%2C%2Fprofile_2%2Fhigh_rate%2Fbsnow_h%2C%2Fprofile_2%2Fhigh_rate%2Fbsnow_dens%2C%2Fprofile_2%2Fhigh_rate%2Fbsnow_con%2C%2Fprofile_2%2Fhigh_rate%2Fbsnow_psc%2C%2Fprofile_2%2Fhigh_rate%2Fbsnow_od%2C%2Fprofile_2%2Fhigh_rate%2Fcloud_flag_asr%2C%2Fprofile_2%2Fhigh_rate%2Fcloud_fold_flag%2C%2Fprofile_2%2Fhigh_rate%2Fcloud_flag_atm%2C%2Fprofile_2%2Fhigh_rate%2Fcolumn_od_asr%2C%2Fprofile_2%2Fhigh_rate%2Fcolumn_od_asr_qf%2C%2Fprofile_2%2Fhigh_rate%2Flayer_attr%2C%2Fprofile_2%2Fhigh_rate%2Flayer_bot%2C%2Fprofile_2%2Fhigh_rate%2Flayer_top%2C%2Fprofile_2%2Fhigh_rate%2Flayer_flag%2C%2Fprofile_2%2Fhigh_rate%2Flayer_dens%2C%2Fprofile_2%2Fhigh_rate%2Flayer_ib%2C%2Fprofile_2%2Fhigh_rate%2Fmsw_flag%2C%2Fprofile_2%2Fhigh_rate%2Fprof_dist_x%2C%2Fprofile_2%2Fhigh_rate%2Fprof_dist_y%2C%2Fprofile_2%2Fhigh_rate%2Fapparent_surf_reflec%2C%2Forbit_info%2Forbit_number%2C%2Forbit_info%2Fcycle_number%2C%2Forbit_info%2Frgt\n",
      "Order request response XML content:  b'<?xml version=\"1.0\" encoding=\"UTF-8\" standalone=\"yes\"?>\\n<eesi:agentResponse xsi:schemaLocation=\"http://eosdis.nasa.gov/esi/rsp/e https://newsroom.gsfc.nasa.gov/esi/8.1/schemas/ESIAgentResponseExternal.xsd\" xmlns=\"\" xmlns:iesi=\"http://eosdis.nasa.gov/esi/rsp/i\" xmlns:ssw=\"http://newsroom.gsfc.nasa.gov/esi/rsp/ssw\" xmlns:eesi=\"http://eosdis.nasa.gov/esi/rsp/e\" xmlns:esi=\"http://eosdis.nasa.gov/esi/rsp\" xmlns:xsi=\"http://www.w3.org/2001/XMLSchema-instance\">\\n    <order>\\n        <orderId>5000000561905</orderId>\\n        <Instructions>You may receive an email about your order if you specified an EMAIL address. &lt;br/&gt;&lt;br/&gt;The instructions used to process this order are:  Include metadata and processing history=Y. Bounding Box(es)=-180,60,180,90. Band(s)=/orbit_info/sc_orient,/ancillary_data/atlas_sdp_gps_epoch,/ancillary_data/data_start_utc,/ancillary_data/data_end_utc,/ancillary_data/granule_start_utc,/ancillary_data/granule_end_utc,/ancillary_data/start_delta_time,/ancillary_data/end_delta_time,/profile_2/high_rate/delta_time,/profile_2/high_rate/latitude,/profile_2/high_rate/longitude,/profile_2/high_rate/bsnow_h,/profile_2/high_rate/bsnow_dens,/profile_2/high_rate/bsnow_con,/profile_2/high_rate/bsnow_psc,/profile_2/high_rate/bsnow_od,/profile_2/high_rate/cloud_flag_asr,/profile_2/high_rate/cloud_fold_flag,/profile_2/high_rate/cloud_flag_atm,/profile_2/high_rate/column_od_asr,/profile_2/high_rate/column_od_asr_qf,/profile_2/high_rate/layer_attr,/profile_2/high_rate/layer_bot,/profile_2/high_rate/layer_top,/profile_2/high_rate/layer_flag,/profile_2/high_rate/layer_dens,/profile_2/high_rate/layer_ib,/profile_2/high_rate/msw_flag,/profile_2/high_rate/prof_dist_x,/profile_2/high_rate/prof_dist_y,/profile_2/high_rate/apparent_surf_reflec,/orbit_info/orbit_number,/orbit_info/cycle_number,/orbit_info/rgt. Granule id(s)=SC:ATL09.002:166040943,SC:ATL09.002:166040819,SC:ATL09.002:166040795,SC:ATL09.002:166040841,SC:ATL09.002:166040772,SC:ATL09.002:166041204,SC:ATL09.002:166041397,SC:ATL09.002:166041288,SC:ATL09.002:166041380,SC:ATL09.002:166041362. Temporal search start=2018-10-18T00:00:00 end=2018-10-18T23:59:59. Email address=liuzheng@apl.uw.edu. Processing tool=ICESAT2.</Instructions>\\n    </order>\\n    <contactInformation>\\n        <contactName>NSIDC User Services</contactName>\\n        <contactEmail>nsidc@nsidc.org</contactEmail>\\n    </contactInformation>\\n    <processInfo>\\n        <processDuration>PT0.113S</processDuration>\\n        <subagentId>ICESAT2</subagentId>\\n    </processInfo>\\n    <requestStatus>\\n        <status>processing</status>\\n        <numberProcessed>0</numberProcessed>\\n        <totalNumber>10</totalNumber>\\n    </requestStatus>\\n</eesi:agentResponse>\\n'\n",
      "<Element 'orderId' at 0x7f01bcb07950>\n",
      "<Element 'Instructions' at 0x7f01bcb071d0>\n",
      "order ID:  5000000561905\n",
      "status URL:  https://n5eil02u.ecs.nsidc.org/egi/request/5000000561905\n",
      "HTTP response from order response URL:  201\n",
      "Data request  1  is submitting...\n",
      "Initial request status is  processing\n",
      "Status is not complete. Trying again.\n",
      "Retry request status is:  complete_with_errors\n",
      "error messages:\n",
      "['166040795:NoMatchingData - No data found that matched subset constraints. '\n",
      " 'Exit code 3.',\n",
      " 'PT1.816S',\n",
      " 'ICESAT2']\n"
     ]
    }
   ],
   "source": [
    "region_a.order_granules(verbose=True)"
   ]
  },
  {
   "cell_type": "code",
   "execution_count": 34,
   "metadata": {},
   "outputs": [],
   "source": [
    "oidfn = 'orderID.json'\n",
    "with open(oidfn,'w') as fid:\n",
    "    json.dump({'orderID': region_a.orderIDs},fid)"
   ]
  },
  {
   "cell_type": "code",
   "execution_count": 35,
   "metadata": {},
   "outputs": [],
   "source": [
    "with open(oidfn,'r') as fid:\n",
    "    ndict = json.load(fid)"
   ]
  },
  {
   "cell_type": "code",
   "execution_count": null,
   "metadata": {},
   "outputs": [],
   "source": []
  },
  {
   "cell_type": "code",
   "execution_count": null,
   "metadata": {},
   "outputs": [],
   "source": []
  },
  {
   "cell_type": "code",
   "execution_count": null,
   "metadata": {},
   "outputs": [],
   "source": []
  },
  {
   "cell_type": "code",
   "execution_count": null,
   "metadata": {},
   "outputs": [],
   "source": []
  },
  {
   "cell_type": "code",
   "execution_count": null,
   "metadata": {},
   "outputs": [],
   "source": []
  },
  {
   "cell_type": "code",
   "execution_count": 30,
   "metadata": {},
   "outputs": [
    {
     "name": "stdout",
     "output_type": "stream",
     "text": [
      "Beginning download of zipped output...\n",
      "Data request 5000000561892 of  2  order(s) is complete.\n",
      "Beginning download of zipped output...\n",
      "Data request 5000000561905 of  2  order(s) is complete.\n"
     ]
    }
   ],
   "source": [
    "region_a.download_granules(session,'down')"
   ]
  },
  {
   "cell_type": "code",
   "execution_count": 32,
   "metadata": {},
   "outputs": [],
   "source": [
    "\n",
    "old_dir = 'down'\n",
    "new_dir = 'ATL09/profile_2/'\n",
    "for root, dirs, files in os.walk(old_dir, topdown=False):\n",
    "    for file in files:\n",
    "        try:\n",
    "            shutil.move(os.path.join(root, file), new_dir)\n",
    "        except OSError:\n",
    "            pass\n",
    "        \n",
    "for root, dirs, files in os.walk(old_dir):\n",
    "    for name in dirs:\n",
    "        os.rmdir(os.path.join(root, name))"
   ]
  },
  {
   "cell_type": "code",
   "execution_count": 8,
   "metadata": {},
   "outputs": [
    {
     "data": {
      "text/plain": [
       "['down/166041204/processed_ATL09_20181018092110_03020101_002_01.h5',\n",
       " 'down/166041288/processed_ATL09_20181018122945_03040101_002_01.h5',\n",
       " 'down/166040841/processed_ATL09_20181018061236_03000101_002_01.h5',\n",
       " 'down/166040772/processed_ATL09_20181018074653_03010101_002_01.h5',\n",
       " 'down/166040943/processed_ATL09_20181017235527_02960101_002_01.h5',\n",
       " 'down/166041397/processed_ATL09_20181018105528_03030101_002_01.h5',\n",
       " 'down/166041362/processed_ATL09_20181018153820_03060101_002_01.h5',\n",
       " 'down/166041380/processed_ATL09_20181018140403_03050101_002_01.h5',\n",
       " 'down/166040819/processed_ATL09_20181018012943_02970101_002_01.h5']"
      ]
     },
     "execution_count": 8,
     "metadata": {},
     "output_type": "execute_result"
    }
   ],
   "source": [
    "allfiles"
   ]
  },
  {
   "cell_type": "code",
   "execution_count": null,
   "metadata": {},
   "outputs": [],
   "source": []
  },
  {
   "cell_type": "code",
   "execution_count": null,
   "metadata": {},
   "outputs": [],
   "source": []
  },
  {
   "cell_type": "code",
   "execution_count": null,
   "metadata": {},
   "outputs": [],
   "source": []
  },
  {
   "cell_type": "markdown",
   "metadata": {},
   "source": [
    "#### Test 2:\n",
    "Add ```latitude``` for profile 2 and overwrite"
   ]
  },
  {
   "cell_type": "code",
   "execution_count": 39,
   "metadata": {},
   "outputs": [
    {
     "data": {
      "text/plain": [
       "{'sc_orient': ['orbit_info/sc_orient'],\n",
       " 'atlas_sdp_gps_epoch': ['ancillary_data/atlas_sdp_gps_epoch'],\n",
       " 'data_start_utc': ['ancillary_data/data_start_utc'],\n",
       " 'data_end_utc': ['ancillary_data/data_end_utc'],\n",
       " 'granule_start_utc': ['ancillary_data/granule_start_utc'],\n",
       " 'granule_end_utc': ['ancillary_data/granule_end_utc'],\n",
       " 'start_delta_time': ['ancillary_data/start_delta_time'],\n",
       " 'end_delta_time': ['ancillary_data/end_delta_time'],\n",
       " 'latitude': ['profile_2/high_rate/latitude', 'profile_2/low_rate/latitude']}"
      ]
     },
     "execution_count": 39,
     "metadata": {},
     "output_type": "execute_result"
    }
   ],
   "source": [
    "region_a.build_wanted_var_list(beam_list=['profile_2'],var_list=['latitude'], append=False)\n",
    "region_a.variables"
   ]
  },
  {
   "cell_type": "markdown",
   "metadata": {},
   "source": [
    "#### Test 2B:\n",
    "Add ```latitude``` for profile 3 and overwrite (so profile_2 should be removed)"
   ]
  },
  {
   "cell_type": "code",
   "execution_count": 40,
   "metadata": {},
   "outputs": [
    {
     "data": {
      "text/plain": [
       "{'sc_orient': ['orbit_info/sc_orient'],\n",
       " 'atlas_sdp_gps_epoch': ['ancillary_data/atlas_sdp_gps_epoch'],\n",
       " 'data_start_utc': ['ancillary_data/data_start_utc'],\n",
       " 'data_end_utc': ['ancillary_data/data_end_utc'],\n",
       " 'granule_start_utc': ['ancillary_data/granule_start_utc'],\n",
       " 'granule_end_utc': ['ancillary_data/granule_end_utc'],\n",
       " 'start_delta_time': ['ancillary_data/start_delta_time'],\n",
       " 'end_delta_time': ['ancillary_data/end_delta_time'],\n",
       " 'latitude': ['profile_3/high_rate/latitude', 'profile_3/low_rate/latitude']}"
      ]
     },
     "execution_count": 40,
     "metadata": {},
     "output_type": "execute_result"
    }
   ],
   "source": [
    "region_a.build_wanted_var_list(beam_list=['profile_3'],var_list=['latitude'],append=False)\n",
    "region_a.variables"
   ]
  },
  {
   "cell_type": "markdown",
   "metadata": {},
   "source": [
    "#### Test 3:\n",
    "Add ```latitude``` for all profiles and with keyword ```low_rate``` and append"
   ]
  },
  {
   "cell_type": "code",
   "execution_count": 31,
   "metadata": {},
   "outputs": [
    {
     "data": {
      "text/plain": [
       "{'sc_orient': ['orbit_info/sc_orient'],\n",
       " 'atlas_sdp_gps_epoch': ['ancillary_data/atlas_sdp_gps_epoch'],\n",
       " 'data_start_utc': ['ancillary_data/data_start_utc'],\n",
       " 'data_end_utc': ['ancillary_data/data_end_utc'],\n",
       " 'granule_start_utc': ['ancillary_data/granule_start_utc'],\n",
       " 'granule_end_utc': ['ancillary_data/granule_end_utc'],\n",
       " 'start_delta_time': ['ancillary_data/start_delta_time'],\n",
       " 'end_delta_time': ['ancillary_data/end_delta_time'],\n",
       " 'latitude': ['profile_2/high_rate/latitude',\n",
       "  'profile_2/low_rate/latitude',\n",
       "  'profile_1/low_rate/latitude',\n",
       "  'profile_3/low_rate/latitude']}"
      ]
     },
     "execution_count": 31,
     "metadata": {},
     "output_type": "execute_result"
    }
   ],
   "source": [
    "#region_a.build_wanted_var_list(beam_list=['profile_3'],var_list=['latitude'],keyword_list=['low_rate'],append=True)\n",
    "region_a.build_wanted_var_list(var_list=['latitude'],keyword_list=['low_rate'],append=True)\n",
    "region_a.variables"
   ]
  },
  {
   "cell_type": "markdown",
   "metadata": {},
   "source": [
    "#### Before Test 4:\n",
    "Go back to test 2. Overwrite ```latitude``` for profile 2 only."
   ]
  },
  {
   "cell_type": "code",
   "execution_count": 32,
   "metadata": {},
   "outputs": [
    {
     "data": {
      "text/plain": [
       "{'sc_orient': ['orbit_info/sc_orient'],\n",
       " 'atlas_sdp_gps_epoch': ['ancillary_data/atlas_sdp_gps_epoch'],\n",
       " 'data_start_utc': ['ancillary_data/data_start_utc'],\n",
       " 'data_end_utc': ['ancillary_data/data_end_utc'],\n",
       " 'granule_start_utc': ['ancillary_data/granule_start_utc'],\n",
       " 'granule_end_utc': ['ancillary_data/granule_end_utc'],\n",
       " 'start_delta_time': ['ancillary_data/start_delta_time'],\n",
       " 'end_delta_time': ['ancillary_data/end_delta_time'],\n",
       " 'latitude': ['profile_2/high_rate/latitude', 'profile_2/low_rate/latitude']}"
      ]
     },
     "execution_count": 32,
     "metadata": {},
     "output_type": "execute_result"
    }
   ],
   "source": [
    "region_a.build_wanted_var_list(beam_list=['profile_2'],var_list=['latitude'],append=False)\n",
    "region_a.variables"
   ]
  },
  {
   "cell_type": "markdown",
   "metadata": {},
   "source": [
    "#### Test 5:\n",
    "Append ```latitude``` for profile 3 and ```high_rate``` only"
   ]
  },
  {
   "cell_type": "code",
   "execution_count": 33,
   "metadata": {},
   "outputs": [
    {
     "data": {
      "text/plain": [
       "{'sc_orient': ['orbit_info/sc_orient'],\n",
       " 'atlas_sdp_gps_epoch': ['ancillary_data/atlas_sdp_gps_epoch'],\n",
       " 'data_start_utc': ['ancillary_data/data_start_utc'],\n",
       " 'data_end_utc': ['ancillary_data/data_end_utc'],\n",
       " 'granule_start_utc': ['ancillary_data/granule_start_utc'],\n",
       " 'granule_end_utc': ['ancillary_data/granule_end_utc'],\n",
       " 'start_delta_time': ['ancillary_data/start_delta_time'],\n",
       " 'end_delta_time': ['ancillary_data/end_delta_time'],\n",
       " 'latitude': ['profile_2/high_rate/latitude',\n",
       "  'profile_2/low_rate/latitude',\n",
       "  'profile_1/low_rate/latitude',\n",
       "  'profile_3/high_rate/latitude',\n",
       "  'profile_3/low_rate/latitude']}"
      ]
     },
     "execution_count": 33,
     "metadata": {},
     "output_type": "execute_result"
    }
   ],
   "source": [
    "region_a.build_wanted_var_list(beam_list=['profile_3'],var_list=['latitude'],keyword_list=['low_rate'])\n",
    "region_a.variables"
   ]
  },
  {
   "cell_type": "markdown",
   "metadata": {},
   "source": [
    "#### Test 6:\n",
    "Add ```sc_orient_time``` under ```orbit_info```."
   ]
  },
  {
   "cell_type": "code",
   "execution_count": 34,
   "metadata": {},
   "outputs": [
    {
     "data": {
      "text/plain": [
       "{'sc_orient': ['orbit_info/sc_orient'],\n",
       " 'atlas_sdp_gps_epoch': ['ancillary_data/atlas_sdp_gps_epoch'],\n",
       " 'data_start_utc': ['ancillary_data/data_start_utc'],\n",
       " 'data_end_utc': ['ancillary_data/data_end_utc'],\n",
       " 'granule_start_utc': ['ancillary_data/granule_start_utc'],\n",
       " 'granule_end_utc': ['ancillary_data/granule_end_utc'],\n",
       " 'start_delta_time': ['ancillary_data/start_delta_time'],\n",
       " 'end_delta_time': ['ancillary_data/end_delta_time'],\n",
       " 'latitude': ['profile_2/high_rate/latitude',\n",
       "  'profile_2/low_rate/latitude',\n",
       "  'profile_1/low_rate/latitude',\n",
       "  'profile_3/high_rate/latitude',\n",
       "  'profile_3/low_rate/latitude'],\n",
       " 'sc_orient_time': ['orbit_info/sc_orient_time']}"
      ]
     },
     "execution_count": 34,
     "metadata": {},
     "output_type": "execute_result"
    }
   ],
   "source": [
    "region_a.build_wanted_var_list(keyword_list=['orbit_info'],var_list=['sc_orient_time'])\n",
    "region_a.variables"
   ]
  },
  {
   "cell_type": "markdown",
   "metadata": {},
   "source": [
    "#### Test 7:\n",
    "Add all variables under ```orbit_info``` but path to ```sc_orient_time``` should not be duplicated."
   ]
  },
  {
   "cell_type": "code",
   "execution_count": 35,
   "metadata": {},
   "outputs": [
    {
     "data": {
      "text/plain": [
       "{'sc_orient': ['orbit_info/sc_orient'],\n",
       " 'atlas_sdp_gps_epoch': ['ancillary_data/atlas_sdp_gps_epoch'],\n",
       " 'data_start_utc': ['ancillary_data/data_start_utc'],\n",
       " 'data_end_utc': ['ancillary_data/data_end_utc'],\n",
       " 'granule_start_utc': ['ancillary_data/granule_start_utc'],\n",
       " 'granule_end_utc': ['ancillary_data/granule_end_utc'],\n",
       " 'start_delta_time': ['ancillary_data/start_delta_time'],\n",
       " 'end_delta_time': ['ancillary_data/end_delta_time'],\n",
       " 'latitude': ['profile_2/high_rate/latitude',\n",
       "  'profile_2/low_rate/latitude',\n",
       "  'profile_1/low_rate/latitude',\n",
       "  'profile_3/high_rate/latitude',\n",
       "  'profile_3/low_rate/latitude'],\n",
       " 'sc_orient_time': ['orbit_info/sc_orient_time'],\n",
       " 'crossing_time': ['orbit_info/crossing_time'],\n",
       " 'cycle_number': ['orbit_info/cycle_number'],\n",
       " 'lan': ['orbit_info/lan'],\n",
       " 'orbit_number': ['orbit_info/orbit_number'],\n",
       " 'rgt': ['orbit_info/rgt']}"
      ]
     },
     "execution_count": 35,
     "metadata": {},
     "output_type": "execute_result"
    }
   ],
   "source": [
    "region_a.build_wanted_var_list(keyword_list=['orbit_info'],append=True)\n",
    "region_a.variables"
   ]
  },
  {
   "cell_type": "markdown",
   "metadata": {},
   "source": [
    "#### Test 8:\n",
    "Add all defaults for all beams and all keywords. After this, have to reinitialize ```region_a``` and regenerate variable dictionary to run the above tests again (unless you set ```append=False```). "
   ]
  },
  {
   "cell_type": "code",
   "execution_count": 36,
   "metadata": {},
   "outputs": [],
   "source": [
    "region_a.build_wanted_var_list(defaults=True)"
   ]
  },
  {
   "cell_type": "code",
   "execution_count": null,
   "metadata": {},
   "outputs": [],
   "source": []
  },
  {
   "cell_type": "code",
   "execution_count": null,
   "metadata": {},
   "outputs": [],
   "source": []
  },
  {
   "cell_type": "code",
   "execution_count": null,
   "metadata": {},
   "outputs": [],
   "source": [
    "#variable names + beams/profiles\n",
    "###STILL NEED TO MAKE THE BELOW POSSIBLE IN THE CODE"
   ]
  },
  {
   "cell_type": "markdown",
   "metadata": {},
   "source": [
    "### Setting params and download"
   ]
  },
  {
   "cell_type": "code",
   "execution_count": null,
   "metadata": {},
   "outputs": [],
   "source": [
    "region_a.build_CMR_params()\n",
    "region_a.build_reqconfig_params('download')"
   ]
  },
  {
   "cell_type": "code",
   "execution_count": null,
   "metadata": {},
   "outputs": [],
   "source": [
    "region_a.build_subset_params(**{'Coverage':var_dict})\n",
    "region_a.subsetparams"
   ]
  },
  {
   "cell_type": "code",
   "execution_count": null,
   "metadata": {},
   "outputs": [],
   "source": [
    "#Identical to above block, but enters the keywords with a different style\n",
    "region_a.build_subset_params(Coverage=var_dict)\n",
    "region_a.subsetparams"
   ]
  },
  {
   "cell_type": "code",
   "execution_count": null,
   "metadata": {},
   "outputs": [],
   "source": [
    "region_a.order_granules(session, verbose=True)"
   ]
  },
  {
   "cell_type": "code",
   "execution_count": null,
   "metadata": {},
   "outputs": [],
   "source": [
    "region_a.download_granules(session,'.')"
   ]
  },
  {
   "cell_type": "markdown",
   "metadata": {},
   "source": [
    "### Examine downloaded subset data file \n"
   ]
  },
  {
   "cell_type": "code",
   "execution_count": null,
   "metadata": {},
   "outputs": [],
   "source": [
    "fn = '166458094/processed_ATL09_20190222003738_08490201_002_01.h5'"
   ]
  },
  {
   "cell_type": "markdown",
   "metadata": {},
   "source": [
    "#### Check the downloaded dataset\n",
    "Take ```latitude``` for example,"
   ]
  },
  {
   "cell_type": "code",
   "execution_count": null,
   "metadata": {},
   "outputs": [],
   "source": [
    "varname = 'latitude'\n",
    "#varname = 'sc_orient'\n",
    "\n",
    "varlist = []\n",
    "def IS2h5walk(vname, h5node):\n",
    "    if isinstance(h5node, h5py.Dataset):\n",
    "        varlist.append(vname)\n",
    "    return \n",
    "\n",
    "with h5py.File(fn,'r') as h5pt:\n",
    "    h5pt.visititems(IS2h5walk)\n",
    "    \n",
    "for tvar in varlist:\n",
    "    vpath,vn = os.path.split(tvar)\n",
    "    if vn==varname: print(tvar) "
   ]
  },
  {
   "cell_type": "markdown",
   "metadata": {},
   "source": [
    "#### Compare the varaible ```latitude``` in the original data and the subsetted dat"
   ]
  },
  {
   "cell_type": "code",
   "execution_count": null,
   "metadata": {},
   "outputs": [],
   "source": [
    "region_a.variables['latitude']"
   ]
  },
  {
   "cell_type": "code",
   "execution_count": null,
   "metadata": {},
   "outputs": [],
   "source": [
    "', '.join(x) for x in ['gt1l','gt1r']"
   ]
  },
  {
   "cell_type": "code",
   "execution_count": null,
   "metadata": {},
   "outputs": [],
   "source": []
  },
  {
   "cell_type": "code",
   "execution_count": null,
   "metadata": {},
   "outputs": [],
   "source": []
  },
  {
   "cell_type": "markdown",
   "metadata": {},
   "source": [
    "## Look at variables from various datasets to generalize code"
   ]
  },
  {
   "cell_type": "code",
   "execution_count": null,
   "metadata": {},
   "outputs": [],
   "source": [
    "region_06 = ipd.Icesat2Data('ATL06',[-55, 68, -48, 71],['2019-02-22','2019-02-28'], \\\n",
    "                           start_time='00:00:00', end_time='23:59:59', version='2')"
   ]
  },
  {
   "cell_type": "code",
   "execution_count": null,
   "metadata": {},
   "outputs": [],
   "source": [
    "region_07 = ipd.Icesat2Data('ATL07',[-55, 68, -48, 71],['2019-02-22','2019-02-28'], \\\n",
    "                           start_time='00:00:00', end_time='23:59:59', version='2')"
   ]
  },
  {
   "cell_type": "code",
   "execution_count": null,
   "metadata": {},
   "outputs": [],
   "source": [
    "region_08 = ipd.Icesat2Data('ATL08',[-55, 68, -48, 71],['2019-02-22','2019-02-28'], \\\n",
    "                           start_time='00:00:00', end_time='23:59:59', version='2')"
   ]
  },
  {
   "cell_type": "code",
   "execution_count": null,
   "metadata": {},
   "outputs": [],
   "source": [
    "region_09 = ipd.Icesat2Data('ATL09',[-55, 68, -48, 71],['2019-02-22','2019-02-28'], \\\n",
    "                           start_time='00:00:00', end_time='23:59:59', version='2')"
   ]
  },
  {
   "cell_type": "code",
   "execution_count": null,
   "metadata": {},
   "outputs": [],
   "source": [
    "region_10 = ipd.Icesat2Data('ATL10',[-55, 68, -48, 71],['2019-02-22','2019-02-28'], \\\n",
    "                           start_time='00:00:00', end_time='23:59:59', version='2')"
   ]
  },
  {
   "cell_type": "code",
   "execution_count": null,
   "metadata": {},
   "outputs": [],
   "source": [
    "region_12 = ipd.Icesat2Data('ATL12',[-55, 68, -48, 71],['2019-02-22','2019-02-28'], \\\n",
    "                           start_time='00:00:00', end_time='23:59:59', version='2')"
   ]
  },
  {
   "cell_type": "code",
   "execution_count": null,
   "metadata": {},
   "outputs": [],
   "source": [
    "session=region_a.earthdata_login('liuzheng','liuzheng@apl.uw.edu')"
   ]
  },
  {
   "cell_type": "code",
   "execution_count": null,
   "metadata": {},
   "outputs": [],
   "source": [
    "session=region_06.earthdata_login('jessica.scheick','jessica.scheick@maine.edu')"
   ]
  },
  {
   "cell_type": "code",
   "execution_count": null,
   "metadata": {},
   "outputs": [],
   "source": [
    "dset = region_10\n",
    "dset.show_custom_options(session,dictview=True)"
   ]
  },
  {
   "cell_type": "code",
   "execution_count": null,
   "metadata": {},
   "outputs": [],
   "source": []
  },
  {
   "cell_type": "code",
   "execution_count": null,
   "metadata": {},
   "outputs": [],
   "source": [
    "## show the maximum depth for variables in dataset\n",
    "for dset in [region_06, region_07, region_08, region_09, region_10, region_12]:\n",
    "    dset._get_custom_options(session)\n",
    "    max_dep = 0\n",
    "    for vn in dset._cust_options['variables']:\n",
    "        wrds = vn.split('/')\n",
    "        if len(wrds)-1> max_dep: max_dep = len(wrds)-1\n",
    "    print(dset.dataset,max_dep)"
   ]
  },
  {
   "cell_type": "code",
   "execution_count": null,
   "metadata": {},
   "outputs": [],
   "source": [
    "vgrp, paths = region_10._parse_var_list(region_10._cust_options['variables'])\n",
    "import pprint\n",
    "pprint.pprint(vgrp)"
   ]
  },
  {
   "cell_type": "code",
   "execution_count": null,
   "metadata": {},
   "outputs": [],
   "source": [
    "vgrp.keys()"
   ]
  },
  {
   "cell_type": "code",
   "execution_count": null,
   "metadata": {},
   "outputs": [],
   "source": []
  },
  {
   "cell_type": "code",
   "execution_count": null,
   "metadata": {},
   "outputs": [],
   "source": []
  },
  {
   "cell_type": "code",
   "execution_count": null,
   "metadata": {
    "scrolled": true
   },
   "outputs": [],
   "source": [
    "for dset in [region_06, region_07, region_08, region_09, region_10, region_12]:\n",
    "    dset.show_custom_options(session, dictview=True)"
   ]
  },
  {
   "cell_type": "code",
   "execution_count": null,
   "metadata": {},
   "outputs": [],
   "source": []
  },
  {
   "cell_type": "code",
   "execution_count": null,
   "metadata": {},
   "outputs": [],
   "source": [
    "d=6\n",
    "for dset in [region_06, region_07, region_08, region_09, region_10, region_12]:\n",
    "    vgrp, paths = dset._parse_var_list(dset._cust_options['variables'])\n",
    "    print(d)\n",
    "    d=d+1\n",
    "    for p in paths:\n",
    "        print(np.unique(np.array(p)))\n",
    "    print(np.unique(np.array(vgrp.keys())))"
   ]
  },
  {
   "cell_type": "code",
   "execution_count": null,
   "metadata": {},
   "outputs": [],
   "source": []
  }
 ],
 "metadata": {
  "kernelspec": {
   "display_name": "Python 3",
   "language": "python",
   "name": "python3"
  },
  "language_info": {
   "codemirror_mode": {
    "name": "ipython",
    "version": 3
   },
   "file_extension": ".py",
   "mimetype": "text/x-python",
   "name": "python",
   "nbconvert_exporter": "python",
   "pygments_lexer": "ipython3",
   "version": "3.8.2"
  }
 },
 "nbformat": 4,
 "nbformat_minor": 4
}
